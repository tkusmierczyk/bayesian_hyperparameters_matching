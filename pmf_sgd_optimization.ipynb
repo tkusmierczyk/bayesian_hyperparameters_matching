{
 "cells": [
  {
   "cell_type": "markdown",
   "metadata": {
    "colab_type": "text",
    "id": "BAdp1h4FSIgQ"
   },
   "source": [
    "# PMF: matching requested expectation and variance using SGD"
   ]
  },
  {
   "cell_type": "markdown",
   "metadata": {},
   "source": [
    "The notebook demonstrates how priors matching requested values of prior predictive expectation and/or variance can be found for Poisson Matrix Factorization model using SGD."
   ]
  },
  {
   "cell_type": "markdown",
   "metadata": {
    "colab_type": "text",
    "id": "RBAeIwOMrYk8"
   },
   "source": [
    "## Setup \n"
   ]
  },
  {
   "cell_type": "code",
   "execution_count": 1,
   "metadata": {},
   "outputs": [],
   "source": [
    "from __future__ import absolute_import, division, print_function, unicode_literals"
   ]
  },
  {
   "cell_type": "code",
   "execution_count": 2,
   "metadata": {
    "attributes": {
     "classes": [
      "py"
     ],
     "id": ""
    },
    "colab": {},
    "colab_type": "code",
    "id": "N-2lSGiHqEfq"
   },
   "outputs": [
    {
     "name": "stdout",
     "output_type": "stream",
     "text": [
      "\n",
      "WARNING: The TensorFlow contrib module will not be included in TensorFlow 2.0.\n",
      "For more information, please see:\n",
      "  * https://github.com/tensorflow/community/blob/master/rfcs/20180907-contrib-sunset.md\n",
      "  * https://github.com/tensorflow/addons\n",
      "If you depend on functionality not listed there, please file an issue.\n",
      "\n"
     ]
    }
   ],
   "source": [
    "import tensorflow as tf\n",
    "tf.enable_eager_execution()\n",
    "import tensorflow_probability as tfp\n",
    "from tensorflow_probability import distributions as tfd\n",
    "tfe = tf.contrib.eager"
   ]
  },
  {
   "cell_type": "code",
   "execution_count": 3,
   "metadata": {},
   "outputs": [
    {
     "data": {
      "text/plain": [
       "True"
      ]
     },
     "execution_count": 3,
     "metadata": {},
     "output_type": "execute_result"
    }
   ],
   "source": [
    "tf.executing_eagerly()"
   ]
  },
  {
   "cell_type": "code",
   "execution_count": 4,
   "metadata": {
    "attributes": {
     "classes": [
      "py"
     ],
     "id": ""
    },
    "colab": {},
    "colab_type": "code",
    "id": "9gsI54pbqEfj"
   },
   "outputs": [],
   "source": [
    "import time\n",
    "import numpy as np\n",
    "import pandas as pd"
   ]
  },
  {
   "cell_type": "code",
   "execution_count": 5,
   "metadata": {},
   "outputs": [],
   "source": [
    "from aux import *"
   ]
  },
  {
   "cell_type": "markdown",
   "metadata": {},
   "source": [
    "# Configuration"
   ]
  },
  {
   "cell_type": "code",
   "execution_count": 6,
   "metadata": {},
   "outputs": [
    {
     "name": "stdout",
     "output_type": "stream",
     "text": [
      "parsing: <-f>\n"
     ]
    }
   ],
   "source": [
    "args = parse_script_args()"
   ]
  },
  {
   "cell_type": "code",
   "execution_count": 7,
   "metadata": {},
   "outputs": [],
   "source": [
    "np.random.seed(int(time.time()))\n",
    "EID = np.random.randint(10000)"
   ]
  },
  {
   "cell_type": "code",
   "execution_count": 8,
   "metadata": {},
   "outputs": [],
   "source": [
    "SEED = args.get(\"SEED\", 129)\n",
    "np.random.seed(SEED)"
   ]
  },
  {
   "cell_type": "code",
   "execution_count": 9,
   "metadata": {},
   "outputs": [],
   "source": [
    "N, M = 1, 1\n",
    "K = args.get(\"K\", 25) # factorization dimensions"
   ]
  },
  {
   "cell_type": "code",
   "execution_count": 10,
   "metadata": {},
   "outputs": [],
   "source": [
    "NITER = args.get(\"NITER\", 20000) + 1 # how many iterations\n",
    "LR = args.get(\"LR\", 0.1) # learning rate\n",
    "LAMBDA = args.get(\"LAMBDA\", 0.0) # regularization"
   ]
  },
  {
   "cell_type": "code",
   "execution_count": 11,
   "metadata": {},
   "outputs": [],
   "source": [
    "# requested values\n",
    "DESIRED_EXPECTATION = args.get(\"E\", 25)\n",
    "DESIRED_VARIANCE = args.get(\"V\", 550)\n",
    "\n",
    "# discrepancy measure: care about E=only expectation, V=only variance, EV=both\n",
    "D = args.get(\"D\", \"V\") \n",
    "if D==\"E\": DESIRED_VARIANCE = -1\n",
    "if D==\"V\": DESIRED_EXPECTATION = -1\n",
    "    \n",
    "# (mean (tf.reduce_mean) should be taken if more than one cell used)\n",
    "discrepancy_expectation = lambda expectation, variance: (expectation-DESIRED_EXPECTATION)**2 \n",
    "discrepancy_variance    = lambda expectation, variance: (variance-DESIRED_VARIANCE)**2 \n",
    "discrepancy_exp_var     = lambda expectation, variance: discrepancy_variance(expectation, variance) + \\\n",
    "                                                        discrepancy_expectation(expectation, variance)\n",
    "\n",
    "NAME2DISCREPANCY = {\"E\":  discrepancy_expectation, \"EV\": discrepancy_exp_var, \"V\": discrepancy_variance}\n",
    "discrepancy = NAME2DISCREPANCY[D]"
   ]
  },
  {
   "cell_type": "code",
   "execution_count": 12,
   "metadata": {},
   "outputs": [],
   "source": [
    "# sampling strategy\n",
    "SAMPLING = args.get(\"SAMPLING\", 0)\n",
    "if SAMPLING==0 and LAMBDA<=0.0:\n",
    "    if D==\"E\": SAMPLING = 2 # if V is not used\n",
    "    if D==\"V\": SAMPLING = 3 # if E is not used\n",
    "\n",
    "NSAMPLES_LATENT = args.get(\"S\", 1000) # how many samples of latent variables\n",
    "NSAMPLES_OUTPUT = args.get(\"SY\", 10)  # how many samples of outputs for each latent"
   ]
  },
  {
   "cell_type": "code",
   "execution_count": 13,
   "metadata": {},
   "outputs": [],
   "source": [
    "# optimization initial values (always in terms of abcd parametrization)\n",
    "\n",
    "a0, b0, c0, d0 = args.get(\"a\", None), args.get(\"b\", None), args.get(\"c\", None), args.get(\"d\", None) # random init\n",
    "#a0, b0, c0, d0 = args.get(\"a\", 0.1), args.get(\"b\", 0.1), args.get(\"c\", 0.1), args.get(\"d\", 0.1)\n",
    "#a0=0.0001; b0=0.001; c0=0.010; d0=0.100 # Crashing initialization!\n",
    "\n",
    "# if not set choose randomly mu-s and sigma-s from 10**e, e in [1e-3, 1e3]\n",
    "if a0 is None or a0<=0:\n",
    "    mut = 10**(np.random.random()*6.0-3.0) \n",
    "    sigmat = 10**(np.random.random()*6.0-3.0) \n",
    "    mub = 10**(np.random.random()*6.0-3.0) \n",
    "    sigmab = 10**(np.random.random()*6.0-3.0) \n",
    "    a0,b0 = (mut*mut)/(sigmat*sigmat), mut/(sigmat*sigmat)\n",
    "    c0,d0 = (mub*mub)/(sigmab*sigmab), mub/(sigmab*sigmab)\n",
    "    print(\"Random initialization: mut=%.3f st=%.3f mub=%.3f sb=%.3f\" % (mut, sigmat, mub, sigmab))\n",
    "\n",
    "# which parameter space\n",
    "PARAMETRIZATION = args.get(\"PARAMETRIZATION\", \"musigma\") # musigma/abcd\n",
    "# how to transform from unbounded space to a bounded one and vice versa\n",
    "VARIABLES_TRANSFORMATION = args.get(\"TRANSFORMATION\", \"softplus\") # softplus/exp\n",
    "# which of the parameters to train\n",
    "TRAINABLE = args.get(\"TRAIN\", \"0123\") "
   ]
  },
  {
   "cell_type": "code",
   "execution_count": 14,
   "metadata": {},
   "outputs": [
    {
     "name": "stdout",
     "output_type": "stream",
     "text": [
      "DESCRIPTION: a=0.100 b=0.100 c=0.100 d=0.100 D=V E=-1 V=550 EID=4677 K=25 LAMBDA=0.0 LR=0.1 M=1 N=1 NITER=10001 S_LATENT=1000 S_OUTPUT=10 PARAMETRIZATION=musigma SAMPLING=3 SEED=129 TT=0123 VARIABLES_TRANSFORMATION=softplus\n"
     ]
    }
   ],
   "source": [
    "DESCRIPTION = dict2str(globals()).replace(\"NSAMPLES\", \"S\").replace(\"DESIRED_\", \"\").replace(\"EXPECTATION\", \"E\").replace(\"VARIANCE\", \"V\").replace(\"TRAINABLE\", \"TT\")\n",
    "DESCRIPTION = \"a=%.3f b=%.3f c=%.3f d=%.3f %s\" % (a0,b0,c0,d0,DESCRIPTION)\n",
    "print(\"DESCRIPTION: %s\" % DESCRIPTION)\n",
    "\n",
    "ID = str(args.get(\"ID\", DESCRIPTION))"
   ]
  },
  {
   "cell_type": "markdown",
   "metadata": {},
   "source": [
    "# Parameterization and transformation"
   ]
  },
  {
   "cell_type": "markdown",
   "metadata": {},
   "source": [
    "We consider two problem parametrizations: either abcd or mu-sigma.\n",
    "Also, we need to perform a transformation from unconstrained space."
   ]
  },
  {
   "cell_type": "code",
   "execution_count": 15,
   "metadata": {},
   "outputs": [],
   "source": [
    "def abcd2musigma(a, b, c, d, env=tf):    \n",
    "    return a/b, env.sqrt(a)/b, c/d, env.sqrt(c)/d\n",
    "  \n",
    "\n",
    "def musigma2abcd(mut, sigmat, mub, sigmab):    \n",
    "    a,b = (mut*mut)/(sigmat*sigmat), mut/(sigmat*sigmat)\n",
    "    c,d = (mub*mub)/(sigmab*sigmab), mub/(sigmab*sigmab)\n",
    "    return a, b, c, d\n",
    "\n",
    "\n",
    "def abcd2abcd(a, b, c, d, env=tf):    \n",
    "    return a,b,c,d"
   ]
  },
  {
   "cell_type": "code",
   "execution_count": 16,
   "metadata": {},
   "outputs": [
    {
     "name": "stdout",
     "output_type": "stream",
     "text": [
      "forward_transformation:=softplus backward_transformation:=softplus_inverse\n",
      "forward_parametrization:=musigma2abcd backward_parametrization:=abcd2musigma \n"
     ]
    }
   ],
   "source": [
    "from tensorflow.contrib.distributions import softplus_inverse\n",
    "#softplus_inverse = lambda v: tf.log(tf.exp(v)-1.0)\n",
    "NAME2TRANSFORMATION = {\"softplus\": (tf.nn.softplus, softplus_inverse), \"exp\": (tf.exp, np.log)}\n",
    "forward_transformation, backward_transformation = NAME2TRANSFORMATION[VARIABLES_TRANSFORMATION]\n",
    "\n",
    "print(\"forward_transformation:=%s backward_transformation:=%s\" % \n",
    "      (forward_transformation.__name__, backward_transformation.__name__))\n",
    "#print(\"  transformation prec:\", np.array(backward_transformation(forward_transformation(a0))-a0))\n",
    "\n",
    "NAME2PARAMETRIZATION = {\"abcd\": (abcd2abcd, abcd2abcd), \"musigma\": (musigma2abcd, abcd2musigma)}\n",
    "forward_parametrization, backward_parametrization = NAME2PARAMETRIZATION[PARAMETRIZATION]\n",
    "\n",
    "print(\"forward_parametrization:=%s backward_parametrization:=%s \" % \n",
    "      (forward_parametrization.__name__, backward_parametrization.__name__))\n",
    "#print(\"  parametrization prec:\", forward_parametrization(*backward_parametrization(a0,b0,c0,d0))-np.array([a0,b0,c0,d0]))\n",
    "#assert (np.round(inverse_parametrization(*parametrization(a0,b0,c0,d0))-np.array([a0,b0,c0,d0]),2) ==0).all()"
   ]
  },
  {
   "cell_type": "markdown",
   "metadata": {},
   "source": [
    "# Choose expectation & variance estimators"
   ]
  },
  {
   "cell_type": "code",
   "execution_count": 17,
   "metadata": {},
   "outputs": [
    {
     "name": "stdout",
     "output_type": "stream",
     "text": [
      "empirical_moments := empirical_moments_V_decoupled\n"
     ]
    }
   ],
   "source": [
    "from pmf_model import create_moments_estimator\n",
    "theoretical_moments = create_moments_estimator(K=25, ESTIMATOR_NO=-1, N=1, M=1)\n",
    "empirical_moments   = create_moments_estimator(K=25, ESTIMATOR_NO=SAMPLING, N=1, M=1)\n",
    "print(\"empirical_moments := %s\" % empirical_moments.__name__)"
   ]
  },
  {
   "cell_type": "code",
   "execution_count": 18,
   "metadata": {},
   "outputs": [
    {
     "name": "stdout",
     "output_type": "stream",
     "text": [
      "Initialization: a=0.100\tb=0.100\tc=0.100\td=0.100\t=> E=25.0000 \tV=3025.0000\n"
     ]
    }
   ],
   "source": [
    "e, v = theoretical_moments(a0, b0, c0, d0)\n",
    "print(\"Initialization: a=%.3f\\tb=%.3f\\tc=%.3f\\td=%.3f\\t=> E=%.4f \\tV=%.4f\" % (a0, b0, c0, d0, e, v))"
   ]
  },
  {
   "cell_type": "markdown",
   "metadata": {
    "colab_type": "text",
    "id": "49UKjZZLR2Nh"
   },
   "source": [
    "# Find hyperparameters matching desired values"
   ]
  },
  {
   "cell_type": "code",
   "execution_count": 19,
   "metadata": {},
   "outputs": [],
   "source": [
    "tf.random.set_random_seed(SEED)\n",
    "np.random.seed(SEED)"
   ]
  },
  {
   "cell_type": "code",
   "execution_count": 20,
   "metadata": {
    "colab": {},
    "colab_type": "code",
    "id": "Yn6hR1_LZ4FR"
   },
   "outputs": [
    {
     "name": "stdout",
     "output_type": "stream",
     "text": [
      "WARNING:tensorflow:From /home/kusmitom/.local/lib/python3.6/site-packages/tensorflow/python/ops/resource_variable_ops.py:642: colocate_with (from tensorflow.python.framework.ops) is deprecated and will be removed in a future version.\n",
      "Instructions for updating:\n",
      "Colocations handled automatically by placer.\n",
      "Initialization: i0=1.000, i1=3.162, i2=1.000, i3=3.162\n",
      "Initialization: p0u=0.541, p1u=3.119, p2u=0.541, p3u=3.119\n"
     ]
    }
   ],
   "source": [
    "# init (unbounded) params\n",
    "float1 = lambda v: tf.Variable(float(v), dtype=tf.float64)\n",
    "float2 = lambda v: tf.Variable(v, dtype=tf.float64)\n",
    "\n",
    "a0tf, b0tf, c0tf, d0tf = float2(a0), float2(b0), float2(c0), float2(d0)\n",
    "i0, i1, i2, i3 = backward_parametrization(a0tf, b0tf, c0tf, d0tf, env=tf)\n",
    "#i0, i1, i2, i3 = float1(i0), float1(i1), float1(i2), float1(i3)\n",
    "\n",
    "p0u = tf.Variable(backward_transformation(i0), name=\"0\", dtype=tf.float64) \n",
    "p1u = tf.Variable(backward_transformation(i1), name=\"1\", dtype=tf.float64) \n",
    "p2u = tf.Variable(backward_transformation(i2), name=\"2\", dtype=tf.float64) \n",
    "p3u = tf.Variable(backward_transformation(i3), name=\"3\", dtype=tf.float64) \n",
    "\n",
    "print(\"Initialization: i0=%.3f, i1=%.3f, i2=%.3f, i3=%.3f\" % \n",
    "      (i0.numpy(), i1.numpy(), i2.numpy(), i3.numpy()))\n",
    "print(\"Initialization: p0u=%.3f, p1u=%.3f, p2u=%.3f, p3u=%.3f\" % \n",
    "      (p0u.numpy(), p1u.numpy(), p2u.numpy(), p3u.numpy()))"
   ]
  },
  {
   "cell_type": "code",
   "execution_count": 21,
   "metadata": {},
   "outputs": [],
   "source": [
    "trainable_variables = [var for var in [p0u, p1u, p2u, p3u] if var.name.split(\":\")[0] in TRAINABLE]\n",
    "optimizer = tf.train.AdamOptimizer(learning_rate=LR)\n",
    "start = time.time()\n",
    "computation_time = 0.0\n",
    "results = []"
   ]
  },
  {
   "cell_type": "code",
   "execution_count": 22,
   "metadata": {},
   "outputs": [],
   "source": [
    "best_loss = float(\"inf\")\n",
    "best_a, best_b, best_c, best_d = -1.0, -1.0, -1.0, -1.0\n",
    "best_E, best_V = -1.0, -1.0"
   ]
  },
  {
   "cell_type": "code",
   "execution_count": 23,
   "metadata": {
    "colab": {},
    "colab_type": "code",
    "id": "8KG3bvR1PTPP"
   },
   "outputs": [
    {
     "name": "stdout",
     "output_type": "stream",
     "text": [
      "[0.07][0.12] best:\tloss:2994833.8\thyperparams: a=0.10000 b=0.10000 c=0.10000 d=0.10000 => E=25.000 V=3025.000\n",
      "[0.07][0.12] 0/10001,\tloss:2994833.8\thyperparams: a=0.10000 b=0.10000 c=0.10000 d=0.10000\n",
      " empirical: E: 24.32 V: 2280.56\n",
      " theoretic: E: 25.00 V: 3025.00\n",
      " desired: E: -1.00 V: 550.00\n",
      "[0.11][0.16] best:\tloss:2994833.8\thyperparams: a=0.10000 b=0.10000 c=0.10000 d=0.10000 => E=25.000 V=3025.000\n",
      "[0.11][0.16] 1/10001,\tloss:6011538.4\thyperparams: a=0.09355 b=0.09973 c=0.09355 d=0.09973\n",
      " empirical: E: 21.08 V: 3001.84\n",
      " theoretic: E: 21.99 V: 2646.94\n",
      " desired: E: -1.00 V: 550.00\n",
      "[0.16][0.21] best:\tloss:2994833.8\thyperparams: a=0.10000 b=0.10000 c=0.10000 d=0.10000 => E=25.000 V=3025.000\n",
      "[0.16][0.21] 2/10001,\tloss:6820162.2\thyperparams: a=0.08707 b=0.09915 c=0.08710 d=0.09918\n",
      " empirical: E: 19.67 V: 3161.54\n",
      " theoretic: E: 19.28 V: 2321.86\n",
      " desired: E: -1.00 V: 550.00\n",
      "[0.20][0.25] best:\tloss:2994833.8\thyperparams: a=0.10000 b=0.10000 c=0.10000 d=0.10000 => E=25.000 V=3025.000\n",
      "[0.20][0.25] 3/10001,\tloss:3731655.1\thyperparams: a=0.08120 b=0.09877 c=0.09287 d=0.10562\n",
      " empirical: E: 20.78 V: 2481.75\n",
      " theoretic: E: 18.07 V: 2051.70\n",
      " desired: E: -1.00 V: 550.00\n",
      "[0.25][0.30] best:\tloss:2994833.8\thyperparams: a=0.10000 b=0.10000 c=0.10000 d=0.10000 => E=25.000 V=3025.000\n",
      "[0.25][0.30] 4/10001,\tloss:3985360.3\thyperparams: a=0.07593 b=0.09852 c=0.09867 d=0.11226\n",
      " empirical: E: 18.54 V: 2546.34\n",
      " theoretic: E: 16.93 V: 1815.39\n",
      " desired: E: -1.00 V: 550.00\n",
      "[0.29][0.35] best:\tloss:2994833.8\thyperparams: a=0.10000 b=0.10000 c=0.10000 d=0.10000 => E=25.000 V=3025.000\n",
      "[0.29][0.35] 5/10001,\tloss:11012809.8\thyperparams: a=0.07396 b=0.10046 c=0.11142 d=0.12323\n",
      " empirical: E: 14.44 V: 3868.56\n",
      " theoretic: E: 16.64 V: 1610.16\n",
      " desired: E: -1.00 V: 550.00\n",
      "[0.34][0.39] best:\tloss:158545.5\thyperparams: a=0.07963 b=0.10769 c=0.12916 d=0.13705 => E=17.421 V=1444.171\n",
      "[0.34][0.39] 6/10001,\tloss:158545.5\thyperparams: a=0.07963 b=0.10769 c=0.12916 d=0.13705\n",
      " empirical: E: 16.98 V: 948.18\n",
      " theoretic: E: 17.42 V: 1444.17\n",
      " desired: E: -1.00 V: 550.00\n",
      "[0.38][0.44] best:\tloss:158545.5\thyperparams: a=0.07963 b=0.10769 c=0.12916 d=0.13705 => E=17.421 V=1444.171\n",
      "[0.38][0.44] 7/10001,\tloss:353226.5\thyperparams: a=0.08498 b=0.11458 c=0.14680 d=0.15046\n",
      " empirical: E: 18.02 V: 1144.33\n",
      " theoretic: E: 18.09 V: 1310.75\n",
      " desired: E: -1.00 V: 550.00\n",
      "[0.43][0.48] best:\tloss:89112.2\thyperparams: a=0.08992 b=0.12111 c=0.16423 d=0.16348 => E=18.647 V=1199.915\n",
      "[0.43][0.48] 8/10001,\tloss:89112.2\thyperparams: a=0.08992 b=0.12111 c=0.16423 d=0.16348\n",
      " empirical: E: 17.51 V: 848.52\n",
      " theoretic: E: 18.65 V: 1199.91\n",
      " desired: E: -1.00 V: 550.00\n",
      "[0.47][0.53] best:\tloss:71048.2\thyperparams: a=0.09444 b=0.12723 c=0.18146 d=0.17611 => E=19.120 V=1107.908\n",
      "[0.47][0.53] 9/10001,\tloss:71048.2\thyperparams: a=0.09444 b=0.12723 c=0.18146 d=0.17611\n",
      " empirical: E: 21.12 V: 816.55\n",
      " theoretic: E: 19.12 V: 1107.91\n",
      " desired: E: -1.00 V: 550.00\n",
      "[4.68][4.75] best:\tloss:0.0\thyperparams: a=0.16111 b=0.22162 c=0.49441 d=0.38551 => E=23.308 V=474.951\n",
      "[4.68][4.75] 100/10001,\tloss:2172.6\thyperparams: a=0.16535 b=0.21992 c=0.51113 d=0.38692\n",
      " empirical: E: 24.76 V: 503.39\n",
      " theoretic: E: 24.83 V: 514.01\n",
      " desired: E: -1.00 V: 550.00\n",
      "[10.17][10.25] best:\tloss:0.0\thyperparams: a=0.16111 b=0.22162 c=0.49441 d=0.38551 => E=23.308 V=474.951\n",
      "[10.17][10.25] 200/10001,\tloss:572.8\thyperparams: a=0.18032 b=0.23038 c=0.52314 d=0.39206\n",
      " empirical: E: 25.82 V: 526.07\n",
      " theoretic: E: 26.11 V: 518.54\n",
      " desired: E: -1.00 V: 550.00\n",
      "[14.81][14.91] best:\tloss:0.0\thyperparams: a=0.16111 b=0.22162 c=0.49441 d=0.38551 => E=23.308 V=474.951\n",
      "[14.81][14.91] 300/10001,\tloss:4261.7\thyperparams: a=0.20359 b=0.24251 c=0.56909 d=0.40789\n",
      " empirical: E: 29.36 V: 484.72\n",
      " theoretic: E: 29.28 V: 554.02\n",
      " desired: E: -1.00 V: 550.00\n",
      "[20.65][20.75] best:\tloss:0.0\thyperparams: a=0.16111 b=0.22162 c=0.49441 d=0.38551 => E=23.308 V=474.951\n",
      "[20.65][20.75] 400/10001,\tloss:55.7\thyperparams: a=0.20328 b=0.24703 c=0.56655 d=0.41274\n",
      " empirical: E: 26.88 V: 557.46\n",
      " theoretic: E: 28.24 V: 518.45\n",
      " desired: E: -1.00 V: 550.00\n",
      "[25.31][25.43] best:\tloss:0.0\thyperparams: a=0.16111 b=0.22162 c=0.49441 d=0.38551 => E=23.308 V=474.951\n",
      "[25.31][25.43] 500/10001,\tloss:1240.2\thyperparams: a=0.20327 b=0.24402 c=0.57881 d=0.41440\n",
      " empirical: E: 28.13 V: 514.78\n",
      " theoretic: E: 29.09 V: 541.69\n",
      " desired: E: -1.00 V: 550.00\n",
      "[30.17][30.30] best:\tloss:0.0\thyperparams: a=0.16111 b=0.22162 c=0.49441 d=0.38551 => E=23.308 V=474.951\n",
      "[30.17][30.30] 600/10001,\tloss:1083.6\thyperparams: a=0.20369 b=0.24204 c=0.58619 d=0.41475\n",
      " empirical: E: 28.74 V: 517.08\n",
      " theoretic: E: 29.74 V: 559.91\n",
      " desired: E: -1.00 V: 550.00\n",
      "[35.72][35.87] best:\tloss:0.0\thyperparams: a=0.16111 b=0.22162 c=0.49441 d=0.38551 => E=23.308 V=474.951\n",
      "[35.72][35.87] 700/10001,\tloss:6201.3\thyperparams: a=0.22093 b=0.25441 c=0.60635 d=0.42502\n",
      " empirical: E: 29.55 V: 628.75\n",
      " theoretic: E: 30.97 V: 554.40\n",
      " desired: E: -1.00 V: 550.00\n",
      "[43.67][43.83] best:\tloss:0.0\thyperparams: a=0.16111 b=0.22162 c=0.49441 d=0.38551 => E=23.308 V=474.951\n",
      "[43.67][43.83] 800/10001,\tloss:23.0\thyperparams: a=0.20446 b=0.24621 c=0.61117 d=0.43047\n",
      " empirical: E: 28.37 V: 545.20\n",
      " theoretic: E: 29.48 V: 534.43\n",
      " desired: E: -1.00 V: 550.00\n",
      "[51.91][52.09] best:\tloss:0.0\thyperparams: a=0.16111 b=0.22162 c=0.49441 d=0.38551 => E=23.308 V=474.951\n",
      "[51.91][52.09] 900/10001,\tloss:125.4\thyperparams: a=0.20618 b=0.24537 c=0.61953 d=0.43151\n",
      " empirical: E: 30.69 V: 561.20\n",
      " theoretic: E: 30.16 V: 550.24\n",
      " desired: E: -1.00 V: 550.00\n",
      "[60.73][60.93] best:\tloss:0.0\thyperparams: a=0.16111 b=0.22162 c=0.49441 d=0.38551 => E=23.308 V=474.951\n",
      "[60.73][60.93] 1000/10001,\tloss:6795.9\thyperparams: a=0.22112 b=0.25833 c=0.61016 d=0.43178\n",
      " empirical: E: 30.76 V: 467.56\n",
      " theoretic: E: 30.24 V: 526.70\n",
      " desired: E: -1.00 V: 550.00\n",
      "[153.39][153.79] best:\tloss:0.0\thyperparams: a=0.16111 b=0.22162 c=0.49441 d=0.38551 => E=23.308 V=474.951\n",
      "[153.39][153.79] 2000/10001,\tloss:237.6\thyperparams: a=0.10140 b=0.17273 c=1.31650 d=0.72515\n",
      " empirical: E: 26.54 V: 565.41\n",
      " theoretic: E: 26.64 V: 540.97\n",
      " desired: E: -1.00 V: 550.00\n",
      "[198.58][199.09] best:\tloss:0.0\thyperparams: a=0.16111 b=0.22162 c=0.49441 d=0.38551 => E=23.308 V=474.951\n",
      "[198.58][199.09] 3000/10001,\tloss:89.8\thyperparams: a=0.07795 b=0.16792 c=3.39358 d=1.54663\n",
      " empirical: E: 25.06 V: 559.47\n",
      " theoretic: E: 25.46 V: 463.88\n",
      " desired: E: -1.00 V: 550.00\n",
      "[238.69][239.30] best:\tloss:0.0\thyperparams: a=0.04503 b=0.12398 c=5.47336 d=2.22124 => E=22.376 V=551.999\n",
      "[238.69][239.30] 4000/10001,\tloss:363.2\thyperparams: a=0.05253 b=0.13627 c=6.84699 d=2.68747\n",
      " empirical: E: 23.60 V: 569.06\n",
      " theoretic: E: 24.55 V: 554.15\n",
      " desired: E: -1.00 V: 550.00\n",
      "[287.60][288.33] best:\tloss:0.0\thyperparams: a=0.04503 b=0.12398 c=5.47336 d=2.22124 => E=22.376 V=551.999\n",
      "[287.60][288.33] 5000/10001,\tloss:267.2\thyperparams: a=0.04248 b=0.12505 c=14.14196 d=5.21145\n",
      " empirical: E: 22.28 V: 533.65\n",
      " theoretic: E: 23.05 V: 560.08\n",
      " desired: E: -1.00 V: 550.00\n",
      "[331.64][332.47] best:\tloss:0.0\thyperparams: a=0.04503 b=0.12398 c=5.47336 d=2.22124 => E=22.376 V=551.999\n",
      "[331.64][332.47] 6000/10001,\tloss:31.1\thyperparams: a=0.02926 b=0.10663 c=33.22534 d=11.96218\n",
      " empirical: E: 18.20 V: 555.58\n",
      " theoretic: E: 19.06 V: 530.78\n",
      " desired: E: -1.00 V: 550.00\n",
      "[376.81][377.74] best:\tloss:0.0\thyperparams: a=0.04503 b=0.12398 c=5.47336 d=2.22124 => E=22.376 V=551.999\n",
      "[376.81][377.74] 7000/10001,\tloss:33158.3\thyperparams: a=0.03428 b=0.10399 c=80.45110 d=26.79045\n",
      " empirical: E: 24.77 V: 732.09\n",
      " theoretic: E: 24.75 V: 748.62\n",
      " desired: E: -1.00 V: 550.00\n",
      "[424.99][426.03] best:\tloss:0.0\thyperparams: a=0.02735 b=0.10070 c=172.78615 d=62.14117 => E=18.879 V=543.256\n",
      "[424.99][426.03] 8000/10001,\tloss:9875.8\thyperparams: a=0.03186 b=0.11201 c=219.87366 d=80.46343\n",
      " empirical: E: 19.64 V: 450.62\n",
      " theoretic: E: 19.43 V: 495.79\n",
      " desired: E: -1.00 V: 550.00\n",
      "[479.16][480.30] best:\tloss:0.0\thyperparams: a=0.03101 b=0.11184 c=329.93044 d=124.13740 => E=18.424 V=457.624\n",
      "[479.16][480.30] 9000/10001,\tloss:19884.6\thyperparams: a=0.06565 b=0.15748 c=396.12969 d=145.13959\n",
      " empirical: E: 30.07 V: 408.99\n",
      " theoretic: E: 28.44 V: 522.73\n",
      " desired: E: -1.00 V: 550.00\n",
      "[531.87][533.12] best:\tloss:0.0\thyperparams: a=0.03101 b=0.11184 c=329.93044 d=124.13740 => E=18.424 V=457.624\n",
      "[531.87][533.12] 10000/10001,\tloss:59533.1\thyperparams: a=0.02764 b=0.09232 c=915.78107 d=320.75486\n",
      " empirical: E: 20.07 V: 793.99\n",
      " theoretic: E: 21.37 V: 682.82\n",
      " desired: E: -1.00 V: 550.00\n"
     ]
    }
   ],
   "source": [
    "for iteration in range(NITER):\n",
    "  \n",
    "    ##########################################################################################################\n",
    "    # Optimization\n",
    "    iteration_start_time = time.time()\n",
    "        \n",
    "    with tf.GradientTape() as tape:        \n",
    "        p1,p2 = forward_transformation(p0u), forward_transformation(p1u) \n",
    "        p3,p4 = forward_transformation(p2u), forward_transformation(p3u) \n",
    "        \n",
    "        a,b,c,d =  forward_parametrization(p1,p2,p3,p4)           \n",
    "        expectation, variance = empirical_moments(a, b, c, d, NSAMPLES_LATENT, NSAMPLES_OUTPUT)        \n",
    "        loss = discrepancy(expectation, variance) -(LAMBDA*variance if LAMBDA>0 else 0.0) # just to be sure\n",
    "    \n",
    "    grads = tape.gradient(loss, trainable_variables)              \n",
    "    optimizer.apply_gradients(zip(grads, trainable_variables), global_step=tf.train.get_or_create_global_step())\n",
    "    expectation_exact, variance_exact = theoretical_moments(a, b, c, d)\n",
    "    #print(iteration,\">>\",a,b,c,d,expectation_exact, variance_exact)\n",
    "    computation_time += (time.time()-iteration_start_time)\n",
    "    \n",
    "    if loss<best_loss: #TODO Can do better by evaluating here the loss with more samples\n",
    "        best_loss = loss.numpy()\n",
    "        best_a, best_b, best_c, best_d = a.numpy(), b.numpy(), c.numpy(), d.numpy()\n",
    "        best_E, best_V = theoretical_moments(best_a, best_b, best_c, best_d)\n",
    "        \n",
    "    ##########################################################################################################\n",
    "    # Reporting:\n",
    "    failed = not is_valid(np.array(expectation))\n",
    "    elapsed = time.time() - start\n",
    "    if (failed) or (iteration<100) or (iteration%50==0): \n",
    "        r = (ID, D, SEED,\n",
    "             a0, b0, c0, d0, NITER, LR,\n",
    "             K, NSAMPLES_LATENT, NSAMPLES_OUTPUT, \n",
    "             DESIRED_EXPECTATION, DESIRED_VARIANCE, LAMBDA,\n",
    "             ((NITER-1) if failed else iteration), computation_time, \n",
    "             a.numpy(), b.numpy(), c.numpy(), d.numpy(), \n",
    "             loss.numpy(), expectation_exact.numpy(), variance_exact.numpy(), expectation.numpy(), variance.numpy(),\n",
    "             best_loss, best_a, best_b, best_c, best_d, best_E, best_V,\n",
    "             failed)\n",
    "        results.append(r)\n",
    "\n",
    "    if (failed) or (iteration<10) or (iteration<1000 and iteration%100==0)  or (iteration%1000==0): \n",
    "        print(\"[%.2f][%.2f] best:\\tloss:%.1f\\thyperparams: a=%.5f b=%.5f c=%.5f d=%.5f => E=%.3f V=%.3f\" % \n",
    "              (computation_time, elapsed, best_loss, best_a, best_b, best_c, best_d, best_E, best_V))        \n",
    "        print(\"[%.2f][%.2f] %i/%i,\\tloss:%.1f\\thyperparams: a=%.5f b=%.5f c=%.5f d=%.5f\" % \n",
    "              (computation_time, elapsed, iteration, NITER, loss.numpy(), \n",
    "               a.numpy(), b.numpy(), c.numpy(), d.numpy()))                \n",
    "        print(\" empirical: E: %.2f V: %.2f\" % (expectation, variance) )    \n",
    "        print(\" theoretic: E: %.2f V: %.2f\" % (expectation_exact, variance_exact) )\n",
    "        print(\" desired: E: %.2f V: %.2f\" % (DESIRED_EXPECTATION, DESIRED_VARIANCE) )                \n",
    "        sys.stdout.flush()\n",
    "        \n",
    "    if failed:\n",
    "        print(\"Error: ran into invalid values!\")\n",
    "        break"
   ]
  },
  {
   "cell_type": "code",
   "execution_count": 24,
   "metadata": {},
   "outputs": [
    {
     "name": "stdout",
     "output_type": "stream",
     "text": [
      "Saving results to: a=0.100 b=0.100 c=0.100 d=0.100 D=V E=-1 V=550 EID=4677 K=25 LAMBDA=0.0 LR=0.1 M=1 N=1 NITER=10001 S_LATENT=1000 S_OUTPUT=10 PARAMETRIZATION=musigma SAMPLING=3 SEED=129 TT=0123 VARIABLES_TRANSFORMATION=softplus.csv\n"
     ]
    }
   ],
   "source": [
    "path = ID+\".csv\"\n",
    "print(\"Saving results to: %s\" % path)\n",
    "df = pd.DataFrame(results)\n",
    "CN = [\"ID\", \"D\", \"SEED\", \"a0\", \"b0\", \"c0\", \"d0\", \"NITER\", \"LR\", \"K\", \"S\", \"SY\", \"E\", \"V\", \"LAMBDA\",\n",
    "      \"iteration\", \"elapsed\", \"ct\", \"rt\", \"cb\", \"rb\", \"loss\", \"Et\", \"Vt\", \"Ee\", \"Ve\", \n",
    "      \"best_loss\", \"best_a\", \"best_b\", \"best_c\", \"best_d\", \"best_E\", \"best_V\", \"failed\"]\n",
    "df.rename(columns=dict(enumerate(CN)), inplace=True)\n",
    "df.to_csv(path, header=True, index=False);"
   ]
  },
  {
   "cell_type": "markdown",
   "metadata": {},
   "source": [
    "# Visualization"
   ]
  },
  {
   "cell_type": "code",
   "execution_count": 25,
   "metadata": {},
   "outputs": [],
   "source": [
    "from aux_plt import *\n",
    "import warnings\n",
    "warnings.filterwarnings(\"ignore\")"
   ]
  },
  {
   "cell_type": "markdown",
   "metadata": {},
   "source": [
    "## Convergence analysis"
   ]
  },
  {
   "cell_type": "code",
   "execution_count": 28,
   "metadata": {},
   "outputs": [
    {
     "data": {
      "image/png": "[encoded data removed]",
      "text/plain": [
       "<Figure size 460.8x345.6 with 2 Axes>"
      ]
     },
     "metadata": {},
     "output_type": "display_data"
    }
   ],
   "source": [
    "  start_plotting(cmbright=False)\n",
    "  ax2 = plt.subplot(212)\n",
    "  ax1 = plt.subplot(211)\n",
    "\n",
    "  means = df.groupby([\"iteration\"]).mean().reset_index()\n",
    "  stds = df.groupby([\"iteration\"]).std().reset_index()\n",
    "  assert (means.iteration == stds.iteration).all()\n",
    "  iteration = means.iteration\n",
    "    \n",
    "  e, var = theoretical_moments(a0,b0,c0,d0)\n",
    "  #label=\"E=%.0f V=%.0f (a=%s b=%s c=%s d=%s)\" % (e, var, f(a0),f(b0),f(c0),f(d0))\n",
    "  plt.title(r\"Initialization $\\mathbb{E}=%.3f$ $\\mathbb{V}=%.3f$\" % (e, var))\n",
    "    \n",
    "  plt.sca(ax1)\n",
    "  errorfill((iteration), (means[\"Et\"]), (stds[\"Et\"]), color=\"dodgerblue\", \n",
    "            alpha_fill=0.1, label=\"exact\", smooth=0)\n",
    "  errorfill((iteration), (means[\"Ee\"]), (stds[\"Ee\"]), color=\"blue\", \n",
    "            alpha_fill=0.1, label=\"empirical\", smooth=0, ls=\"--\")\n",
    "  plt.sca(ax2)\n",
    "  errorfill((iteration), (means[\"Vt\"]), (stds[\"Vt\"]), color=\"salmon\", \n",
    "            alpha_fill=0.1, label=\"exact\", smooth=0)\n",
    "  errorfill((iteration), (means[\"Ve\"]), (stds[\"Ve\"]), color=\"red\", \n",
    "            alpha_fill=0.1, label=\"empirical\", smooth=0, ls=\"--\")\n",
    "\n",
    "  plt.sca(ax2)\n",
    "  plt.xlabel(\"Iteration\")\n",
    "  plt.ylabel(r\"Variance\")\n",
    "  goal = means[\"V\"][0]\n",
    "  if goal>-1:\n",
    "    x1,x2 = plt.xlim()\n",
    "    plt.axhline(goal, lw=2.5, color=\"darkgray\", ls=\"--\")\n",
    "    plt.text(x2,goal, r\"goal $~$\", va=\"top\", ha=\"right\", fontsize=20, color=\"darkgray\")\n",
    "  plt.legend()\n",
    "  plt.ylim(0,1000)\n",
    "  \n",
    "  plt.sca(ax1)\n",
    "  plt.legend()\n",
    "  plt.xticks([],[])\n",
    "  plt.ylabel(r\"Expectation\")\n",
    "  goal = means[\"E\"][0]\n",
    "  if goal>-1:\n",
    "    x1,x2 = plt.xlim()\n",
    "    plt.axhline(goal, lw=2.5, color=\"darkgray\", ls=\"--\")\n",
    "    plt.text(x2,goal, r\"goal $~$\", va=\"top\", ha=\"right\", fontsize=20, color=\"darkgray\")\n",
    "    \n",
    "  plt.show()"
   ]
  },
  {
   "cell_type": "markdown",
   "metadata": {},
   "source": [
    "## The best value(s) found up to certain iteration"
   ]
  },
  {
   "cell_type": "code",
   "execution_count": 27,
   "metadata": {},
   "outputs": [
    {
     "data": {
      "image/png": "[encoded data removed]",
      "text/plain": [
       "<Figure size 460.8x345.6 with 2 Axes>"
      ]
     },
     "metadata": {},
     "output_type": "display_data"
    }
   ],
   "source": [
    "  start_plotting(cmbright=False)\n",
    "  ax2 = plt.subplot(212)\n",
    "  ax1 = plt.subplot(211)\n",
    "\n",
    "  means = df.groupby([\"iteration\"]).mean().reset_index()\n",
    "  stds = df.groupby([\"iteration\"]).std().reset_index()\n",
    "  assert (means.iteration == stds.iteration).all()\n",
    "  #xs = means.iteration; xlabel = \"Iteration\" # Iteration on horizontal axis\n",
    "  xs = means.elapsed; xlabel = \"Time [s]\" # Time on horizontal axis\n",
    "    \n",
    "  e, var = theoretical_moments(a0,b0,c0,d0)\n",
    "  #label=\"E=%.0f V=%.0f (a=%s b=%s c=%s d=%s)\" % (e, var, f(a0),f(b0),f(c0),f(d0))\n",
    "  plt.title(r\"Initialization $\\mathbb{E}=%.0f$ $\\mathbb{V}=%.0f$\" % (e, var))\n",
    "    \n",
    "  plt.sca(ax1)\n",
    "  errorfill((xs), (means[\"best_E\"]), (stds[\"best_E\"]), color=\"dodgerblue\", \n",
    "            alpha_fill=0.1, label=\"theoretical for the best\", smooth=0)\n",
    "  plt.sca(ax2)\n",
    "  errorfill((xs), (means[\"best_V\"]), (stds[\"best_V\"]), color=\"salmon\", \n",
    "            alpha_fill=0.1, label=\"theoretical for the best\", smooth=0)\n",
    "\n",
    "  plt.sca(ax2)      \n",
    "  plt.xlabel(xlabel)\n",
    "  plt.ylabel(r\"Variance\")\n",
    "  goal = means[\"V\"][0]\n",
    "  if goal>-1:\n",
    "    x1,x2 = plt.xlim()\n",
    "    plt.axhline(goal, lw=2.5, color=\"darkgray\", ls=\"--\")\n",
    "    plt.text(x2,goal, r\"goal $~$\", va=\"top\", ha=\"right\", fontsize=20, color=\"darkgray\")\n",
    "  plt.legend()\n",
    "  plt.ylim(0,1000)\n",
    "    \n",
    "  \n",
    "  plt.sca(ax1)\n",
    "  plt.legend()\n",
    "  plt.xticks([],[])\n",
    "  plt.ylabel(r\"Expectation\")\n",
    "  goal = means[\"E\"][0]\n",
    "  if goal>-1:\n",
    "    x1,x2 = plt.xlim()\n",
    "    plt.axhline(goal, lw=2.5, color=\"darkgray\", ls=\"--\")\n",
    "    plt.text(x2,goal, r\"goal $~$\", va=\"top\", ha=\"right\", fontsize=20, color=\"darkgray\")\n",
    "    \n",
    "  plt.show()"
   ]
  },
  {
   "cell_type": "markdown",
   "metadata": {},
   "source": [
    "## Hyperameters' values during optimization"
   ]
  },
  {
   "cell_type": "code",
   "execution_count": 29,
   "metadata": {},
   "outputs": [
    {
     "data": {
      "image/png": "[encoded data removed]",
      "text/plain": [
       "<Figure size 460.8x345.6 with 1 Axes>"
      ]
     },
     "metadata": {},
     "output_type": "display_data"
    }
   ],
   "source": [
    "  start_plotting(cmbright=False)\n",
    "  \n",
    "  means = df.groupby([\"iteration\"]).mean().reset_index()\n",
    "  stds = df.groupby([\"iteration\"]).std().reset_index()\n",
    "  assert (means.iteration == stds.iteration).all()\n",
    "  iteration = means.iteration  \n",
    "  \n",
    "  e, var = theoretical_moments(a0,b0,c0,d0)\n",
    "  plt.title(r\"Initialization: $\\mathbb{E}=%.0f$ $\\mathbb{V}=%.0f$\" % (e, var), fontsize=20)\n",
    "  \n",
    "  errorfill((iteration), (means[\"cb\"]), (stds[\"cb\"]), color=COLORS[0], alpha_fill=0.2, smooth=0, ls=\"-\", label=\"a\")\n",
    "  errorfill((iteration), (means[\"rb\"]), (stds[\"rb\"]), color=COLORS[1], alpha_fill=0.2, smooth=0, ls=\"--\", label=\"b\")\n",
    "  errorfill((iteration), (means[\"ct\"]), (stds[\"ct\"]), color=COLORS[2], alpha_fill=0.2, smooth=0, ls=\"-.\", label=\"c\")\n",
    "  errorfill((iteration), (means[\"ct\"]), (stds[\"ct\"]), color=\"orange\", alpha_fill=0.2, smooth=0, ls=\"dotted\", label=\"d\")\n",
    "\n",
    "  plt.legend(fontsize=15)  \n",
    "  plt.xlabel(\"Iteration\")\n",
    "  plt.ylabel(\"Value\")\n",
    "  plt.show()  "
   ]
  },
  {
   "cell_type": "code",
   "execution_count": null,
   "metadata": {},
   "outputs": [],
   "source": []
  },
  {
   "cell_type": "code",
   "execution_count": null,
   "metadata": {},
   "outputs": [],
   "source": []
  }
 ],
 "metadata": {
  "colab": {
   "collapsed_sections": [],
   "name": "HPF Matching priors",
   "private_outputs": true,
   "provenance": [],
   "version": "0.3.2"
  },
  "kernelspec": {
   "display_name": "Python 3",
   "language": "python",
   "name": "python3"
  },
  "language_info": {
   "codemirror_mode": {
    "name": "ipython",
    "version": 3
   },
   "file_extension": ".py",
   "mimetype": "text/x-python",
   "name": "python",
   "nbconvert_exporter": "python",
   "pygments_lexer": "ipython3",
   "version": "3.6.8"
  }
 },
 "nbformat": 4,
 "nbformat_minor": 1
}
