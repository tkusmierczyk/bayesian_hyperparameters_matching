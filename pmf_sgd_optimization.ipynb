{
 "cells": [
  {
   "cell_type": "markdown",
   "metadata": {
    "colab_type": "text",
    "id": "BAdp1h4FSIgQ"
   },
   "source": [
    "# PMF: matching requested expectation and variance using SGD"
   ]
  },
  {
   "cell_type": "markdown",
   "metadata": {},
   "source": [
    "The notebook demonstrates how priors matching requested values of prior predictive expectation and/or variance can be found for Poisson Matrix Factorization model using SGD."
   ]
  },
  {
   "cell_type": "markdown",
   "metadata": {
    "colab_type": "text",
    "id": "RBAeIwOMrYk8"
   },
   "source": [
    "## Setup \n"
   ]
  },
  {
   "cell_type": "code",
   "execution_count": 1,
   "metadata": {},
   "outputs": [],
   "source": [
    "from __future__ import absolute_import, division, print_function, unicode_literals"
   ]
  },
  {
   "cell_type": "code",
   "execution_count": 2,
   "metadata": {
    "attributes": {
     "classes": [
      "py"
     ],
     "id": ""
    },
    "colab": {},
    "colab_type": "code",
    "id": "N-2lSGiHqEfq"
   },
   "outputs": [
    {
     "name": "stdout",
     "output_type": "stream",
     "text": [
      "\n",
      "WARNING: The TensorFlow contrib module will not be included in TensorFlow 2.0.\n",
      "For more information, please see:\n",
      "  * https://github.com/tensorflow/community/blob/master/rfcs/20180907-contrib-sunset.md\n",
      "  * https://github.com/tensorflow/addons\n",
      "If you depend on functionality not listed there, please file an issue.\n",
      "\n"
     ]
    }
   ],
   "source": [
    "import tensorflow as tf\n",
    "tf.enable_eager_execution()\n",
    "import tensorflow_probability as tfp\n",
    "from tensorflow_probability import distributions as tfd\n",
    "tfe = tf.contrib.eager"
   ]
  },
  {
   "cell_type": "code",
   "execution_count": 3,
   "metadata": {},
   "outputs": [
    {
     "data": {
      "text/plain": [
       "True"
      ]
     },
     "execution_count": 3,
     "metadata": {},
     "output_type": "execute_result"
    }
   ],
   "source": [
    "tf.executing_eagerly()"
   ]
  },
  {
   "cell_type": "code",
   "execution_count": 4,
   "metadata": {
    "attributes": {
     "classes": [
      "py"
     ],
     "id": ""
    },
    "colab": {},
    "colab_type": "code",
    "id": "9gsI54pbqEfj"
   },
   "outputs": [],
   "source": [
    "import time\n",
    "import numpy as np\n",
    "import pandas as pd"
   ]
  },
  {
   "cell_type": "code",
   "execution_count": 5,
   "metadata": {},
   "outputs": [],
   "source": [
    "from aux import *"
   ]
  },
  {
   "cell_type": "markdown",
   "metadata": {},
   "source": [
    "# Configuration"
   ]
  },
  {
   "cell_type": "code",
   "execution_count": 6,
   "metadata": {},
   "outputs": [
    {
     "name": "stdout",
     "output_type": "stream",
     "text": [
      "parsing: <-f>\n"
     ]
    }
   ],
   "source": [
    "args = parse_script_args()"
   ]
  },
  {
   "cell_type": "code",
   "execution_count": 7,
   "metadata": {},
   "outputs": [],
   "source": [
    "np.random.seed(int(time.time()))\n",
    "EID = np.random.randint(10000)"
   ]
  },
  {
   "cell_type": "code",
   "execution_count": 8,
   "metadata": {},
   "outputs": [],
   "source": [
    "SEED = args.get(\"SEED\", 129)\n",
    "np.random.seed(SEED)"
   ]
  },
  {
   "cell_type": "code",
   "execution_count": 9,
   "metadata": {},
   "outputs": [],
   "source": [
    "N, M = 1, 1\n",
    "K = args.get(\"K\", 25) # factorization dimensions"
   ]
  },
  {
   "cell_type": "code",
   "execution_count": 10,
   "metadata": {},
   "outputs": [],
   "source": [
    "NITER = args.get(\"NITER\", 20000) + 1 # how many iterations\n",
    "LR = args.get(\"LR\", 0.1) # learning rate\n",
    "LAMBDA = args.get(\"LAMBDA\", 0.0) # regularization"
   ]
  },
  {
   "cell_type": "code",
   "execution_count": 11,
   "metadata": {},
   "outputs": [],
   "source": [
    "# requested values\n",
    "DESIRED_EXPECTATION = args.get(\"E\", 25)\n",
    "DESIRED_VARIANCE = args.get(\"V\", 550)\n",
    "\n",
    "# discrepancy measure: care about E=only expectation, V=only variance, EV=both\n",
    "D = args.get(\"D\", \"V\") \n",
    "if D==\"E\": DESIRED_VARIANCE = -1\n",
    "if D==\"V\": DESIRED_EXPECTATION = -1\n",
    "    \n",
    "# (mean (tf.reduce_mean) should be taken if more than one cell used)\n",
    "discrepancy_expectation = lambda expectation, variance: (expectation-DESIRED_EXPECTATION)**2 \n",
    "discrepancy_variance    = lambda expectation, variance: (variance-DESIRED_VARIANCE)**2 \n",
    "discrepancy_exp_var     = lambda expectation, variance: discrepancy_variance(expectation, variance) + \\\n",
    "                                                        discrepancy_expectation(expectation, variance)\n",
    "\n",
    "NAME2DISCREPANCY = {\"E\":  discrepancy_expectation, \"EV\": discrepancy_exp_var, \"V\": discrepancy_variance}\n",
    "discrepancy = NAME2DISCREPANCY[D]"
   ]
  },
  {
   "cell_type": "code",
   "execution_count": 12,
   "metadata": {},
   "outputs": [],
   "source": [
    "# sampling strategy\n",
    "SAMPLING = args.get(\"SAMPLING\", 0)\n",
    "if SAMPLING==0 and LAMBDA<=0.0:\n",
    "    if D==\"E\": SAMPLING = 2 # if V is not used\n",
    "    if D==\"V\": SAMPLING = 3 # if E is not used\n",
    "\n",
    "NSAMPLES_LATENT = args.get(\"S\", 1000) # how many samples of latent variables\n",
    "NSAMPLES_OUTPUT = args.get(\"SY\", 10)  # how many samples of outputs for each latent"
   ]
  },
  {
   "cell_type": "code",
   "execution_count": 13,
   "metadata": {},
   "outputs": [
    {
     "name": "stdout",
     "output_type": "stream",
     "text": [
      "Random initialization: mut=2.650 st=0.041 mub=4.283 sb=0.003\n"
     ]
    }
   ],
   "source": [
    "# optimization initial values (always in terms of abcd parametrization)\n",
    "\n",
    "a0, b0, c0, d0 = args.get(\"a\", None), args.get(\"b\", None), args.get(\"c\", None), args.get(\"d\", None) # random init\n",
    "#a0, b0, c0, d0 = args.get(\"a\", 0.1), args.get(\"b\", 0.1), args.get(\"c\", 0.1), args.get(\"d\", 0.1)\n",
    "#a0=0.0001; b0=0.001; c0=0.010; d0=0.100 # Crashing initialization!\n",
    "\n",
    "# if not set choose randomly mu-s and sigma-s from 10**e, e in [1e-3, 1e3]\n",
    "if a0 is None or a0<=0:\n",
    "    mut = 10**(np.random.random()*6.0-3.0) \n",
    "    sigmat = 10**(np.random.random()*6.0-3.0) \n",
    "    mub = 10**(np.random.random()*6.0-3.0) \n",
    "    sigmab = 10**(np.random.random()*6.0-3.0) \n",
    "    a0,b0 = (mut*mut)/(sigmat*sigmat), mut/(sigmat*sigmat)\n",
    "    c0,d0 = (mub*mub)/(sigmab*sigmab), mub/(sigmab*sigmab)\n",
    "    print(\"Random initialization: mut=%.3f st=%.3f mub=%.3f sb=%.3f\" % (mut, sigmat, mub, sigmab))\n",
    "\n",
    "# which parameter space\n",
    "PARAMETRIZATION = args.get(\"PARAMETRIZATION\", \"musigma\") # musigma/abcd\n",
    "# how to transform from unbounded space to a bounded one and vice versa\n",
    "VARIABLES_TRANSFORMATION = args.get(\"TRANSFORMATION\", \"softplus\") # softplus/exp\n",
    "# which of the parameters to train\n",
    "TRAINABLE = args.get(\"TRAIN\", \"0123\") "
   ]
  },
  {
   "cell_type": "code",
   "execution_count": 14,
   "metadata": {},
   "outputs": [
    {
     "name": "stdout",
     "output_type": "stream",
     "text": [
      "DESCRIPTION: a=4238.988 b=1599.825 c=1759001.947 d=410671.812 D=V E=-1 V=550 EID=7497 K=25 LAMBDA=0.0 LR=0.1 M=1 N=1 NITER=20001 S_LATENT=1000 S_OUTPUT=10 PARAMETRIZATION=musigma SAMPLING=3 SEED=129 TT=0123 VARIABLES_TRANSFORMATION=softplus\n"
     ]
    }
   ],
   "source": [
    "DESCRIPTION = dict2str(globals()).replace(\"NSAMPLES\", \"S\").replace(\"DESIRED_\", \"\").replace(\"EXPECTATION\", \"E\").replace(\"VARIANCE\", \"V\").replace(\"TRAINABLE\", \"TT\")\n",
    "DESCRIPTION = \"a=%.3f b=%.3f c=%.3f d=%.3f %s\" % (a0,b0,c0,d0,DESCRIPTION)\n",
    "print(\"DESCRIPTION: %s\" % DESCRIPTION)\n",
    "\n",
    "ID = str(args.get(\"ID\", DESCRIPTION))"
   ]
  },
  {
   "cell_type": "markdown",
   "metadata": {},
   "source": [
    "# Parameterization and transformation"
   ]
  },
  {
   "cell_type": "markdown",
   "metadata": {},
   "source": [
    "We consider two problem parametrizations: either abcd or mu-sigma.\n",
    "Also, we need to perform a transformation from unconstrained space."
   ]
  },
  {
   "cell_type": "code",
   "execution_count": 15,
   "metadata": {},
   "outputs": [],
   "source": [
    "def abcd2musigma(a, b, c, d, env=tf):    \n",
    "    return a/b, env.sqrt(a)/b, c/d, env.sqrt(c)/d\n",
    "  \n",
    "\n",
    "def musigma2abcd(mut, sigmat, mub, sigmab):    \n",
    "    a,b = (mut*mut)/(sigmat*sigmat), mut/(sigmat*sigmat)\n",
    "    c,d = (mub*mub)/(sigmab*sigmab), mub/(sigmab*sigmab)\n",
    "    return a, b, c, d\n",
    "\n",
    "\n",
    "def abcd2abcd(a, b, c, d, env=tf):    \n",
    "    return a,b,c,d"
   ]
  },
  {
   "cell_type": "code",
   "execution_count": 16,
   "metadata": {},
   "outputs": [
    {
     "name": "stdout",
     "output_type": "stream",
     "text": [
      "forward_transformation:=softplus backward_transformation:=softplus_inverse\n",
      "forward_parametrization:=musigma2abcd backward_parametrization:=abcd2musigma \n"
     ]
    }
   ],
   "source": [
    "from tensorflow.contrib.distributions import softplus_inverse\n",
    "#softplus_inverse = lambda v: tf.log(tf.exp(v)-1.0)\n",
    "NAME2TRANSFORMATION = {\"softplus\": (tf.nn.softplus, softplus_inverse), \"exp\": (tf.exp, np.log)}\n",
    "forward_transformation, backward_transformation = NAME2TRANSFORMATION[VARIABLES_TRANSFORMATION]\n",
    "\n",
    "print(\"forward_transformation:=%s backward_transformation:=%s\" % \n",
    "      (forward_transformation.__name__, backward_transformation.__name__))\n",
    "#print(\"  transformation prec:\", np.array(backward_transformation(forward_transformation(a0))-a0))\n",
    "\n",
    "NAME2PARAMETRIZATION = {\"abcd\": (abcd2abcd, abcd2abcd), \"musigma\": (musigma2abcd, abcd2musigma)}\n",
    "forward_parametrization, backward_parametrization = NAME2PARAMETRIZATION[PARAMETRIZATION]\n",
    "\n",
    "print(\"forward_parametrization:=%s backward_parametrization:=%s \" % \n",
    "      (forward_parametrization.__name__, backward_parametrization.__name__))\n",
    "#print(\"  parametrization prec:\", forward_parametrization(*backward_parametrization(a0,b0,c0,d0))-np.array([a0,b0,c0,d0]))\n",
    "#assert (np.round(inverse_parametrization(*parametrization(a0,b0,c0,d0))-np.array([a0,b0,c0,d0]),2) ==0).all()"
   ]
  },
  {
   "cell_type": "markdown",
   "metadata": {},
   "source": [
    "# Choose expectation & variance estimators"
   ]
  },
  {
   "cell_type": "code",
   "execution_count": 17,
   "metadata": {},
   "outputs": [
    {
     "name": "stdout",
     "output_type": "stream",
     "text": [
      "empirical_moments := empirical_moments_V_decoupled\n"
     ]
    }
   ],
   "source": [
    "from pmf_model import create_moments_estimator\n",
    "theoretical_moments = create_moments_estimator(K=25, ESTIMATOR_NO=-1, N=1, M=1)\n",
    "empirical_moments   = create_moments_estimator(K=25, ESTIMATOR_NO=SAMPLING, N=1, M=1)\n",
    "print(\"empirical_moments := %s\" % empirical_moments.__name__)"
   ]
  },
  {
   "cell_type": "code",
   "execution_count": 18,
   "metadata": {},
   "outputs": [
    {
     "name": "stdout",
     "output_type": "stream",
     "text": [
      "Initialization: a=4238.988\tb=1599.825\tc=1759001.947\td=410671.812\t=> E=283.7273 \tV=284.4888\n"
     ]
    }
   ],
   "source": [
    "e, v = theoretical_moments(a0, b0, c0, d0)\n",
    "print(\"Initialization: a=%.3f\\tb=%.3f\\tc=%.3f\\td=%.3f\\t=> E=%.4f \\tV=%.4f\" % (a0, b0, c0, d0, e, v))"
   ]
  },
  {
   "cell_type": "markdown",
   "metadata": {
    "colab_type": "text",
    "id": "49UKjZZLR2Nh"
   },
   "source": [
    "# Find hyperparameters matching desired values"
   ]
  },
  {
   "cell_type": "code",
   "execution_count": 19,
   "metadata": {},
   "outputs": [],
   "source": [
    "tf.random.set_random_seed(SEED)\n",
    "np.random.seed(SEED)"
   ]
  },
  {
   "cell_type": "code",
   "execution_count": 20,
   "metadata": {
    "colab": {},
    "colab_type": "code",
    "id": "Yn6hR1_LZ4FR"
   },
   "outputs": [
    {
     "name": "stdout",
     "output_type": "stream",
     "text": [
      "WARNING:tensorflow:From /home/kusmitom/.local/lib/python3.6/site-packages/tensorflow/python/ops/resource_variable_ops.py:642: colocate_with (from tensorflow.python.framework.ops) is deprecated and will be removed in a future version.\n",
      "Instructions for updating:\n",
      "Colocations handled automatically by placer.\n",
      "Initialization: i0=2.650, i1=0.041, i2=4.283, i3=0.003\n",
      "Initialization: p0u=2.576, p1u=-3.181, p2u=4.269, p3u=-5.734\n"
     ]
    }
   ],
   "source": [
    "# init (unbounded) params\n",
    "float1 = lambda v: tf.Variable(float(v), dtype=tf.float64)\n",
    "float2 = lambda v: tf.Variable(v, dtype=tf.float64)\n",
    "\n",
    "a0tf, b0tf, c0tf, d0tf = float2(a0), float2(b0), float2(c0), float2(d0)\n",
    "i0, i1, i2, i3 = backward_parametrization(a0tf, b0tf, c0tf, d0tf, env=tf)\n",
    "#i0, i1, i2, i3 = float1(i0), float1(i1), float1(i2), float1(i3)\n",
    "\n",
    "p0u = tf.Variable(backward_transformation(i0), name=\"0\", dtype=tf.float64) \n",
    "p1u = tf.Variable(backward_transformation(i1), name=\"1\", dtype=tf.float64) \n",
    "p2u = tf.Variable(backward_transformation(i2), name=\"2\", dtype=tf.float64) \n",
    "p3u = tf.Variable(backward_transformation(i3), name=\"3\", dtype=tf.float64) \n",
    "\n",
    "print(\"Initialization: i0=%.3f, i1=%.3f, i2=%.3f, i3=%.3f\" % \n",
    "      (i0.numpy(), i1.numpy(), i2.numpy(), i3.numpy()))\n",
    "print(\"Initialization: p0u=%.3f, p1u=%.3f, p2u=%.3f, p3u=%.3f\" % \n",
    "      (p0u.numpy(), p1u.numpy(), p2u.numpy(), p3u.numpy()))"
   ]
  },
  {
   "cell_type": "code",
   "execution_count": 21,
   "metadata": {},
   "outputs": [],
   "source": [
    "trainable_variables = [var for var in [p0u, p1u, p2u, p3u] if var.name.split(\":\")[0] in TRAINABLE]\n",
    "optimizer = tf.train.AdamOptimizer(learning_rate=LR)\n",
    "start = time.time()\n",
    "computation_time = 0.0\n",
    "results = []"
   ]
  },
  {
   "cell_type": "code",
   "execution_count": 22,
   "metadata": {},
   "outputs": [],
   "source": [
    "best_loss = float(\"inf\")\n",
    "best_a, best_b, best_c, best_d = -1.0, -1.0, -1.0, -1.0\n",
    "best_E, best_V = -1.0, -1.0"
   ]
  },
  {
   "cell_type": "code",
   "execution_count": 23,
   "metadata": {
    "colab": {},
    "colab_type": "code",
    "id": "8KG3bvR1PTPP"
   },
   "outputs": [
    {
     "name": "stdout",
     "output_type": "stream",
     "text": [
      "[0.27][0.32] best:\tloss:97347.7\thyperparams: a=4238.98805 b=1599.82486 c=1759001.94695 d=410671.81196 => E=283.727 V=284.489\n",
      "[0.27][0.32] 0/20001,\tloss:97347.7\thyperparams: a=4238.98805 b=1599.82486 c=1759001.94695 d=410671.81196\n",
      " empirical: E: 283.30 V: 237.99\n",
      " theoretic: E: 283.73 V: 284.49\n",
      " desired: E: -1.00 V: 550.00\n",
      "[0.47][0.52] best:\tloss:97347.7\thyperparams: a=4238.98805 b=1599.82486 c=1759001.94695 d=410671.81196 => E=283.727 V=284.489\n",
      "[0.47][0.52] 1/20001,\tloss:183126.3\thyperparams: a=5527.16547 b=2015.07417 c=2247901.06280 d=512994.97018\n",
      " empirical: E: 300.27 V: 122.07\n",
      " theoretic: E: 300.48 V: 301.13\n",
      " desired: E: -1.00 V: 550.00\n",
      "[0.69][0.75] best:\tloss:97347.7\thyperparams: a=4238.98805 b=1599.82486 c=1759001.94695 d=410671.81196 => E=283.727 V=284.489\n",
      "[0.69][0.75] 2/20001,\tloss:225462.9\thyperparams: a=6166.93159 b=2248.48400 c=2680186.43299 d=604140.50749\n",
      " empirical: E: 303.96 V: 75.17\n",
      " theoretic: E: 304.19 V: 304.79\n",
      " desired: E: -1.00 V: 550.00\n",
      "[1.03][1.08] best:\tloss:97347.7\thyperparams: a=4238.98805 b=1599.82486 c=1759001.94695 d=410671.81196 => E=283.727 V=284.489\n",
      "[1.03][1.08] 3/20001,\tloss:171010.7\thyperparams: a=6238.07066 b=2250.67235 c=2801726.36846 d=623946.45873\n",
      " empirical: E: 311.06 V: 136.47\n",
      " theoretic: E: 311.14 V: 311.76\n",
      " desired: E: -1.00 V: 550.00\n",
      "[1.29][1.35] best:\tloss:97347.7\thyperparams: a=4238.98805 b=1599.82486 c=1759001.94695 d=410671.81196 => E=283.727 V=284.489\n",
      "[1.29][1.35] 4/20001,\tloss:158775.3\thyperparams: a=5928.93953 b=2102.13484 c=2693012.42657 d=592785.17955\n",
      " empirical: E: 320.14 V: 151.53\n",
      " theoretic: E: 320.33 V: 321.02\n",
      " desired: E: -1.00 V: 550.00\n",
      "[1.51][1.57] best:\tloss:97347.7\thyperparams: a=4238.98805 b=1599.82486 c=1759001.94695 d=410671.81196 => E=283.727 V=284.489\n",
      "[1.51][1.57] 5/20001,\tloss:211470.2\thyperparams: a=5550.42764 b=1923.85707 c=2634741.98763 d=571183.92940\n",
      " empirical: E: 332.50 V: 90.14\n",
      " theoretic: E: 332.70 V: 333.50\n",
      " desired: E: -1.00 V: 550.00\n",
      "[1.80][1.86] best:\tloss:87564.1\thyperparams: a=5837.11846 b=2022.77891 c=2764606.15561 d=597411.16204 => E=333.849 V=334.614\n",
      "[1.80][1.86] 6/20001,\tloss:87564.1\thyperparams: a=5837.11846 b=2022.77891 c=2764606.15561 d=597411.16204\n",
      " empirical: E: 333.45 V: 254.09\n",
      " theoretic: E: 333.85 V: 334.61\n",
      " desired: E: -1.00 V: 550.00\n",
      "[2.07][2.13] best:\tloss:87564.1\thyperparams: a=5837.11846 b=2022.77891 c=2764606.15561 d=597411.16204 => E=333.849 V=334.614\n",
      "[2.07][2.13] 7/20001,\tloss:142194.2\thyperparams: a=5785.93223 b=2004.79184 c=2735754.44244 d=591578.71355\n",
      " empirical: E: 333.53 V: 172.91\n",
      " theoretic: E: 333.66 V: 334.43\n",
      " desired: E: -1.00 V: 550.00\n",
      "[2.28][2.34] best:\tloss:87564.1\thyperparams: a=5837.11846 b=2022.77891 c=2764606.15561 d=597411.16204 => E=333.849 V=334.614\n",
      "[2.28][2.34] 8/20001,\tloss:284299.3\thyperparams: a=5792.83700 b=2011.47410 c=2645292.31616 d=574277.73014\n",
      " empirical: E: 331.55 V: 16.80\n",
      " theoretic: E: 331.64 V: 332.40\n",
      " desired: E: -1.00 V: 550.00\n",
      "[2.47][2.53] best:\tloss:87564.1\thyperparams: a=5837.11846 b=2022.77891 c=2764606.15561 d=597411.16204 => E=333.849 V=334.614\n",
      "[2.47][2.53] 9/20001,\tloss:168997.2\thyperparams: a=5392.73930 b=1888.00176 c=2709782.66316 d=591147.66981\n",
      " empirical: E: 327.08 V: 138.91\n",
      " theoretic: E: 327.33 V: 328.13\n",
      " desired: E: -1.00 V: 550.00\n",
      "[21.28][21.36] best:\tloss:731.1\thyperparams: a=7049.37734 b=2416.31362 c=2757904.04591 d=590938.42182 => E=340.388 V=341.047\n",
      "[21.28][21.36] 100/20001,\tloss:682246.3\thyperparams: a=14062.59779 b=3752.00756 c=2462354.67280 d=455891.85574\n",
      " empirical: E: 506.21 V: -275.98\n",
      " theoretic: E: 506.09 V: 506.83\n",
      " desired: E: -1.00 V: 550.00\n",
      "[44.25][44.36] best:\tloss:34.4\thyperparams: a=27399.36434 b=6583.56721 c=4908714.38989 d=778841.70148 => E=655.749 V=656.380\n",
      "[44.25][44.36] 200/20001,\tloss:10055.5\thyperparams: a=14765.49164 b=3317.01186 c=2672704.78645 d=434612.52838\n",
      " empirical: E: 684.15 V: 449.72\n",
      " theoretic: E: 684.37 V: 685.64\n",
      " desired: E: -1.00 V: 550.00\n",
      "[67.33][67.45] best:\tloss:4.2\thyperparams: a=39838.16574 b=8763.02119 c=535228.95618 d=105002.05872 => E=579.332 V=579.694\n",
      "[67.33][67.45] 300/20001,\tloss:71594.9\thyperparams: a=40608.55261 b=8979.99804 c=508703.49433 d=101241.78009\n",
      " empirical: E: 567.91 V: 282.43\n",
      " theoretic: E: 568.05 V: 568.39\n",
      " desired: E: -1.00 V: 550.00\n",
      "[87.11][87.24] best:\tloss:4.2\thyperparams: a=39838.16574 b=8763.02119 c=535228.95618 d=105002.05872 => E=579.332 V=579.694\n",
      "[87.11][87.24] 400/20001,\tloss:14589.4\thyperparams: a=23110.50015 b=4234.21783 c=435132.48013 d=69933.67892\n",
      " empirical: E: 848.76 V: 429.21\n",
      " theoretic: E: 849.01 V: 850.32\n",
      " desired: E: -1.00 V: 550.00\n",
      "[107.10][107.25] best:\tloss:4.2\thyperparams: a=39838.16574 b=8763.02119 c=535228.95618 d=105002.05872 => E=579.332 V=579.694\n",
      "[107.10][107.25] 500/20001,\tloss:30922.0\thyperparams: a=41789.48562 b=8299.46074 c=76920.30302 d=15402.41003\n",
      " empirical: E: 628.28 V: 725.85\n",
      " theoretic: E: 628.65 V: 629.23\n",
      " desired: E: -1.00 V: 550.00\n",
      "[129.41][129.59] best:\tloss:1.4\thyperparams: a=62995.06382 b=13615.32737 c=63513.09009 d=14279.32332 => E=514.487 V=514.821\n",
      "[129.41][129.59] 600/20001,\tloss:169719.4\thyperparams: a=14735.86950 b=3076.06088 c=69836.32648 d=14816.73847\n",
      " empirical: E: 564.21 V: 138.03\n",
      " theoretic: E: 564.48 V: 565.53\n",
      " desired: E: -1.00 V: 550.00\n",
      "[148.67][148.86] best:\tloss:0.3\thyperparams: a=29077.14656 b=5283.13885 c=82881.36812 d=14698.89729 => E=775.840 V=776.958\n",
      "[148.67][148.86] 700/20001,\tloss:229427.9\thyperparams: a=21149.89356 b=4681.12289 c=74651.67012 d=16768.52534\n",
      " empirical: E: 502.87 V: 71.01\n",
      " theoretic: E: 502.86 V: 503.47\n",
      " desired: E: -1.00 V: 550.00\n",
      "[166.61][166.82] best:\tloss:0.3\thyperparams: a=29077.14656 b=5283.13885 c=82881.36812 d=14698.89729 => E=775.840 V=776.958\n",
      "[166.61][166.82] 800/20001,\tloss:1175.3\thyperparams: a=26328.51484 b=5883.30626 c=79935.09642 d=18062.37433\n",
      " empirical: E: 494.74 V: 584.28\n",
      " theoretic: E: 495.12 V: 495.61\n",
      " desired: E: -1.00 V: 550.00\n",
      "[184.69][184.91] best:\tloss:0.3\thyperparams: a=29077.14656 b=5283.13885 c=82881.36812 d=14698.89729 => E=775.840 V=776.958\n",
      "[184.69][184.91] 900/20001,\tloss:117784.8\thyperparams: a=62238.29770 b=15678.74337 c=61333.81347 d=16334.10574\n",
      " empirical: E: 372.34 V: 206.80\n",
      " theoretic: E: 372.64 V: 372.82\n",
      " desired: E: -1.00 V: 550.00\n",
      "[202.77][203.01] best:\tloss:0.3\thyperparams: a=29077.14656 b=5283.13885 c=82881.36812 d=14698.89729 => E=775.840 V=776.958\n",
      "[202.77][203.01] 1000/20001,\tloss:60399.8\thyperparams: a=30397.31542 b=8343.77901 c=47389.90146 d=14269.54391\n",
      " empirical: E: 302.13 V: 304.24\n",
      " theoretic: E: 302.47 V: 302.67\n",
      " desired: E: -1.00 V: 550.00\n",
      "[388.81][389.18] best:\tloss:0.3\thyperparams: a=29077.14656 b=5283.13885 c=82881.36812 d=14698.89729 => E=775.840 V=776.958\n",
      "[388.81][389.18] 2000/20001,\tloss:60358.7\thyperparams: a=8320.71234 b=1897.45739 c=85875.02528 d=19555.42306\n",
      " empirical: E: 481.02 V: 304.32\n",
      " theoretic: E: 481.42 V: 482.65\n",
      " desired: E: -1.00 V: 550.00\n",
      "[546.15][546.67] best:\tloss:0.3\thyperparams: a=29077.14656 b=5283.13885 c=82881.36812 d=14698.89729 => E=775.840 V=776.958\n",
      "[546.15][546.67] 3000/20001,\tloss:6774.5\thyperparams: a=2.18271 b=0.88646 c=32286.28990 d=13836.75665\n",
      " empirical: E: 143.35 V: 632.31\n",
      " theoretic: E: 143.63 V: 521.75\n",
      " desired: E: -1.00 V: 550.00\n",
      "[666.15][666.80] best:\tloss:0.0\thyperparams: a=0.09743 b=0.08080 c=8739.44083 d=7218.22969 => E=36.496 V=583.442\n",
      "[666.15][666.80] 4000/20001,\tloss:3313.0\thyperparams: a=0.08312 b=0.07194 c=8458.24493 d=7101.22039\n",
      " empirical: E: 33.57 V: 607.56\n",
      " theoretic: E: 34.41 V: 604.22\n",
      " desired: E: -1.00 V: 550.00\n",
      "[783.99][784.79] best:\tloss:0.0\thyperparams: a=0.07572 b=0.06862 c=7622.53501 d=6739.16084 => E=31.205 V=545.672\n",
      "[783.99][784.79] 5000/20001,\tloss:1194.3\thyperparams: a=0.03966 b=0.04356 c=6768.11332 d=6351.05270\n",
      " empirical: E: 23.69 V: 584.56\n",
      " theoretic: E: 24.26 V: 617.78\n",
      " desired: E: -1.00 V: 550.00\n",
      "[901.00][901.94] best:\tloss:0.0\thyperparams: a=0.07572 b=0.06862 c=7622.53501 d=6739.16084 => E=31.205 V=545.672\n",
      "[901.00][901.94] 6000/20001,\tloss:965.2\thyperparams: a=0.04215 b=0.04558 c=6143.85342 d=6047.38103\n",
      " empirical: E: 22.70 V: 581.07\n",
      " theoretic: E: 23.49 V: 547.07\n",
      " desired: E: -1.00 V: 550.00\n",
      "[991.81][992.88] best:\tloss:0.0\thyperparams: a=0.07572 b=0.06862 c=7622.53501 d=6739.16084 => E=31.205 V=545.672\n",
      "[991.81][992.88] 7000/20001,\tloss:22102.2\thyperparams: a=0.02930 b=0.03534 c=7313.21653 d=6627.97462\n",
      " empirical: E: 23.21 V: 698.67\n",
      " theoretic: E: 22.88 V: 737.26\n",
      " desired: E: -1.00 V: 550.00\n"
     ]
    },
    {
     "name": "stdout",
     "output_type": "stream",
     "text": [
      "[1104.00][1105.21] best:\tloss:0.0\thyperparams: a=0.07572 b=0.06862 c=7622.53501 d=6739.16084 => E=31.205 V=545.672\n",
      "[1104.00][1105.21] 8000/20001,\tloss:8879.6\thyperparams: a=0.03085 b=0.03882 c=5564.39989 d=5780.39811\n",
      " empirical: E: 19.33 V: 455.77\n",
      " theoretic: E: 19.13 V: 493.51\n",
      " desired: E: -1.00 V: 550.00\n",
      "[1222.63][1223.98] best:\tloss:0.0\thyperparams: a=0.07572 b=0.06862 c=7622.53501 d=6739.16084 => E=31.205 V=545.672\n",
      "[1222.63][1223.98] 9000/20001,\tloss:10664.8\thyperparams: a=0.04125 b=0.04600 c=6709.53428 d=6467.82344\n",
      " empirical: E: 24.88 V: 446.73\n",
      " theoretic: E: 23.26 V: 547.82\n",
      " desired: E: -1.00 V: 550.00\n",
      "[1341.43][1342.92] best:\tloss:0.0\thyperparams: a=0.07572 b=0.06862 c=7622.53501 d=6739.16084 => E=31.205 V=545.672\n",
      "[1341.43][1342.92] 10000/20001,\tloss:66868.4\thyperparams: a=0.03676 b=0.04271 c=8145.18305 d=7066.15116\n",
      " empirical: E: 23.43 V: 808.59\n",
      " theoretic: E: 24.81 V: 694.43\n",
      " desired: E: -1.00 V: 550.00\n",
      "[1459.93][1461.56] best:\tloss:0.0\thyperparams: a=0.07572 b=0.06862 c=7622.53501 d=6739.16084 => E=31.205 V=545.672\n",
      "[1459.93][1461.56] 11000/20001,\tloss:179.7\thyperparams: a=0.02487 b=0.03751 c=6180.07050 d=6128.16597\n",
      " empirical: E: 15.74 V: 536.60\n",
      " theoretic: E: 16.71 V: 466.23\n",
      " desired: E: -1.00 V: 550.00\n",
      "[1576.90][1578.67] best:\tloss:0.0\thyperparams: a=0.07572 b=0.06862 c=7622.53501 d=6739.16084 => E=31.205 V=545.672\n",
      "[1576.90][1578.67] 12000/20001,\tloss:6410.8\thyperparams: a=0.03529 b=0.04453 c=6829.28029 d=6217.34410\n",
      " empirical: E: 21.11 V: 630.07\n",
      " theoretic: E: 21.76 V: 558.65\n",
      " desired: E: -1.00 V: 550.00\n",
      "[1693.48][1695.39] best:\tloss:0.0\thyperparams: a=0.07572 b=0.06862 c=7622.53501 d=6739.16084 => E=31.205 V=545.672\n",
      "[1693.48][1695.39] 13000/20001,\tloss:30985.3\thyperparams: a=0.06636 b=0.06578 c=5876.47628 d=5764.17254\n",
      " empirical: E: 25.65 V: 373.97\n",
      " theoretic: E: 25.71 V: 424.20\n",
      " desired: E: -1.00 V: 550.00\n",
      "[1810.65][1812.70] best:\tloss:0.0\thyperparams: a=0.07572 b=0.06862 c=7622.53501 d=6739.16084 => E=31.205 V=545.672\n",
      "[1810.65][1812.70] 14000/20001,\tloss:14121.3\thyperparams: a=0.04519 b=0.05159 c=7641.76473 d=6617.63911\n",
      " empirical: E: 25.00 V: 431.17\n",
      " theoretic: E: 25.29 V: 591.32\n",
      " desired: E: -1.00 V: 550.00\n",
      "[1913.67][1915.86] best:\tloss:0.0\thyperparams: a=0.07572 b=0.06862 c=7622.53501 d=6739.16084 => E=31.205 V=545.672\n",
      "[1913.67][1915.86] 15000/20001,\tloss:2972.0\thyperparams: a=0.03762 b=0.04864 c=8478.33847 d=7720.00396\n",
      " empirical: E: 21.15 V: 604.52\n",
      " theoretic: E: 21.24 V: 500.89\n",
      " desired: E: -1.00 V: 550.00\n",
      "[1991.03][1993.33] best:\tloss:0.0\thyperparams: a=0.07572 b=0.06862 c=7622.53501 d=6739.16084 => E=31.205 V=545.672\n",
      "[1991.03][1993.33] 16000/20001,\tloss:6120.3\thyperparams: a=0.02957 b=0.04331 c=3322.96942 d=2903.05667\n",
      " empirical: E: 19.98 V: 471.77\n",
      " theoretic: E: 19.53 V: 535.86\n",
      " desired: E: -1.00 V: 550.00\n",
      "[2052.34][2054.73] best:\tloss:0.0\thyperparams: a=0.07572 b=0.06862 c=7622.53501 d=6739.16084 => E=31.205 V=545.672\n",
      "[2052.34][2054.73] 17000/20001,\tloss:10194.2\thyperparams: a=0.06743 b=0.06728 c=523.49336 d=452.03171\n",
      " empirical: E: 28.39 V: 650.97\n",
      " theoretic: E: 29.02 V: 529.56\n",
      " desired: E: -1.00 V: 550.00\n",
      "[2111.98][2114.46] best:\tloss:0.0\thyperparams: a=0.07572 b=0.06862 c=7622.53501 d=6739.16084 => E=31.205 V=545.672\n",
      "[2111.98][2114.46] 18000/20001,\tloss:4609.9\thyperparams: a=0.03363 b=0.04919 c=10860.76757 d=9928.77329\n",
      " empirical: E: 20.93 V: 482.10\n",
      " theoretic: E: 18.70 V: 434.53\n",
      " desired: E: -1.00 V: 550.00\n",
      "[2172.64][2175.23] best:\tloss:0.0\thyperparams: a=0.07572 b=0.06862 c=7622.53501 d=6739.16084 => E=31.205 V=545.672\n",
      "[2172.64][2175.23] 19000/20001,\tloss:2232.2\thyperparams: a=0.02416 b=0.04084 c=18497.58301 d=15375.16400\n",
      " empirical: E: 17.41 V: 502.75\n",
      " theoretic: E: 17.80 V: 542.18\n",
      " desired: E: -1.00 V: 550.00\n",
      "[2237.46][2240.15] best:\tloss:0.0\thyperparams: a=0.07572 b=0.06862 c=7622.53501 d=6739.16084 => E=31.205 V=545.672\n",
      "[2237.46][2240.15] 20000/20001,\tloss:745.2\thyperparams: a=0.03803 b=0.05155 c=4438.72377 d=3607.64182\n",
      " empirical: E: 23.23 V: 577.30\n",
      " theoretic: E: 22.69 V: 564.33\n",
      " desired: E: -1.00 V: 550.00\n"
     ]
    }
   ],
   "source": [
    "for iteration in range(NITER):\n",
    "  \n",
    "    ##########################################################################################################\n",
    "    # Optimization\n",
    "    iteration_start_time = time.time()\n",
    "        \n",
    "    with tf.GradientTape() as tape:        \n",
    "        p1,p2 = forward_transformation(p0u), forward_transformation(p1u) \n",
    "        p3,p4 = forward_transformation(p2u), forward_transformation(p3u) \n",
    "        \n",
    "        a,b,c,d =  forward_parametrization(p1,p2,p3,p4)           \n",
    "        expectation, variance = empirical_moments(a, b, c, d, NSAMPLES_LATENT, NSAMPLES_OUTPUT)        \n",
    "        loss = discrepancy(expectation, variance) -(LAMBDA*variance if LAMBDA>0 else 0.0) # just to be sure\n",
    "    \n",
    "    grads = tape.gradient(loss, trainable_variables)              \n",
    "    optimizer.apply_gradients(zip(grads, trainable_variables), global_step=tf.train.get_or_create_global_step())\n",
    "    expectation_exact, variance_exact = theoretical_moments(a, b, c, d)\n",
    "    #print(iteration,\">>\",a,b,c,d,expectation_exact, variance_exact)\n",
    "    computation_time += (time.time()-iteration_start_time)\n",
    "    \n",
    "    if loss<best_loss: #TODO Can do better by evaluating here the loss with more samples\n",
    "        best_loss = loss.numpy()\n",
    "        best_a, best_b, best_c, best_d = a.numpy(), b.numpy(), c.numpy(), d.numpy()\n",
    "        best_E, best_V = theoretical_moments(best_a, best_b, best_c, best_d)\n",
    "        \n",
    "    ##########################################################################################################\n",
    "    # Reporting:\n",
    "    failed = not is_valid(np.array(expectation))\n",
    "    elapsed = time.time() - start\n",
    "    if (failed) or (iteration<100) or (iteration%50==0): \n",
    "        r = (ID, D, SEED,\n",
    "             a0, b0, c0, d0, NITER, LR,\n",
    "             K, NSAMPLES_LATENT, NSAMPLES_OUTPUT, \n",
    "             DESIRED_EXPECTATION, DESIRED_VARIANCE, LAMBDA,\n",
    "             ((NITER-1) if failed else iteration), computation_time, \n",
    "             a.numpy(), b.numpy(), c.numpy(), d.numpy(), \n",
    "             loss.numpy(), expectation_exact.numpy(), variance_exact.numpy(), expectation.numpy(), variance.numpy(),\n",
    "             best_loss, best_a, best_b, best_c, best_d, best_E, best_V,\n",
    "             failed)\n",
    "        results.append(r)\n",
    "\n",
    "    if (failed) or (iteration<10) or (iteration<1000 and iteration%100==0)  or (iteration%1000==0): \n",
    "        print(\"[%.2f][%.2f] best:\\tloss:%.1f\\thyperparams: a=%.5f b=%.5f c=%.5f d=%.5f => E=%.3f V=%.3f\" % \n",
    "              (computation_time, elapsed, best_loss, best_a, best_b, best_c, best_d, best_E, best_V))        \n",
    "        print(\"[%.2f][%.2f] %i/%i,\\tloss:%.1f\\thyperparams: a=%.5f b=%.5f c=%.5f d=%.5f\" % \n",
    "              (computation_time, elapsed, iteration, NITER, loss.numpy(), \n",
    "               a.numpy(), b.numpy(), c.numpy(), d.numpy()))                \n",
    "        print(\" empirical: E: %.2f V: %.2f\" % (expectation, variance) )    \n",
    "        print(\" theoretic: E: %.2f V: %.2f\" % (expectation_exact, variance_exact) )\n",
    "        print(\" desired: E: %.2f V: %.2f\" % (DESIRED_EXPECTATION, DESIRED_VARIANCE) )                \n",
    "        sys.stdout.flush()\n",
    "        \n",
    "    if failed:\n",
    "        print(\"Error: ran into invalid values!\")\n",
    "        break"
   ]
  },
  {
   "cell_type": "code",
   "execution_count": 24,
   "metadata": {},
   "outputs": [
    {
     "name": "stdout",
     "output_type": "stream",
     "text": [
      "Saving results to: a=4238.988 b=1599.825 c=1759001.947 d=410671.812 D=V E=-1 V=550 EID=7497 K=25 LAMBDA=0.0 LR=0.1 M=1 N=1 NITER=20001 S_LATENT=1000 S_OUTPUT=10 PARAMETRIZATION=musigma SAMPLING=3 SEED=129 TT=0123 VARIABLES_TRANSFORMATION=softplus.csv\n"
     ]
    }
   ],
   "source": [
    "path = ID+\".csv\"\n",
    "print(\"Saving results to: %s\" % path)\n",
    "df = pd.DataFrame(results)\n",
    "CN = [\"ID\", \"D\", \"SEED\", \"a0\", \"b0\", \"c0\", \"d0\", \"NITER\", \"LR\", \"K\", \"S\", \"SY\", \"E\", \"V\", \"LAMBDA\",\n",
    "      \"iteration\", \"elapsed\", \"ct\", \"rt\", \"cb\", \"rb\", \"loss\", \"Et\", \"Vt\", \"Ee\", \"Ve\", \n",
    "      \"best_loss\", \"best_a\", \"best_b\", \"best_c\", \"best_d\", \"best_E\", \"best_V\", \"failed\"]\n",
    "df.rename(columns=dict(enumerate(CN)), inplace=True)\n",
    "df.to_csv(path, header=True, index=False);"
   ]
  },
  {
   "cell_type": "markdown",
   "metadata": {},
   "source": [
    "# Visualization"
   ]
  },
  {
   "cell_type": "code",
   "execution_count": 25,
   "metadata": {},
   "outputs": [],
   "source": [
    "from aux_plt import *\n",
    "import warnings\n",
    "warnings.filterwarnings(\"ignore\")"
   ]
  },
  {
   "cell_type": "markdown",
   "metadata": {},
   "source": [
    "## Convergence analysis"
   ]
  },
  {
   "cell_type": "code",
   "execution_count": 26,
   "metadata": {},
   "outputs": [
    {
     "data": {
      "image/png": "[encoded data removed]",
      "text/plain": [
       "<Figure size 460.8x345.6 with 2 Axes>"
      ]
     },
     "metadata": {},
     "output_type": "display_data"
    }
   ],
   "source": [
    "  start_plotting(cmbright=False)\n",
    "  ax2 = plt.subplot(212)\n",
    "  ax1 = plt.subplot(211)\n",
    "\n",
    "  means = df.groupby([\"iteration\"]).mean().reset_index()\n",
    "  stds = df.groupby([\"iteration\"]).std().reset_index()\n",
    "  assert (means.iteration == stds.iteration).all()\n",
    "  iteration = means.iteration\n",
    "    \n",
    "  e, var = theoretical_moments(a0,b0,c0,d0)\n",
    "  #label=\"E=%.0f V=%.0f (a=%s b=%s c=%s d=%s)\" % (e, var, f(a0),f(b0),f(c0),f(d0))\n",
    "  plt.title(r\"Initialization $\\mathbb{E}=%.3f$ $\\mathbb{V}=%.3f$\" % (e, var))\n",
    "    \n",
    "  plt.sca(ax1)\n",
    "  errorfill((iteration), (means[\"Et\"]), (stds[\"Et\"]), color=\"dodgerblue\", \n",
    "            alpha_fill=0.1, label=\"exact\", smooth=0)\n",
    "  errorfill((iteration), (means[\"Ee\"]), (stds[\"Ee\"]), color=\"blue\", \n",
    "            alpha_fill=0.1, label=\"empirical\", smooth=0, ls=\"--\")\n",
    "  plt.sca(ax2)\n",
    "  errorfill((iteration), (means[\"Vt\"]), (stds[\"Vt\"]), color=\"salmon\", \n",
    "            alpha_fill=0.1, label=\"exact\", smooth=0)\n",
    "  errorfill((iteration), (means[\"Ve\"]), (stds[\"Ve\"]), color=\"red\", \n",
    "            alpha_fill=0.1, label=\"empirical\", smooth=0, ls=\"--\")\n",
    "\n",
    "  plt.sca(ax2)\n",
    "  plt.xlabel(\"Iteration\")\n",
    "  plt.ylabel(r\"Variance\")\n",
    "  goal = means[\"V\"][0]\n",
    "  if goal>-1:\n",
    "    x1,x2 = plt.xlim()\n",
    "    plt.axhline(goal, lw=2.5, color=\"darkgray\", ls=\"--\")\n",
    "    plt.text(x2,goal, r\"goal $~$\", va=\"top\", ha=\"right\", fontsize=20, color=\"darkgray\")\n",
    "  plt.legend()\n",
    "  plt.ylim(0,1000)\n",
    "  \n",
    "  plt.sca(ax1)\n",
    "  plt.legend()\n",
    "  plt.xticks([],[])\n",
    "  plt.ylabel(r\"Expectation\")\n",
    "  goal = means[\"E\"][0]\n",
    "  if goal>-1:\n",
    "    x1,x2 = plt.xlim()\n",
    "    plt.axhline(goal, lw=2.5, color=\"darkgray\", ls=\"--\")\n",
    "    plt.text(x2,goal, r\"goal $~$\", va=\"top\", ha=\"right\", fontsize=20, color=\"darkgray\")\n",
    "    \n",
    "  plt.show()"
   ]
  },
  {
   "cell_type": "markdown",
   "metadata": {},
   "source": [
    "## The best value(s) found up to certain iteration"
   ]
  },
  {
   "cell_type": "code",
   "execution_count": 27,
   "metadata": {},
   "outputs": [
    {
     "data": {
      "image/png": "[encoded data removed]",
      "text/plain": [
       "<Figure size 460.8x345.6 with 2 Axes>"
      ]
     },
     "metadata": {},
     "output_type": "display_data"
    }
   ],
   "source": [
    "  start_plotting(cmbright=False)\n",
    "  ax2 = plt.subplot(212)\n",
    "  ax1 = plt.subplot(211)\n",
    "\n",
    "  means = df.groupby([\"iteration\"]).mean().reset_index()\n",
    "  stds = df.groupby([\"iteration\"]).std().reset_index()\n",
    "  assert (means.iteration == stds.iteration).all()\n",
    "  #xs = means.iteration; xlabel = \"Iteration\" # Iteration on horizontal axis\n",
    "  xs = means.elapsed; xlabel = \"Time [s]\" # Time on horizontal axis\n",
    "    \n",
    "  e, var = theoretical_moments(a0,b0,c0,d0)\n",
    "  #label=\"E=%.0f V=%.0f (a=%s b=%s c=%s d=%s)\" % (e, var, f(a0),f(b0),f(c0),f(d0))\n",
    "  plt.title(r\"Initialization $\\mathbb{E}=%.0f$ $\\mathbb{V}=%.0f$\" % (e, var))\n",
    "    \n",
    "  plt.sca(ax1)\n",
    "  errorfill((xs), (means[\"best_E\"]), (stds[\"best_E\"]), color=\"dodgerblue\", \n",
    "            alpha_fill=0.1, label=\"theoretical for the best\", smooth=0)\n",
    "  plt.sca(ax2)\n",
    "  errorfill((xs), (means[\"best_V\"]), (stds[\"best_V\"]), color=\"salmon\", \n",
    "            alpha_fill=0.1, label=\"theoretical for the best\", smooth=0)\n",
    "\n",
    "  plt.sca(ax2)      \n",
    "  plt.xlabel(xlabel)\n",
    "  plt.ylabel(r\"Variance\")\n",
    "  goal = means[\"V\"][0]\n",
    "  if goal>-1:\n",
    "    x1,x2 = plt.xlim()\n",
    "    plt.axhline(goal, lw=2.5, color=\"darkgray\", ls=\"--\")\n",
    "    plt.text(x2,goal, r\"goal $~$\", va=\"top\", ha=\"right\", fontsize=20, color=\"darkgray\")\n",
    "  plt.legend()\n",
    "  plt.ylim(0,1000)\n",
    "    \n",
    "  \n",
    "  plt.sca(ax1)\n",
    "  plt.legend()\n",
    "  plt.xticks([],[])\n",
    "  plt.ylabel(r\"Expectation\")\n",
    "  goal = means[\"E\"][0]\n",
    "  if goal>-1:\n",
    "    x1,x2 = plt.xlim()\n",
    "    plt.axhline(goal, lw=2.5, color=\"darkgray\", ls=\"--\")\n",
    "    plt.text(x2,goal, r\"goal $~$\", va=\"top\", ha=\"right\", fontsize=20, color=\"darkgray\")\n",
    "    \n",
    "  plt.show()"
   ]
  },
  {
   "cell_type": "markdown",
   "metadata": {},
   "source": [
    "## Hyperameters' values during optimization"
   ]
  },
  {
   "cell_type": "code",
   "execution_count": 28,
   "metadata": {},
   "outputs": [
    {
     "data": {
      "image/png": "[encoded data removed]",
      "text/plain": [
       "<Figure size 460.8x345.6 with 1 Axes>"
      ]
     },
     "metadata": {},
     "output_type": "display_data"
    }
   ],
   "source": [
    "  start_plotting(cmbright=False)\n",
    "  \n",
    "  means = df.groupby([\"iteration\"]).mean().reset_index()\n",
    "  stds = df.groupby([\"iteration\"]).std().reset_index()\n",
    "  assert (means.iteration == stds.iteration).all()\n",
    "  iteration = means.iteration  \n",
    "  \n",
    "  e, var = theoretical_moments(a0,b0,c0,d0)\n",
    "  plt.title(r\"Initialization: $\\mathbb{E}=%.0f$ $\\mathbb{V}=%.0f$\" % (e, var), fontsize=20)\n",
    "  \n",
    "  errorfill((iteration), (means[\"cb\"]), (stds[\"cb\"]), color=COLORS[0], alpha_fill=0.2, smooth=0, ls=\"-\", label=\"a\")\n",
    "  errorfill((iteration), (means[\"rb\"]), (stds[\"rb\"]), color=COLORS[1], alpha_fill=0.2, smooth=0, ls=\"--\", label=\"b\")\n",
    "  errorfill((iteration), (means[\"ct\"]), (stds[\"ct\"]), color=COLORS[2], alpha_fill=0.2, smooth=0, ls=\"-.\", label=\"c\")\n",
    "  errorfill((iteration), (means[\"ct\"]), (stds[\"ct\"]), color=\"orange\", alpha_fill=0.2, smooth=0, ls=\"dotted\", label=\"d\")\n",
    "\n",
    "  plt.legend(fontsize=15)  \n",
    "  plt.xlabel(\"Iteration\")\n",
    "  plt.ylabel(\"Value\")\n",
    "  plt.show()  "
   ]
  },
  {
   "cell_type": "code",
   "execution_count": null,
   "metadata": {},
   "outputs": [],
   "source": []
  },
  {
   "cell_type": "code",
   "execution_count": null,
   "metadata": {},
   "outputs": [],
   "source": []
  }
 ],
 "metadata": {
  "colab": {
   "collapsed_sections": [],
   "name": "HPF Matching priors",
   "private_outputs": true,
   "provenance": [],
   "version": "0.3.2"
  },
  "kernelspec": {
   "display_name": "Python 3",
   "language": "python",
   "name": "python3"
  },
  "language_info": {
   "codemirror_mode": {
    "name": "ipython",
    "version": 3
   },
   "file_extension": ".py",
   "mimetype": "text/x-python",
   "name": "python",
   "nbconvert_exporter": "python",
   "pygments_lexer": "ipython3",
   "version": "3.6.8"
  }
 },
 "nbformat": 4,
 "nbformat_minor": 1
}
