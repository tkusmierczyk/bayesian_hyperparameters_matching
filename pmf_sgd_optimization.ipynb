{
 "cells": [
  {
   "cell_type": "markdown",
   "metadata": {
    "colab_type": "text",
    "id": "BAdp1h4FSIgQ"
   },
   "source": [
    "# PMF: matching requested expectation and variance using SGD"
   ]
  },
  {
   "cell_type": "markdown",
   "metadata": {},
   "source": [
    "The notebook demonstrates how priors matching requested values of prior predictive expectation and/or variance can be found for Poisson Matrix Factorization model using SGD."
   ]
  },
  {
   "cell_type": "markdown",
   "metadata": {
    "colab_type": "text",
    "id": "RBAeIwOMrYk8"
   },
   "source": [
    "## Setup \n"
   ]
  },
  {
   "cell_type": "code",
   "execution_count": 1,
   "metadata": {},
   "outputs": [],
   "source": [
    "from __future__ import absolute_import, division, print_function, unicode_literals"
   ]
  },
  {
   "cell_type": "code",
   "execution_count": 2,
   "metadata": {
    "attributes": {
     "classes": [
      "py"
     ],
     "id": ""
    },
    "colab": {},
    "colab_type": "code",
    "id": "N-2lSGiHqEfq"
   },
   "outputs": [],
   "source": [
    "import tensorflow as tf\n",
    "#tf.enable_eager_execution()\n",
    "import tensorflow_probability as tfp\n",
    "from tensorflow_probability import distributions as tfd\n",
    "#tfe = tf.contrib.eager"
   ]
  },
  {
   "cell_type": "code",
   "execution_count": 3,
   "metadata": {},
   "outputs": [
    {
     "data": {
      "text/plain": [
       "('2.1.0', '0.9.0')"
      ]
     },
     "execution_count": 3,
     "metadata": {},
     "output_type": "execute_result"
    }
   ],
   "source": [
    "tf.__version__, tfp.__version__"
   ]
  },
  {
   "cell_type": "code",
   "execution_count": 4,
   "metadata": {},
   "outputs": [
    {
     "data": {
      "text/plain": [
       "True"
      ]
     },
     "execution_count": 4,
     "metadata": {},
     "output_type": "execute_result"
    }
   ],
   "source": [
    "tf.executing_eagerly()"
   ]
  },
  {
   "cell_type": "code",
   "execution_count": 5,
   "metadata": {
    "attributes": {
     "classes": [
      "py"
     ],
     "id": ""
    },
    "colab": {},
    "colab_type": "code",
    "id": "9gsI54pbqEfj"
   },
   "outputs": [],
   "source": [
    "import time\n",
    "import numpy as np\n",
    "import pandas as pd"
   ]
  },
  {
   "cell_type": "code",
   "execution_count": 6,
   "metadata": {},
   "outputs": [],
   "source": [
    "from aux import *"
   ]
  },
  {
   "cell_type": "markdown",
   "metadata": {},
   "source": [
    "# Configuration"
   ]
  },
  {
   "cell_type": "code",
   "execution_count": 7,
   "metadata": {},
   "outputs": [
    {
     "name": "stdout",
     "output_type": "stream",
     "text": [
      "parsing: <-f>\n"
     ]
    }
   ],
   "source": [
    "args = parse_script_args()"
   ]
  },
  {
   "cell_type": "code",
   "execution_count": 8,
   "metadata": {},
   "outputs": [],
   "source": [
    "np.random.seed(int(time.time()))\n",
    "EID = np.random.randint(10000) # experiment id"
   ]
  },
  {
   "cell_type": "code",
   "execution_count": 9,
   "metadata": {},
   "outputs": [],
   "source": [
    "SEED = args.get(\"SEED\", 129)\n",
    "np.random.seed(SEED)"
   ]
  },
  {
   "cell_type": "code",
   "execution_count": 10,
   "metadata": {},
   "outputs": [],
   "source": [
    "N, M = 1, 1\n",
    "K = args.get(\"K\", 25) # factorization dimensions"
   ]
  },
  {
   "cell_type": "code",
   "execution_count": 11,
   "metadata": {},
   "outputs": [],
   "source": [
    "NITER = args.get(\"NITER\", 1000) + 1 # how many iterations\n",
    "LR = args.get(\"LR\", 0.1) # learning rate\n",
    "LAMBDA = args.get(\"LAMBDA\", 0.0) # regularization"
   ]
  },
  {
   "cell_type": "code",
   "execution_count": 12,
   "metadata": {},
   "outputs": [],
   "source": [
    "# requested values\n",
    "DESIRED_EXPECTATION = args.get(\"E\", 50)\n",
    "DESIRED_VARIANCE = args.get(\"V\", 1000)\n",
    "\n",
    "# discrepancy measure: care about E=only expectation, V=only variance, EV=both\n",
    "D = args.get(\"D\", \"EV\") \n",
    "if D==\"E\": DESIRED_VARIANCE = -1\n",
    "if D==\"V\": DESIRED_EXPECTATION = -1\n",
    "    \n",
    "# (mean (tf.reduce_mean) should be taken if more than one cell used)\n",
    "discrepancy_expectation = lambda expectation, variance: (expectation-DESIRED_EXPECTATION)**2 \n",
    "discrepancy_variance    = lambda expectation, variance: (variance-DESIRED_VARIANCE)**2 \n",
    "discrepancy_exp_var     = lambda expectation, variance: discrepancy_variance(expectation, variance) + \\\n",
    "                                                        discrepancy_expectation(expectation, variance) #!\n",
    "\n",
    "NAME2DISCREPANCY = {\"E\":  discrepancy_expectation, \"EV\": discrepancy_exp_var, \"V\": discrepancy_variance}\n",
    "discrepancy = NAME2DISCREPANCY[D]"
   ]
  },
  {
   "cell_type": "code",
   "execution_count": 13,
   "metadata": {},
   "outputs": [],
   "source": [
    "# sampling strategy: independent or the same samples for E & V\n",
    "SAMPLING = args.get(\"SAMPLING\", 0)\n",
    "if SAMPLING==0 and LAMBDA<=0.0:\n",
    "    if D==\"E\": SAMPLING = 2 # if V is not used\n",
    "    if D==\"V\": SAMPLING = 3 # if E is not used\n",
    "    \n",
    "NSAMPLES_LATENT = args.get(\"S\", 1000) # how many samples of latent variables\n",
    "NSAMPLES_OUTPUT = args.get(\"SY\", 10)  # how many samples of outputs for each latent\n",
    "\n",
    "LOG_SCORE_DERIVATIVES = True"
   ]
  },
  {
   "cell_type": "code",
   "execution_count": 14,
   "metadata": {},
   "outputs": [
    {
     "name": "stdout",
     "output_type": "stream",
     "text": [
      "Random initialization: mut=2.650 st=0.041 mub=4.283 sb=0.003\n"
     ]
    }
   ],
   "source": [
    "# optimization initial values (always in terms of abcd parametrization)\n",
    "\n",
    "a0, b0, c0, d0 = args.get(\"a\", None), args.get(\"b\", None), args.get(\"c\", None), args.get(\"d\", None) # random init\n",
    "\n",
    "# if not set choose randomly mu-s and sigma-s from 10**e, e in [1e-3, 1e3]\n",
    "if a0 is None or a0<=0:\n",
    "    mut = 10**(np.random.random()*6.0-3.0) \n",
    "    sigmat = 10**(np.random.random()*6.0-3.0) \n",
    "    mub = 10**(np.random.random()*6.0-3.0) \n",
    "    sigmab = 10**(np.random.random()*6.0-3.0) \n",
    "    a0,b0 = (mut*mut)/(sigmat*sigmat), mut/(sigmat*sigmat)\n",
    "    c0,d0 = (mub*mub)/(sigmab*sigmab), mub/(sigmab*sigmab)\n",
    "    print(\"Random initialization: mut=%.3f st=%.3f mub=%.3f sb=%.3f\" % (mut, sigmat, mub, sigmab))\n",
    "\n",
    "    \n",
    "# which parameter space\n",
    "PARAMETRIZATION = args.get(\"PARAMETRIZATION\", \"musigma\") # musigma/abcd\n",
    "# how to transform from unbounded space to a bounded one and vice versa\n",
    "VARIABLES_TRANSFORMATION = args.get(\"TRANSFORMATION\", \"softplus\") # softplus/exp/pow10\n",
    "# which of the parameters to train\n",
    "TRAINABLE = args.get(\"TRAIN\", \"0123\") "
   ]
  },
  {
   "cell_type": "code",
   "execution_count": 15,
   "metadata": {},
   "outputs": [
    {
     "name": "stdout",
     "output_type": "stream",
     "text": [
      "DESCRIPTION: a=4238.988 b=1599.825 c=1759001.947 d=410671.812 D=EV E=50 V=1000 EID=6115 K=25 LAMBDA=0.0 LR=0.1 M=1 N=1 NITER=1001 S_LATENT=1000 S_OUTPUT=10 PARAMETRIZATION=musigma SAMPLING=0 SEED=129 TT=0123 VARIABLES_TRANSFORMATION=softplus\n"
     ]
    }
   ],
   "source": [
    "DESCRIPTION = dict2str(globals()).replace(\"NSAMPLES\", \"S\").replace(\"DESIRED_\", \"\").replace(\"EXPECTATION\", \"E\").replace(\"VARIANCE\", \"V\").replace(\"TRAINABLE\", \"TT\")\n",
    "DESCRIPTION = \"a=%.3f b=%.3f c=%.3f d=%.3f %s\" % (a0,b0,c0,d0,DESCRIPTION)\n",
    "print(\"DESCRIPTION: %s\" % DESCRIPTION)\n",
    "\n",
    "ID = str(args.get(\"ID\", DESCRIPTION))"
   ]
  },
  {
   "cell_type": "markdown",
   "metadata": {},
   "source": [
    "# Parameterization and transformation"
   ]
  },
  {
   "cell_type": "markdown",
   "metadata": {},
   "source": [
    "We consider two problem parametrizations: either abcd or mu-sigma.\n",
    "Also, we need to perform a transformation from unconstrained space."
   ]
  },
  {
   "cell_type": "code",
   "execution_count": 16,
   "metadata": {},
   "outputs": [],
   "source": [
    "def abcd2musigma(a, b, c, d, env=tf):    \n",
    "    return a/b, env.sqrt(a)/b, c/d, env.sqrt(c)/d\n",
    "  \n",
    "\n",
    "def musigma2abcd(mut, sigmat, mub, sigmab):    \n",
    "    a,b = (mut*mut)/(sigmat*sigmat), mut/(sigmat*sigmat)\n",
    "    c,d = (mub*mub)/(sigmab*sigmab), mub/(sigmab*sigmab)\n",
    "    return a, b, c, d\n",
    "\n",
    "\n",
    "def abcd2abcd(a, b, c, d, env=tf):    \n",
    "    return a,b,c,d"
   ]
  },
  {
   "cell_type": "code",
   "execution_count": 17,
   "metadata": {},
   "outputs": [
    {
     "name": "stdout",
     "output_type": "stream",
     "text": [
      "forward_transformation:=softplus backward_transformation:=softplus_inverse\n",
      "forward_parametrization:=musigma2abcd backward_parametrization:=abcd2musigma \n"
     ]
    }
   ],
   "source": [
    "#from tensorflow.contrib.distributions import softplus_inverse\n",
    "#softplus_inverse = lambda v: tf.log(tf.exp(v)-1.0)\n",
    "softplus_inverse = tfp.math.softplus_inverse\n",
    "NAME2TRANSFORMATION = {\"softplus\": (tf.nn.softplus, softplus_inverse), \n",
    "                       \"exp\": (tf.exp, np.log),\n",
    "                       \"pow10\": (lambda v: tf.math.pow(10.0, v), lambda v: tf.math.log(v)*0.434294482)}\n",
    "forward_transformation, backward_transformation = NAME2TRANSFORMATION[VARIABLES_TRANSFORMATION]\n",
    "\n",
    "print(\"forward_transformation:=%s backward_transformation:=%s\" % \n",
    "      (forward_transformation.__name__, backward_transformation.__name__))\n",
    "#print(\"  transformation prec:\", np.array(backward_transformation(forward_transformation(a0))-a0))\n",
    "\n",
    "NAME2PARAMETRIZATION = {\"abcd\": (abcd2abcd, abcd2abcd), \"musigma\": (musigma2abcd, abcd2musigma)}\n",
    "forward_parametrization, backward_parametrization = NAME2PARAMETRIZATION[PARAMETRIZATION]\n",
    "\n",
    "print(\"forward_parametrization:=%s backward_parametrization:=%s \" % \n",
    "      (forward_parametrization.__name__, backward_parametrization.__name__))\n",
    "#print(\"  parametrization prec:\", forward_parametrization(*backward_parametrization(a0,b0,c0,d0))-np.array([a0,b0,c0,d0]))\n",
    "#assert (np.round(inverse_parametrization(*parametrization(a0,b0,c0,d0))-np.array([a0,b0,c0,d0]),2) ==0).all()"
   ]
  },
  {
   "cell_type": "markdown",
   "metadata": {},
   "source": [
    "# Choose expectation & variance estimators"
   ]
  },
  {
   "cell_type": "code",
   "execution_count": 18,
   "metadata": {},
   "outputs": [
    {
     "name": "stdout",
     "output_type": "stream",
     "text": [
      "empirical_moments := empirical_moments_fully_decoupled\n"
     ]
    }
   ],
   "source": [
    "from pmf_model import create_moments_estimator, empirical_Ey_and_Ey2_tf, empirical_Ey_and_Ey2_tf_logscore\n",
    "theoretical_moments = create_moments_estimator(K=K, ESTIMATOR_NO=-1, N=1, M=1)\n",
    "empirical_moments   = create_moments_estimator(K=K, ESTIMATOR_NO=SAMPLING, N=1, M=1, \n",
    "    empirical_Ey_and_Ey2=empirical_Ey_and_Ey2_tf_logscore if LOG_SCORE_DERIVATIVES else empirical_Ey_and_Ey2_tf)\n",
    "print(\"empirical_moments := %s\" % empirical_moments.__name__)"
   ]
  },
  {
   "cell_type": "code",
   "execution_count": 19,
   "metadata": {},
   "outputs": [
    {
     "name": "stdout",
     "output_type": "stream",
     "text": [
      "Initialization: a=4238.988\tb=1599.825\tc=1759001.947\td=410671.812\t=> E=283.7273 \tV=284.4888\n"
     ]
    }
   ],
   "source": [
    "e, v = theoretical_moments(a0, b0, c0, d0)\n",
    "print(\"Initialization: a=%.3f\\tb=%.3f\\tc=%.3f\\td=%.3f\\t=> E=%.4f \\tV=%.4f\" % (a0, b0, c0, d0, e, v))"
   ]
  },
  {
   "cell_type": "markdown",
   "metadata": {
    "colab_type": "text",
    "id": "49UKjZZLR2Nh"
   },
   "source": [
    "# Find hyperparameters matching desired values"
   ]
  },
  {
   "cell_type": "code",
   "execution_count": 20,
   "metadata": {},
   "outputs": [],
   "source": [
    "#tf.random.set_random_seed(SEED)\n",
    "tf.random.set_seed(SEED)\n",
    "np.random.seed(SEED)"
   ]
  },
  {
   "cell_type": "code",
   "execution_count": 21,
   "metadata": {
    "colab": {},
    "colab_type": "code",
    "id": "Yn6hR1_LZ4FR"
   },
   "outputs": [
    {
     "name": "stdout",
     "output_type": "stream",
     "text": [
      "Initialization: i0=2.650, i1=0.041, i2=4.283, i3=0.003\n",
      "Initialization: p0u=2.576, p1u=-3.181, p2u=4.269, p3u=-5.734\n"
     ]
    }
   ],
   "source": [
    "# init (unbounded) params\n",
    "float1 = lambda v: tf.Variable(float(v), dtype=tf.float64)\n",
    "float2 = lambda v: tf.Variable(v, dtype=tf.float64)\n",
    "\n",
    "a0tf, b0tf, c0tf, d0tf = float2(a0), float2(b0), float2(c0), float2(d0)\n",
    "i0, i1, i2, i3 = backward_parametrization(a0tf, b0tf, c0tf, d0tf, env=tf)\n",
    "#i0, i1, i2, i3 = float1(i0), float1(i1), float1(i2), float1(i3)\n",
    "\n",
    "p0u = tf.Variable(backward_transformation(i0), name=\"0\", dtype=tf.float64) \n",
    "p1u = tf.Variable(backward_transformation(i1), name=\"1\", dtype=tf.float64) \n",
    "p2u = tf.Variable(backward_transformation(i2), name=\"2\", dtype=tf.float64) \n",
    "p3u = tf.Variable(backward_transformation(i3), name=\"3\", dtype=tf.float64) \n",
    "\n",
    "print(\"Initialization: i0=%.3f, i1=%.3f, i2=%.3f, i3=%.3f\" % \n",
    "      (i0.numpy(), i1.numpy(), i2.numpy(), i3.numpy()))\n",
    "print(\"Initialization: p0u=%.3f, p1u=%.3f, p2u=%.3f, p3u=%.3f\" % \n",
    "      (p0u.numpy(), p1u.numpy(), p2u.numpy(), p3u.numpy()))"
   ]
  },
  {
   "cell_type": "code",
   "execution_count": 22,
   "metadata": {},
   "outputs": [],
   "source": [
    "trainable_variables = [var for var in [p0u, p1u, p2u, p3u] if var.name.split(\":\")[0] in TRAINABLE]\n",
    "#optimizer = tf.train.AdamOptimizer(learning_rate=LR)\n",
    "optimizer = tf.keras.optimizers.Adam(learning_rate=LR)\n",
    "start = time.time()\n",
    "computation_time = 0.0\n",
    "results = []"
   ]
  },
  {
   "cell_type": "code",
   "execution_count": 23,
   "metadata": {},
   "outputs": [],
   "source": [
    "best_loss = float(\"inf\")\n",
    "best_a, best_b, best_c, best_d = -1.0, -1.0, -1.0, -1.0\n",
    "best_E, best_V = -1.0, -1.0"
   ]
  },
  {
   "cell_type": "code",
   "execution_count": 24,
   "metadata": {
    "colab": {},
    "colab_type": "code",
    "id": "8KG3bvR1PTPP"
   },
   "outputs": [
    {
     "name": "stdout",
     "output_type": "stream",
     "text": [
      "[0.88][0.93] best:\tloss:641195.5\thyperparams: a=4238.98805 b=1599.82486 c=1759001.94695 d=410671.81196 => E=283.727 V=284.489\n",
      "[0.88][0.93] 0/1001,\tloss:641195.5\thyperparams: a=4238.98805 b=1599.82486 c=1759001.94695 d=410671.81196\n",
      " empirical: E: 283.89 V: 234.17\n",
      " theoretic: E: 283.73 V: 284.49\n",
      " desired: E: 50.00 V: 1000.00\n",
      "[1.07][1.12] best:\tloss:641195.5\thyperparams: a=4238.98805 b=1599.82486 c=1759001.94695 d=410671.81196 => E=283.727 V=284.489\n",
      "[1.07][1.12] 1/1001,\tloss:740483.9\thyperparams: a=4803.55190 b=1878.54259 c=2050093.22142 d=489904.37229\n",
      " empirical: E: 267.76 V: 167.49\n",
      " theoretic: E: 267.51 V: 268.11\n",
      " desired: E: 50.00 V: 1000.00\n",
      "[1.29][1.34] best:\tloss:419198.6\thyperparams: a=5105.69151 b=2069.69616 c=2257361.43533 d=551777.13917 => E=252.305 V=252.805\n",
      "[1.29][1.34] 2/1001,\tloss:419198.6\thyperparams: a=5105.69151 b=2069.69616 c=2257361.43533 d=551777.13917\n",
      " empirical: E: 252.35 V: 384.98\n",
      " theoretic: E: 252.30 V: 252.80\n",
      " desired: E: 50.00 V: 1000.00\n",
      "[1.48][1.53] best:\tloss:419198.6\thyperparams: a=5105.69151 b=2069.69616 c=2257361.43533 d=551777.13917 => E=252.305 V=252.805\n",
      "[1.48][1.53] 3/1001,\tloss:680315.4\thyperparams: a=5666.87028 b=2296.91983 c=2066255.40456 d=512568.09248\n",
      " empirical: E: 248.74 V: 199.49\n",
      " theoretic: E: 248.64 V: 249.08\n",
      " desired: E: 50.00 V: 1000.00\n",
      "[1.66][1.72] best:\tloss:419198.6\thyperparams: a=5105.69151 b=2069.69616 c=2257361.43533 d=551777.13917 => E=252.305 V=252.805\n",
      "[1.66][1.72] 4/1001,\tloss:591962.8\thyperparams: a=6175.26647 b=2524.04291 c=1970266.87723 d=497236.19618\n",
      " empirical: E: 242.18 V: 255.00\n",
      " theoretic: E: 242.36 V: 242.74\n",
      " desired: E: 50.00 V: 1000.00\n",
      "[1.87][1.93] best:\tloss:419198.6\thyperparams: a=5105.69151 b=2069.69616 c=2257361.43533 d=551777.13917 => E=252.305 V=252.805\n",
      "[1.87][1.93] 5/1001,\tloss:647918.0\thyperparams: a=6913.20765 b=2831.62267 c=1865771.04988 d=476245.30077\n",
      " empirical: E: 239.22 V: 217.62\n",
      " theoretic: E: 239.12 V: 239.45\n",
      " desired: E: 50.00 V: 1000.00\n",
      "[2.22][2.28] best:\tloss:419198.6\thyperparams: a=5105.69151 b=2069.69616 c=2257361.43533 d=551777.13917 => E=252.305 V=252.805\n",
      "[2.22][2.28] 6/1001,\tloss:836299.7\thyperparams: a=7474.56726 b=3078.80741 c=1834267.91929 d=472636.54419\n",
      " empirical: E: 235.52 V: 104.52\n",
      " theoretic: E: 235.55 V: 235.85\n",
      " desired: E: 50.00 V: 1000.00\n",
      "[2.51][2.57] best:\tloss:419198.6\thyperparams: a=5105.69151 b=2069.69616 c=2257361.43533 d=551777.13917 => E=252.305 V=252.805\n",
      "[2.51][2.57] 7/1001,\tloss:782230.7\thyperparams: a=7896.83531 b=3309.52362 c=1901892.04530 d=497486.69896\n",
      " empirical: E: 227.99 V: 133.66\n",
      " theoretic: E: 228.05 V: 228.32\n",
      " desired: E: 50.00 V: 1000.00\n",
      "[2.74][2.80] best:\tloss:419198.6\thyperparams: a=5105.69151 b=2069.69616 c=2257361.43533 d=551777.13917 => E=252.305 V=252.805\n",
      "[2.74][2.80] 8/1001,\tloss:579021.8\thyperparams: a=7860.58501 b=3365.68821 c=2040480.27982 d=541266.75694\n",
      " empirical: E: 220.01 V: 258.30\n",
      " theoretic: E: 220.11 V: 220.36\n",
      " desired: E: 50.00 V: 1000.00\n",
      "[2.98][3.05] best:\tloss:419198.6\thyperparams: a=5105.69151 b=2069.69616 c=2257361.43533 d=551777.13917 => E=252.305 V=252.805\n",
      "[2.98][3.05] 9/1001,\tloss:715738.8\thyperparams: a=7948.75381 b=3476.00923 c=2202900.33752 d=591451.82312\n",
      " empirical: E: 212.76 V: 169.79\n",
      " theoretic: E: 212.93 V: 213.16\n",
      " desired: E: 50.00 V: 1000.00\n",
      "[20.91][20.99] best:\tloss:419198.6\thyperparams: a=5105.69151 b=2069.69616 c=2257361.43533 d=551777.13917 => E=252.305 V=252.805\n",
      "[20.91][20.99] 100/1001,\tloss:585437.7\thyperparams: a=8693.31501 b=4011.95092 c=1871839.95779 d=579408.30390\n",
      " empirical: E: 175.07 V: 245.15\n",
      " theoretic: E: 175.01 V: 175.15\n",
      " desired: E: 50.00 V: 1000.00\n",
      "[40.82][40.91] best:\tloss:419198.6\thyperparams: a=5105.69151 b=2069.69616 c=2257361.43533 d=551777.13917 => E=252.305 V=252.805\n",
      "[40.82][40.91] 200/1001,\tloss:780878.5\thyperparams: a=3206.11831 b=2060.48493 c=2395108.76716 d=1077427.94777\n",
      " empirical: E: 86.42 V: 117.08\n",
      " theoretic: E: 86.47 V: 86.57\n",
      " desired: E: 50.00 V: 1000.00\n",
      "[58.94][59.04] best:\tloss:419198.6\thyperparams: a=5105.69151 b=2069.69616 c=2257361.43533 d=551777.13917 => E=252.305 V=252.805\n",
      "[58.94][59.04] 300/1001,\tloss:881519.5\thyperparams: a=473.97657 b=332.40025 c=2270408.02259 d=1155292.72444\n",
      " empirical: E: 70.00 V: 61.32\n",
      " theoretic: E: 70.06 V: 70.47\n",
      " desired: E: 50.00 V: 1000.00\n",
      "[75.95][76.07] best:\tloss:419198.6\thyperparams: a=5105.69151 b=2069.69616 c=2257361.43533 d=551777.13917 => E=252.305 V=252.805\n",
      "[75.95][76.07] 400/1001,\tloss:819448.8\thyperparams: a=4.66382 b=3.54944 c=2194430.06935 d=1236207.38669\n",
      " empirical: E: 58.07 V: 94.80\n",
      " theoretic: E: 58.31 V: 87.47\n",
      " desired: E: 50.00 V: 1000.00\n",
      "[92.41][92.54] best:\tloss:196.3\thyperparams: a=0.14801 b=0.10683 c=1892496.83089 d=1069356.16398 => E=61.297 V=1076.709\n",
      "[92.41][92.54] 500/1001,\tloss:29700.2\thyperparams: a=0.17375 b=0.12592 c=1969180.54162 d=1125732.00033\n",
      " empirical: E: 59.49 V: 1172.08\n",
      " theoretic: E: 60.34 V: 898.60\n",
      " desired: E: 50.00 V: 1000.00\n",
      "[107.43][107.57] best:\tloss:35.7\thyperparams: a=0.13676 b=0.10615 c=2550318.91440 d=1447151.98594 => E=56.764 V=999.177\n",
      "[107.43][107.57] 600/1001,\tloss:691.3\thyperparams: a=0.12444 b=0.09831 c=3079929.47144 d=1667887.80116\n",
      " empirical: E: 58.20 V: 1024.98\n",
      " theoretic: E: 58.43 V: 1156.04\n",
      " desired: E: 50.00 V: 1000.00\n",
      "[121.96][122.12] best:\tloss:35.7\thyperparams: a=0.13676 b=0.10615 c=2550318.91440 d=1447151.98594 => E=56.764 V=999.177\n",
      "[121.96][122.12] 700/1001,\tloss:63314.2\thyperparams: a=0.12055 b=0.09949 c=3359473.15816 d=1879108.81568\n",
      " empirical: E: 53.62 V: 1251.60\n",
      " theoretic: E: 54.16 V: 1027.27\n",
      " desired: E: 50.00 V: 1000.00\n",
      "[139.35][139.52] best:\tloss:3.3\thyperparams: a=0.10598 b=0.09234 c=3860412.66945 d=2183395.00261 => E=50.732 V=1022.157\n",
      "[139.35][139.52] 800/1001,\tloss:535.7\thyperparams: a=0.10657 b=0.09337 c=3774862.79028 d=2170902.35058\n",
      " empirical: E: 50.43 V: 976.86\n",
      " theoretic: E: 49.62 V: 973.73\n",
      " desired: E: 50.00 V: 1000.00\n",
      "[157.49][157.68] best:\tloss:3.3\thyperparams: a=0.10598 b=0.09234 c=3860412.66945 d=2183395.00261 => E=50.732 V=1022.157\n",
      "[157.49][157.68] 900/1001,\tloss:3579.4\thyperparams: a=0.09982 b=0.08875 c=3549488.09278 d=2116206.29014\n",
      " empirical: E: 47.30 V: 1059.77\n",
      " theoretic: E: 47.16 V: 938.56\n",
      " desired: E: 50.00 V: 1000.00\n",
      "[174.69][174.90] best:\tloss:3.3\thyperparams: a=0.10598 b=0.09234 c=3860412.66945 d=2183395.00261 => E=50.732 V=1022.157\n",
      "[174.69][174.90] 1000/1001,\tloss:21194.1\thyperparams: a=0.09430 b=0.09024 c=5287684.67166 d=3040342.35753\n",
      " empirical: E: 45.55 V: 854.49\n",
      " theoretic: E: 45.43 V: 921.09\n",
      " desired: E: 50.00 V: 1000.00\n"
     ]
    }
   ],
   "source": [
    "for iteration in range(NITER):\n",
    "  \n",
    "    ##########################################################################################################\n",
    "    # Optimization\n",
    "    iteration_start_time = time.time()\n",
    "        \n",
    "    with tf.GradientTape() as tape:        \n",
    "        p1,p2 = forward_transformation(p0u), forward_transformation(p1u) \n",
    "        p3,p4 = forward_transformation(p2u), forward_transformation(p3u) \n",
    "        \n",
    "        a,b,c,d =  forward_parametrization(p1,p2,p3,p4)           \n",
    "        expectation, variance = empirical_moments(a, b, c, d, NSAMPLES_LATENT, NSAMPLES_OUTPUT)        \n",
    "        loss = discrepancy(expectation, variance) -(LAMBDA*variance if LAMBDA>0 else 0.0) # just to be sure\n",
    "    \n",
    "    grads = tape.gradient(loss, trainable_variables)              \n",
    "    optimizer.apply_gradients(zip(grads, trainable_variables))#, global_step=tf.train.get_or_create_global_step())\n",
    "    expectation_exact, variance_exact = theoretical_moments(a, b, c, d)\n",
    "    #print(iteration,\">>\",a,b,c,d,expectation_exact, variance_exact)\n",
    "    computation_time += (time.time()-iteration_start_time)\n",
    "    \n",
    "    if loss<best_loss: #TODO Can do better by evaluating here the loss with more samples\n",
    "        best_loss = loss.numpy()\n",
    "        best_a, best_b, best_c, best_d = a.numpy(), b.numpy(), c.numpy(), d.numpy()\n",
    "        best_E, best_V = theoretical_moments(best_a, best_b, best_c, best_d)\n",
    "        \n",
    "    ##########################################################################################################\n",
    "    # Reporting:\n",
    "    failed = not is_valid(np.array(expectation))\n",
    "    elapsed = time.time() - start\n",
    "    if (failed) or (iteration<100) or (iteration%50==0): \n",
    "        r = (ID, D, SEED,\n",
    "             a0, b0, c0, d0, NITER, LR,\n",
    "             K, NSAMPLES_LATENT, NSAMPLES_OUTPUT, \n",
    "             DESIRED_EXPECTATION, DESIRED_VARIANCE, LAMBDA,\n",
    "             ((NITER-1) if failed else iteration), computation_time, \n",
    "             a.numpy(), b.numpy(), c.numpy(), d.numpy(), \n",
    "             loss.numpy(), expectation_exact.numpy(), variance_exact.numpy(), expectation.numpy(), variance.numpy(),\n",
    "             best_loss, best_a, best_b, best_c, best_d, best_E, best_V,\n",
    "             failed)\n",
    "        results.append(r)\n",
    "\n",
    "    if (failed) or (iteration<10) or (iteration<3000 and iteration%100==0)  or (iteration%1000==0): \n",
    "        print(\"[%.2f][%.2f] best:\\tloss:%.1f\\thyperparams: a=%.5f b=%.5f c=%.5f d=%.5f => E=%.3f V=%.3f\" % \n",
    "              (computation_time, elapsed, best_loss, best_a, best_b, best_c, best_d, best_E, best_V))        \n",
    "        print(\"[%.2f][%.2f] %i/%i,\\tloss:%.1f\\thyperparams: a=%.5f b=%.5f c=%.5f d=%.5f\" % \n",
    "              (computation_time, elapsed, iteration, NITER, loss.numpy(), \n",
    "               a.numpy(), b.numpy(), c.numpy(), d.numpy()))                \n",
    "        print(\" empirical: E: %.2f V: %.2f\" % (expectation, variance) )    \n",
    "        print(\" theoretic: E: %.2f V: %.2f\" % (expectation_exact, variance_exact) )\n",
    "        print(\" desired: E: %.2f V: %.2f\" % (DESIRED_EXPECTATION, DESIRED_VARIANCE) )                \n",
    "        sys.stdout.flush()\n",
    "        \n",
    "    if failed:\n",
    "        print(\"Error: ran into invalid values!\")\n",
    "        break"
   ]
  },
  {
   "cell_type": "code",
   "execution_count": 25,
   "metadata": {},
   "outputs": [
    {
     "name": "stdout",
     "output_type": "stream",
     "text": [
      "Saving results to: a=4238.988 b=1599.825 c=1759001.947 d=410671.812 D=EV E=50 V=1000 EID=6115 K=25 LAMBDA=0.0 LR=0.1 M=1 N=1 NITER=1001 S_LATENT=1000 S_OUTPUT=10 PARAMETRIZATION=musigma SAMPLING=0 SEED=129 TT=0123 VARIABLES_TRANSFORMATION=softplus.csv\n"
     ]
    }
   ],
   "source": [
    "path = ID+\".csv\"\n",
    "print(\"Saving results to: %s\" % path)\n",
    "df = pd.DataFrame(results)\n",
    "CN = [\"ID\", \"D\", \"SEED\", \"a0\", \"b0\", \"c0\", \"d0\", \"NITER\", \"LR\", \"K\", \"S\", \"SY\", \"E\", \"V\", \"LAMBDA\",\n",
    "      \"iteration\", \"elapsed\", \"ct\", \"rt\", \"cb\", \"rb\", \"loss\", \"Et\", \"Vt\", \"Ee\", \"Ve\", \n",
    "      \"best_loss\", \"best_a\", \"best_b\", \"best_c\", \"best_d\", \"best_E\", \"best_V\", \"failed\"]\n",
    "df.rename(columns=dict(enumerate(CN)), inplace=True)\n",
    "df.to_csv(path, header=True, index=False);"
   ]
  },
  {
   "cell_type": "markdown",
   "metadata": {},
   "source": [
    "# Visualization"
   ]
  },
  {
   "cell_type": "code",
   "execution_count": 26,
   "metadata": {},
   "outputs": [],
   "source": [
    "from aux_plt import *\n",
    "import warnings\n",
    "warnings.filterwarnings(\"ignore\")"
   ]
  },
  {
   "cell_type": "markdown",
   "metadata": {},
   "source": [
    "## Convergence analysis"
   ]
  },
  {
   "cell_type": "code",
   "execution_count": 27,
   "metadata": {},
   "outputs": [
    {
     "name": "stderr",
     "output_type": "stream",
     "text": [
      "findfont: Font family ['serif'] not found. Falling back to DejaVu Sans.\n"
     ]
    },
    {
     "data": {
      "image/png": "[encoded data removed]",
      "text/plain": [
       "<Figure size 460.8x345.6 with 2 Axes>"
      ]
     },
     "metadata": {},
     "output_type": "display_data"
    }
   ],
   "source": [
    "  start_plotting(cmbright=False)\n",
    "  ax2 = plt.subplot(212)\n",
    "  ax1 = plt.subplot(211)\n",
    "\n",
    "  means = df.groupby([\"iteration\"]).mean().reset_index()\n",
    "  stds = df.groupby([\"iteration\"]).std().reset_index()\n",
    "  assert (means.iteration == stds.iteration).all()\n",
    "  iteration = means.iteration\n",
    "    \n",
    "  e, var = theoretical_moments(a0,b0,c0,d0)\n",
    "  #label=\"E=%.0f V=%.0f (a=%s b=%s c=%s d=%s)\" % (e, var, f(a0),f(b0),f(c0),f(d0))\n",
    "  plt.title(r\"Initialization $\\mathbb{E}=%.3f$ $\\mathbb{V}=%.3f$\" % (e, var))\n",
    "    \n",
    "  plt.sca(ax1)\n",
    "  errorfill((iteration), (means[\"Et\"]), (stds[\"Et\"]), color=\"dodgerblue\", \n",
    "            alpha_fill=0.1, label=\"exact\", smooth=0)\n",
    "  errorfill((iteration), (means[\"Ee\"]), (stds[\"Ee\"]), color=\"blue\", \n",
    "            alpha_fill=0.1, label=\"empirical\", smooth=0, ls=\"--\")\n",
    "  plt.sca(ax2)\n",
    "  errorfill((iteration), (means[\"Vt\"]), (stds[\"Vt\"]), color=\"salmon\", \n",
    "            alpha_fill=0.1, label=\"exact\", smooth=0)\n",
    "  errorfill((iteration), (means[\"Ve\"]), (stds[\"Ve\"]), color=\"red\", \n",
    "            alpha_fill=0.1, label=\"empirical\", smooth=0, ls=\"--\")\n",
    "\n",
    "  plt.sca(ax2)\n",
    "  plt.xlabel(\"Iteration\")\n",
    "  plt.ylabel(r\"Variance\")\n",
    "  goal = means[\"V\"][0]\n",
    "  if goal>-1:\n",
    "    x1,x2 = plt.xlim()\n",
    "    plt.axhline(goal, lw=2.5, color=\"darkgray\", ls=\"--\")\n",
    "    plt.text(x2,goal, r\"goal $~$\", va=\"top\", ha=\"right\", fontsize=20, color=\"darkgray\")\n",
    "  plt.legend()\n",
    "  plt.ylim(0,goal*2)\n",
    "  \n",
    "  plt.sca(ax1)\n",
    "  plt.legend()\n",
    "  plt.xticks([],[])\n",
    "  plt.ylabel(r\"Expectation\")\n",
    "  goal = means[\"E\"][0]\n",
    "  if goal>-1:\n",
    "    x1,x2 = plt.xlim()\n",
    "    plt.axhline(goal, lw=2.5, color=\"darkgray\", ls=\"--\")\n",
    "    plt.text(x2,goal, r\"goal $~$\", va=\"top\", ha=\"right\", fontsize=20, color=\"darkgray\")\n",
    "    \n",
    "  plt.show()"
   ]
  },
  {
   "cell_type": "markdown",
   "metadata": {},
   "source": [
    "## The best value(s) found up to certain iteration"
   ]
  },
  {
   "cell_type": "code",
   "execution_count": 28,
   "metadata": {},
   "outputs": [
    {
     "data": {
      "image/png": "[encoded data removed]",
      "text/plain": [
       "<Figure size 460.8x345.6 with 2 Axes>"
      ]
     },
     "metadata": {},
     "output_type": "display_data"
    }
   ],
   "source": [
    "  start_plotting(cmbright=False)\n",
    "  ax2 = plt.subplot(212)\n",
    "  ax1 = plt.subplot(211)\n",
    "\n",
    "  means = df.groupby([\"iteration\"]).mean().reset_index()\n",
    "  stds = df.groupby([\"iteration\"]).std().reset_index()\n",
    "  assert (means.iteration == stds.iteration).all()\n",
    "  #xs = means.iteration; xlabel = \"Iteration\" # Iteration on horizontal axis\n",
    "  xs = means.elapsed; xlabel = \"Time [s]\" # Time on horizontal axis\n",
    "    \n",
    "  e, var = theoretical_moments(a0,b0,c0,d0)\n",
    "  #label=\"E=%.0f V=%.0f (a=%s b=%s c=%s d=%s)\" % (e, var, f(a0),f(b0),f(c0),f(d0))\n",
    "  plt.title(r\"Initialization $\\mathbb{E}=%.0f$ $\\mathbb{V}=%.0f$\" % (e, var))\n",
    "    \n",
    "  plt.sca(ax1)\n",
    "  errorfill((xs), (means[\"best_E\"]), (stds[\"best_E\"]), color=\"dodgerblue\", \n",
    "            alpha_fill=0.1, label=\"theoretical for the best\", smooth=0)\n",
    "  plt.sca(ax2)\n",
    "  errorfill((xs), (means[\"best_V\"]), (stds[\"best_V\"]), color=\"salmon\", \n",
    "            alpha_fill=0.1, label=\"theoretical for the best\", smooth=0)\n",
    "\n",
    "  plt.sca(ax2)      \n",
    "  plt.xlabel(xlabel)\n",
    "  plt.ylabel(r\"Variance\")\n",
    "  goal = means[\"V\"][0]\n",
    "  if goal>-1:\n",
    "    x1,x2 = plt.xlim()\n",
    "    plt.axhline(goal, lw=2.5, color=\"darkgray\", ls=\"--\")\n",
    "    plt.text(x2,goal, r\"goal $~$\", va=\"top\", ha=\"right\", fontsize=20, color=\"darkgray\")\n",
    "  plt.legend()\n",
    "  plt.ylim(0,goal*2)\n",
    "    \n",
    "  \n",
    "  plt.sca(ax1)\n",
    "  plt.legend()\n",
    "  plt.xticks([],[])\n",
    "  plt.ylabel(r\"Expectation\")\n",
    "  goal = means[\"E\"][0]\n",
    "  if goal>-1:\n",
    "    x1,x2 = plt.xlim()\n",
    "    plt.axhline(goal, lw=2.5, color=\"darkgray\", ls=\"--\")\n",
    "    plt.text(x2,goal, r\"goal $~$\", va=\"top\", ha=\"right\", fontsize=20, color=\"darkgray\")\n",
    "    \n",
    "  plt.show()"
   ]
  },
  {
   "cell_type": "markdown",
   "metadata": {},
   "source": [
    "## Hyperameters' values during optimization"
   ]
  },
  {
   "cell_type": "code",
   "execution_count": 29,
   "metadata": {},
   "outputs": [
    {
     "name": "stderr",
     "output_type": "stream",
     "text": [
      "findfont: Font family ['serif'] not found. Falling back to DejaVu Sans.\n"
     ]
    },
    {
     "data": {
      "image/png": "[encoded data removed]",
      "text/plain": [
       "<Figure size 460.8x345.6 with 1 Axes>"
      ]
     },
     "metadata": {},
     "output_type": "display_data"
    }
   ],
   "source": [
    "  start_plotting(cmbright=False)\n",
    "  \n",
    "  means = df.groupby([\"iteration\"]).mean().reset_index()\n",
    "  stds = df.groupby([\"iteration\"]).std().reset_index()\n",
    "  assert (means.iteration == stds.iteration).all()\n",
    "  iteration = means.iteration  \n",
    "  \n",
    "  e, var = theoretical_moments(a0,b0,c0,d0)\n",
    "  plt.title(r\"Initialization: $\\mathbb{E}=%.0f$ $\\mathbb{V}=%.0f$\" % (e, var), fontsize=20)\n",
    "  \n",
    "  errorfill((iteration), (means[\"cb\"]), (stds[\"cb\"]), color=COLORS[0], alpha_fill=0.2, smooth=0, ls=\"-\", label=\"a\")\n",
    "  errorfill((iteration), (means[\"rb\"]), (stds[\"rb\"]), color=COLORS[1], alpha_fill=0.2, smooth=0, ls=\"--\", label=\"b\")\n",
    "  errorfill((iteration), (means[\"ct\"]), (stds[\"ct\"]), color=COLORS[2], alpha_fill=0.2, smooth=0, ls=\"-.\", label=\"c\")\n",
    "  errorfill((iteration), (means[\"ct\"]), (stds[\"ct\"]), color=\"orange\", alpha_fill=0.2, smooth=0, ls=\"dotted\", label=\"d\")\n",
    "\n",
    "  #plt.ylim(0,10000)\n",
    "  plt.yscale(\"log\")\n",
    "  plt.legend(fontsize=15)  \n",
    "  plt.xlabel(\"Iteration\")\n",
    "  plt.ylabel(\"Value\")\n",
    "  plt.show()  "
   ]
  },
  {
   "cell_type": "code",
   "execution_count": null,
   "metadata": {},
   "outputs": [],
   "source": []
  },
  {
   "cell_type": "code",
   "execution_count": null,
   "metadata": {},
   "outputs": [],
   "source": []
  }
 ],
 "metadata": {
  "colab": {
   "collapsed_sections": [],
   "name": "HPF Matching priors",
   "private_outputs": true,
   "provenance": [],
   "version": "0.3.2"
  },
  "kernelspec": {
   "display_name": "Python 3",
   "language": "python",
   "name": "python3"
  },
  "language_info": {
   "codemirror_mode": {
    "name": "ipython",
    "version": 3
   },
   "file_extension": ".py",
   "mimetype": "text/x-python",
   "name": "python",
   "nbconvert_exporter": "python",
   "pygments_lexer": "ipython3",
   "version": "3.7.4"
  }
 },
 "nbformat": 4,
 "nbformat_minor": 1
}
