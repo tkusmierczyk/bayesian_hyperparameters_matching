{
 "cells": [
  {
   "cell_type": "markdown",
   "metadata": {
    "colab_type": "text",
    "id": "BAdp1h4FSIgQ"
   },
   "source": [
    "# PMF: Analysis of expectation and variance estimators"
   ]
  },
  {
   "cell_type": "markdown",
   "metadata": {},
   "source": [
    "The notebook illustrates bias and variance of the estimators used to match Poisson Matrix Factorization priors in pmf_sgd_optimization.ipynb"
   ]
  },
  {
   "cell_type": "markdown",
   "metadata": {
    "colab_type": "text",
    "id": "RBAeIwOMrYk8"
   },
   "source": [
    "## Setup \n"
   ]
  },
  {
   "cell_type": "code",
   "execution_count": 1,
   "metadata": {},
   "outputs": [],
   "source": [
    "from __future__ import absolute_import, division, print_function, unicode_literals"
   ]
  },
  {
   "cell_type": "code",
   "execution_count": 2,
   "metadata": {
    "attributes": {
     "classes": [
      "py"
     ],
     "id": ""
    },
    "colab": {},
    "colab_type": "code",
    "id": "N-2lSGiHqEfq"
   },
   "outputs": [],
   "source": [
    "import tensorflow as tf\n",
    "#tf.enable_eager_execution()\n",
    "import tensorflow_probability as tfp\n",
    "from tensorflow_probability import distributions as tfd\n",
    "#from tensorflow.contrib.distributions import softplus_inverse\n",
    "#tfe = tf.contrib.eager"
   ]
  },
  {
   "cell_type": "code",
   "execution_count": 3,
   "metadata": {},
   "outputs": [
    {
     "data": {
      "text/plain": [
       "(True, '2.1.0', '0.9.0')"
      ]
     },
     "execution_count": 3,
     "metadata": {},
     "output_type": "execute_result"
    }
   ],
   "source": [
    "tf.executing_eagerly(), tf.__version__, tfp.__version__"
   ]
  },
  {
   "cell_type": "code",
   "execution_count": 4,
   "metadata": {
    "attributes": {
     "classes": [
      "py"
     ],
     "id": ""
    },
    "colab": {},
    "colab_type": "code",
    "id": "9gsI54pbqEfj"
   },
   "outputs": [],
   "source": [
    "import time\n",
    "import numpy as np\n",
    "import pandas as pd"
   ]
  },
  {
   "cell_type": "code",
   "execution_count": 5,
   "metadata": {},
   "outputs": [],
   "source": [
    "from aux import *"
   ]
  },
  {
   "cell_type": "code",
   "execution_count": 6,
   "metadata": {},
   "outputs": [],
   "source": [
    "import matplotlib\n",
    "from matplotlib import pyplot as plt\n",
    "from aux_plt import *"
   ]
  },
  {
   "cell_type": "markdown",
   "metadata": {},
   "source": [
    "# Configuration"
   ]
  },
  {
   "cell_type": "code",
   "execution_count": 7,
   "metadata": {},
   "outputs": [
    {
     "name": "stdout",
     "output_type": "stream",
     "text": [
      "parsing: <-f>\n"
     ]
    }
   ],
   "source": [
    "args = parse_script_args()"
   ]
  },
  {
   "cell_type": "code",
   "execution_count": 8,
   "metadata": {},
   "outputs": [],
   "source": [
    "SEED = args.get(\"SEED\", 123)"
   ]
  },
  {
   "cell_type": "code",
   "execution_count": 9,
   "metadata": {},
   "outputs": [],
   "source": [
    "K = args.get(\"K\", 25) # factorization dimensions"
   ]
  },
  {
   "cell_type": "code",
   "execution_count": 10,
   "metadata": {},
   "outputs": [
    {
     "name": "stdout",
     "output_type": "stream",
     "text": [
      "DESCRIPTION: K=25 SEED=123\n"
     ]
    }
   ],
   "source": [
    "DESCRIPTION = dict2str(globals()).replace(\"NSAMPLES\", \"S\").replace(\"DESIRED_\", \"\").replace(\"EXPECTATION\", \"E\").replace(\"VARIANCE\", \"V\").replace(\"TRAINABLE\", \"TT\")\n",
    "print(\"DESCRIPTION: %s\" % DESCRIPTION)\n",
    "\n",
    "ID = str(args.get(\"ID\", DESCRIPTION))"
   ]
  },
  {
   "cell_type": "markdown",
   "metadata": {},
   "source": [
    "# Expectation & variance evaluation"
   ]
  },
  {
   "cell_type": "code",
   "execution_count": 11,
   "metadata": {},
   "outputs": [
    {
     "name": "stdout",
     "output_type": "stream",
     "text": [
      "empirical_moments := empirical_moments_fully_decoupled\n"
     ]
    }
   ],
   "source": [
    "from pmf_model import create_moments_estimator\n",
    "\n",
    "\n",
    "theoretical_moments = create_moments_estimator(K=K, ESTIMATOR_NO=-1, N=1, M=1)\n",
    "empirical_moments = create_moments_estimator(K=K, ESTIMATOR_NO=0, N=1, M=1)\n",
    "\n",
    "print(\"empirical_moments := %s\" % empirical_moments.__name__)"
   ]
  },
  {
   "cell_type": "code",
   "execution_count": 12,
   "metadata": {},
   "outputs": [],
   "source": [
    "def empirical_moments_mean_std(a, b, c, d, nsamples_latent, nsamples_output, nruns):\n",
    "    \"\"\"Returns means and stds of expectation and variance.\"\"\"\n",
    "    ev = []\n",
    "    a = tf.Variable(a, dtype=tf.float64)\n",
    "    b = tf.Variable(b, dtype=tf.float64)\n",
    "    c = tf.Variable(c, dtype=tf.float64)\n",
    "    d = tf.Variable(d, dtype=tf.float64)\n",
    "    for r in range(nruns):\n",
    "      #print(\"%i/%i\" % (r, nruns))\n",
    "      ev.append( empirical_moments(a, b, c, d, nsamples_latent, nsamples_output) )\n",
    "    ev = np.array(ev)\n",
    "    e_mean, var_mean = ev.mean(0);\n",
    "    e_std, var_std = ev.std(0)\n",
    "    return (e_mean, e_std), (var_mean, var_std)"
   ]
  },
  {
   "cell_type": "markdown",
   "metadata": {},
   "source": [
    "# Analysis of number of samples "
   ]
  },
  {
   "cell_type": "code",
   "execution_count": 13,
   "metadata": {},
   "outputs": [],
   "source": [
    "ABCD_CFGS = [ (10, 1, 10, 1), (10,2,10,2), (0.001, 0.01, 0.01, 0.1),(0.1, 1, 0.1, 1), \n",
    "              (0.1, 0.1, 0.1, 0.1), (1.0, 1.0, 0.1, 0.1), (1000.0, 1000.0, 1000.0, 1000.0),]\n",
    "LABELS = [\"A\",\"B\",\"C\",\"D\",\"E\",\"F\",\"G\"]\n",
    "\n",
    "LABEL2CFG = dict(zip(LABELS,ABCD_CFGS))\n",
    "\n",
    "NSAMPLES_CFGS = [(100,100),(1000,10),(10,1000)]\n",
    "\n",
    "nruns = 1000"
   ]
  },
  {
   "cell_type": "code",
   "execution_count": 14,
   "metadata": {},
   "outputs": [
    {
     "name": "stdout",
     "output_type": "stream",
     "text": [
      "a=10.000\tb=1.000\tc=10.000\td=1.000\t=> E=2500.00 \tV=55000.00\n",
      "a=10.000\tb=2.000\tc=10.000\td=2.000\t=> E=625.00 \tV=3906.25\n",
      "a=0.001\tb=0.010\tc=0.010\td=0.100\t=> E=0.25 \tV=253.00\n",
      "a=0.100\tb=1.000\tc=0.100\td=1.000\t=> E=0.25 \tV=0.55\n",
      "a=0.100\tb=0.100\tc=0.100\td=0.100\t=> E=25.00 \tV=3025.00\n",
      "a=1.000\tb=1.000\tc=0.100\td=0.100\t=> E=25.00 \tV=550.00\n",
      "a=1000.000\tb=1000.000\tc=1000.000\td=1000.000\t=> E=25.00 \tV=25.05\n"
     ]
    }
   ],
   "source": [
    "for a,b,c,d in ABCD_CFGS:\n",
    "    e, v = theoretical_moments(a,b,c,d)\n",
    "    print(\"a=%.3f\\tb=%.3f\\tc=%.3f\\td=%.3f\\t=> E=%.2f \\tV=%.2f\" % (a,b,c,d,e,v))"
   ]
  },
  {
   "cell_type": "code",
   "execution_count": 15,
   "metadata": {},
   "outputs": [
    {
     "name": "stdout",
     "output_type": "stream",
     "text": [
      "a=10.00\tb=1.00\tc=10.00\td=1.00\tnl=100 no=100 => E=2499.83 +/- 23.15 \tV=54750.87 +/- 161514.53 (0.01s)\n",
      "a=10.00\tb=1.00\tc=10.00\td=1.00\tnl=1000 no=10 => E=2500.44 +/- 7.29 \tV=54497.97 +/- 51442.51 (0.02s)\n",
      "a=10.00\tb=1.00\tc=10.00\td=1.00\tnl=10 no=1000 => E=2501.72 +/- 70.49 \tV=68000.31 +/- 492757.25 (0.01s)\n",
      "a=10.00\tb=2.00\tc=10.00\td=2.00\tnl=100 no=100 => E=625.01 +/- 5.82 \tV=4651.16 +/- 10143.96 (0.01s)\n",
      "a=10.00\tb=2.00\tc=10.00\td=2.00\tnl=1000 no=10 => E=625.07 +/- 1.80 \tV=3858.57 +/- 3320.98 (0.03s)\n",
      "a=10.00\tb=2.00\tc=10.00\td=2.00\tnl=10 no=1000 => E=624.24 +/- 17.75 \tV=2700.05 +/- 32320.39 (0.01s)\n",
      "a=0.00\tb=0.01\tc=0.01\td=0.10\tnl=100 no=100 => E=0.20 +/- 1.14 \tV=82.64 +/- 835.59 (0.01s)\n",
      "a=0.00\tb=0.01\tc=0.01\td=0.10\tnl=1000 no=10 => E=0.25 +/- 0.46 \tV=160.80 +/- 1088.81 (0.02s)\n",
      "a=0.00\tb=0.01\tc=0.01\td=0.10\tnl=10 no=1000 => E=0.17 +/- 2.27 \tV=132.95 +/- 8500.37 (0.00s)\n",
      "a=0.10\tb=1.00\tc=0.10\td=1.00\tnl=100 no=100 => E=0.25 +/- 0.05 \tV=0.56 +/- 0.39 (0.01s)\n",
      "a=0.10\tb=1.00\tc=0.10\td=1.00\tnl=1000 no=10 => E=0.25 +/- 0.02 \tV=0.56 +/- 0.14 (0.02s)\n",
      "a=0.10\tb=1.00\tc=0.10\td=1.00\tnl=10 no=1000 => E=0.26 +/- 0.20 \tV=0.56 +/- 2.03 (0.00s)\n",
      "a=0.10\tb=0.10\tc=0.10\td=0.10\tnl=100 no=100 => E=24.94 +/- 5.55 \tV=2859.72 +/- 3158.15 (0.01s)\n",
      "a=0.10\tb=0.10\tc=0.10\td=0.10\tnl=1000 no=10 => E=25.10 +/- 1.76 \tV=3012.60 +/- 1298.92 (0.02s)\n",
      "a=0.10\tb=0.10\tc=0.10\td=0.10\tnl=10 no=1000 => E=24.96 +/- 19.28 \tV=2440.08 +/- 6949.70 (0.01s)\n",
      "a=1.00\tb=1.00\tc=0.10\td=0.10\tnl=100 no=100 => E=25.02 +/- 2.18 \tV=555.80 +/- 342.22 (0.01s)\n",
      "a=1.00\tb=1.00\tc=0.10\td=0.10\tnl=1000 no=10 => E=24.99 +/- 0.71 \tV=549.23 +/- 102.89 (0.02s)\n",
      "a=1.00\tb=1.00\tc=0.10\td=0.10\tnl=10 no=1000 => E=24.81 +/- 7.04 \tV=525.09 +/- 1136.68 (0.01s)\n",
      "a=1000.00\tb=1000.00\tc=1000.00\td=1000.00\tnl=100 no=100 => E=25.00 +/- 0.05 \tV=25.14 +/- 3.80 (0.01s)\n",
      "a=1000.00\tb=1000.00\tc=1000.00\td=1000.00\tnl=1000 no=10 => E=25.00 +/- 0.05 \tV=25.03 +/- 3.57 (0.02s)\n",
      "a=1000.00\tb=1000.00\tc=1000.00\td=1000.00\tnl=10 no=1000 => E=25.00 +/- 0.09 \tV=24.84 +/- 6.08 (0.01s)\n"
     ]
    }
   ],
   "source": [
    "tf.random.set_seed(SEED)\n",
    "np.random.seed(SEED)\n",
    "results = []\n",
    "for a,b,c,d in ABCD_CFGS:\n",
    "    for nl, no in NSAMPLES_CFGS:\n",
    "        start = time.time()\n",
    "        (e_mean, e_std), (var_mean, var_std) = empirical_moments_mean_std(a,b,c,d, nl, no, nruns)\n",
    "        r = (a,b,c,d,nl,no, e_mean, e_std, var_mean, var_std, ((time.time()-start)/nruns) )\n",
    "        print(\"a=%.2f\\tb=%.2f\\tc=%.2f\\td=%.2f\\tnl=%i no=%i => E=%.2f +/- %.2f \\tV=%.2f +/- %.2f (%.2fs)\" % r)\n",
    "        results.append(r)"
   ]
  },
  {
   "cell_type": "code",
   "execution_count": 16,
   "metadata": {},
   "outputs": [
    {
     "name": "stdout",
     "output_type": "stream",
     "text": [
      "path = RESULTS/nsamples_analysis_25_1000.csv\n"
     ]
    },
    {
     "data": {
      "text/html": [
       "<div>\n",
       "<style scoped>\n",
       "    .dataframe tbody tr th:only-of-type {\n",
       "        vertical-align: middle;\n",
       "    }\n",
       "\n",
       "    .dataframe tbody tr th {\n",
       "        vertical-align: top;\n",
       "    }\n",
       "\n",
       "    .dataframe thead th {\n",
       "        text-align: right;\n",
       "    }\n",
       "</style>\n",
       "<table border=\"1\" class=\"dataframe\">\n",
       "  <thead>\n",
       "    <tr style=\"text-align: right;\">\n",
       "      <th></th>\n",
       "      <th>a</th>\n",
       "      <th>b</th>\n",
       "      <th>c</th>\n",
       "      <th>d</th>\n",
       "      <th>nl</th>\n",
       "      <th>no</th>\n",
       "      <th>Em</th>\n",
       "      <th>Es</th>\n",
       "      <th>Vm</th>\n",
       "      <th>Vs</th>\n",
       "      <th>time</th>\n",
       "    </tr>\n",
       "  </thead>\n",
       "  <tbody>\n",
       "    <tr>\n",
       "      <td>0</td>\n",
       "      <td>10.000</td>\n",
       "      <td>1.00</td>\n",
       "      <td>10.00</td>\n",
       "      <td>1.0</td>\n",
       "      <td>100</td>\n",
       "      <td>100</td>\n",
       "      <td>2499.827486</td>\n",
       "      <td>23.148860</td>\n",
       "      <td>54750.869583</td>\n",
       "      <td>161514.534783</td>\n",
       "      <td>0.007367</td>\n",
       "    </tr>\n",
       "    <tr>\n",
       "      <td>1</td>\n",
       "      <td>10.000</td>\n",
       "      <td>1.00</td>\n",
       "      <td>10.00</td>\n",
       "      <td>1.0</td>\n",
       "      <td>1000</td>\n",
       "      <td>10</td>\n",
       "      <td>2500.435710</td>\n",
       "      <td>7.288014</td>\n",
       "      <td>54497.971288</td>\n",
       "      <td>51442.509271</td>\n",
       "      <td>0.017813</td>\n",
       "    </tr>\n",
       "    <tr>\n",
       "      <td>2</td>\n",
       "      <td>10.000</td>\n",
       "      <td>1.00</td>\n",
       "      <td>10.00</td>\n",
       "      <td>1.0</td>\n",
       "      <td>10</td>\n",
       "      <td>1000</td>\n",
       "      <td>2501.717178</td>\n",
       "      <td>70.489039</td>\n",
       "      <td>68000.311104</td>\n",
       "      <td>492757.247793</td>\n",
       "      <td>0.006772</td>\n",
       "    </tr>\n",
       "    <tr>\n",
       "      <td>3</td>\n",
       "      <td>10.000</td>\n",
       "      <td>2.00</td>\n",
       "      <td>10.00</td>\n",
       "      <td>2.0</td>\n",
       "      <td>100</td>\n",
       "      <td>100</td>\n",
       "      <td>625.007992</td>\n",
       "      <td>5.822493</td>\n",
       "      <td>4651.163930</td>\n",
       "      <td>10143.963276</td>\n",
       "      <td>0.007581</td>\n",
       "    </tr>\n",
       "    <tr>\n",
       "      <td>4</td>\n",
       "      <td>10.000</td>\n",
       "      <td>2.00</td>\n",
       "      <td>10.00</td>\n",
       "      <td>2.0</td>\n",
       "      <td>1000</td>\n",
       "      <td>10</td>\n",
       "      <td>625.070476</td>\n",
       "      <td>1.800209</td>\n",
       "      <td>3858.566589</td>\n",
       "      <td>3320.979347</td>\n",
       "      <td>0.025922</td>\n",
       "    </tr>\n",
       "    <tr>\n",
       "      <td>5</td>\n",
       "      <td>10.000</td>\n",
       "      <td>2.00</td>\n",
       "      <td>10.00</td>\n",
       "      <td>2.0</td>\n",
       "      <td>10</td>\n",
       "      <td>1000</td>\n",
       "      <td>624.241588</td>\n",
       "      <td>17.752174</td>\n",
       "      <td>2700.045504</td>\n",
       "      <td>32320.389505</td>\n",
       "      <td>0.006303</td>\n",
       "    </tr>\n",
       "    <tr>\n",
       "      <td>6</td>\n",
       "      <td>0.001</td>\n",
       "      <td>0.01</td>\n",
       "      <td>0.01</td>\n",
       "      <td>0.1</td>\n",
       "      <td>100</td>\n",
       "      <td>100</td>\n",
       "      <td>0.203531</td>\n",
       "      <td>1.135151</td>\n",
       "      <td>82.642368</td>\n",
       "      <td>835.587793</td>\n",
       "      <td>0.007328</td>\n",
       "    </tr>\n",
       "    <tr>\n",
       "      <td>7</td>\n",
       "      <td>0.001</td>\n",
       "      <td>0.01</td>\n",
       "      <td>0.01</td>\n",
       "      <td>0.1</td>\n",
       "      <td>1000</td>\n",
       "      <td>10</td>\n",
       "      <td>0.251504</td>\n",
       "      <td>0.455077</td>\n",
       "      <td>160.799738</td>\n",
       "      <td>1088.810950</td>\n",
       "      <td>0.024090</td>\n",
       "    </tr>\n",
       "    <tr>\n",
       "      <td>8</td>\n",
       "      <td>0.001</td>\n",
       "      <td>0.01</td>\n",
       "      <td>0.01</td>\n",
       "      <td>0.1</td>\n",
       "      <td>10</td>\n",
       "      <td>1000</td>\n",
       "      <td>0.171245</td>\n",
       "      <td>2.271866</td>\n",
       "      <td>132.947937</td>\n",
       "      <td>8500.371151</td>\n",
       "      <td>0.004447</td>\n",
       "    </tr>\n",
       "    <tr>\n",
       "      <td>9</td>\n",
       "      <td>0.100</td>\n",
       "      <td>1.00</td>\n",
       "      <td>0.10</td>\n",
       "      <td>1.0</td>\n",
       "      <td>100</td>\n",
       "      <td>100</td>\n",
       "      <td>0.248745</td>\n",
       "      <td>0.053279</td>\n",
       "      <td>0.559495</td>\n",
       "      <td>0.390089</td>\n",
       "      <td>0.005496</td>\n",
       "    </tr>\n",
       "    <tr>\n",
       "      <td>10</td>\n",
       "      <td>0.100</td>\n",
       "      <td>1.00</td>\n",
       "      <td>0.10</td>\n",
       "      <td>1.0</td>\n",
       "      <td>1000</td>\n",
       "      <td>10</td>\n",
       "      <td>0.249884</td>\n",
       "      <td>0.017829</td>\n",
       "      <td>0.555999</td>\n",
       "      <td>0.136605</td>\n",
       "      <td>0.022028</td>\n",
       "    </tr>\n",
       "    <tr>\n",
       "      <td>11</td>\n",
       "      <td>0.100</td>\n",
       "      <td>1.00</td>\n",
       "      <td>0.10</td>\n",
       "      <td>1.0</td>\n",
       "      <td>10</td>\n",
       "      <td>1000</td>\n",
       "      <td>0.256230</td>\n",
       "      <td>0.196088</td>\n",
       "      <td>0.560474</td>\n",
       "      <td>2.031716</td>\n",
       "      <td>0.004026</td>\n",
       "    </tr>\n",
       "    <tr>\n",
       "      <td>12</td>\n",
       "      <td>0.100</td>\n",
       "      <td>0.10</td>\n",
       "      <td>0.10</td>\n",
       "      <td>0.1</td>\n",
       "      <td>100</td>\n",
       "      <td>100</td>\n",
       "      <td>24.942095</td>\n",
       "      <td>5.546975</td>\n",
       "      <td>2859.720706</td>\n",
       "      <td>3158.149140</td>\n",
       "      <td>0.007417</td>\n",
       "    </tr>\n",
       "    <tr>\n",
       "      <td>13</td>\n",
       "      <td>0.100</td>\n",
       "      <td>0.10</td>\n",
       "      <td>0.10</td>\n",
       "      <td>0.1</td>\n",
       "      <td>1000</td>\n",
       "      <td>10</td>\n",
       "      <td>25.096340</td>\n",
       "      <td>1.759973</td>\n",
       "      <td>3012.598062</td>\n",
       "      <td>1298.915026</td>\n",
       "      <td>0.022739</td>\n",
       "    </tr>\n",
       "    <tr>\n",
       "      <td>14</td>\n",
       "      <td>0.100</td>\n",
       "      <td>0.10</td>\n",
       "      <td>0.10</td>\n",
       "      <td>0.1</td>\n",
       "      <td>10</td>\n",
       "      <td>1000</td>\n",
       "      <td>24.961940</td>\n",
       "      <td>19.283487</td>\n",
       "      <td>2440.084548</td>\n",
       "      <td>6949.702551</td>\n",
       "      <td>0.005927</td>\n",
       "    </tr>\n",
       "    <tr>\n",
       "      <td>15</td>\n",
       "      <td>1.000</td>\n",
       "      <td>1.00</td>\n",
       "      <td>0.10</td>\n",
       "      <td>0.1</td>\n",
       "      <td>100</td>\n",
       "      <td>100</td>\n",
       "      <td>25.022691</td>\n",
       "      <td>2.181339</td>\n",
       "      <td>555.795682</td>\n",
       "      <td>342.219168</td>\n",
       "      <td>0.006716</td>\n",
       "    </tr>\n",
       "    <tr>\n",
       "      <td>16</td>\n",
       "      <td>1.000</td>\n",
       "      <td>1.00</td>\n",
       "      <td>0.10</td>\n",
       "      <td>0.1</td>\n",
       "      <td>1000</td>\n",
       "      <td>10</td>\n",
       "      <td>24.989992</td>\n",
       "      <td>0.709236</td>\n",
       "      <td>549.233654</td>\n",
       "      <td>102.885052</td>\n",
       "      <td>0.018581</td>\n",
       "    </tr>\n",
       "    <tr>\n",
       "      <td>17</td>\n",
       "      <td>1.000</td>\n",
       "      <td>1.00</td>\n",
       "      <td>0.10</td>\n",
       "      <td>0.1</td>\n",
       "      <td>10</td>\n",
       "      <td>1000</td>\n",
       "      <td>24.807117</td>\n",
       "      <td>7.039204</td>\n",
       "      <td>525.085432</td>\n",
       "      <td>1136.675756</td>\n",
       "      <td>0.006976</td>\n",
       "    </tr>\n",
       "    <tr>\n",
       "      <td>18</td>\n",
       "      <td>1000.000</td>\n",
       "      <td>1000.00</td>\n",
       "      <td>1000.00</td>\n",
       "      <td>1000.0</td>\n",
       "      <td>100</td>\n",
       "      <td>100</td>\n",
       "      <td>25.000428</td>\n",
       "      <td>0.052688</td>\n",
       "      <td>25.140722</td>\n",
       "      <td>3.795858</td>\n",
       "      <td>0.008254</td>\n",
       "    </tr>\n",
       "    <tr>\n",
       "      <td>19</td>\n",
       "      <td>1000.000</td>\n",
       "      <td>1000.00</td>\n",
       "      <td>1000.00</td>\n",
       "      <td>1000.0</td>\n",
       "      <td>1000</td>\n",
       "      <td>10</td>\n",
       "      <td>24.999495</td>\n",
       "      <td>0.051124</td>\n",
       "      <td>25.026953</td>\n",
       "      <td>3.569548</td>\n",
       "      <td>0.022026</td>\n",
       "    </tr>\n",
       "    <tr>\n",
       "      <td>20</td>\n",
       "      <td>1000.000</td>\n",
       "      <td>1000.00</td>\n",
       "      <td>1000.00</td>\n",
       "      <td>1000.0</td>\n",
       "      <td>10</td>\n",
       "      <td>1000</td>\n",
       "      <td>25.000333</td>\n",
       "      <td>0.087162</td>\n",
       "      <td>24.837115</td>\n",
       "      <td>6.079079</td>\n",
       "      <td>0.006753</td>\n",
       "    </tr>\n",
       "  </tbody>\n",
       "</table>\n",
       "</div>"
      ],
      "text/plain": [
       "           a        b        c       d    nl    no           Em         Es  \\\n",
       "0     10.000     1.00    10.00     1.0   100   100  2499.827486  23.148860   \n",
       "1     10.000     1.00    10.00     1.0  1000    10  2500.435710   7.288014   \n",
       "2     10.000     1.00    10.00     1.0    10  1000  2501.717178  70.489039   \n",
       "3     10.000     2.00    10.00     2.0   100   100   625.007992   5.822493   \n",
       "4     10.000     2.00    10.00     2.0  1000    10   625.070476   1.800209   \n",
       "5     10.000     2.00    10.00     2.0    10  1000   624.241588  17.752174   \n",
       "6      0.001     0.01     0.01     0.1   100   100     0.203531   1.135151   \n",
       "7      0.001     0.01     0.01     0.1  1000    10     0.251504   0.455077   \n",
       "8      0.001     0.01     0.01     0.1    10  1000     0.171245   2.271866   \n",
       "9      0.100     1.00     0.10     1.0   100   100     0.248745   0.053279   \n",
       "10     0.100     1.00     0.10     1.0  1000    10     0.249884   0.017829   \n",
       "11     0.100     1.00     0.10     1.0    10  1000     0.256230   0.196088   \n",
       "12     0.100     0.10     0.10     0.1   100   100    24.942095   5.546975   \n",
       "13     0.100     0.10     0.10     0.1  1000    10    25.096340   1.759973   \n",
       "14     0.100     0.10     0.10     0.1    10  1000    24.961940  19.283487   \n",
       "15     1.000     1.00     0.10     0.1   100   100    25.022691   2.181339   \n",
       "16     1.000     1.00     0.10     0.1  1000    10    24.989992   0.709236   \n",
       "17     1.000     1.00     0.10     0.1    10  1000    24.807117   7.039204   \n",
       "18  1000.000  1000.00  1000.00  1000.0   100   100    25.000428   0.052688   \n",
       "19  1000.000  1000.00  1000.00  1000.0  1000    10    24.999495   0.051124   \n",
       "20  1000.000  1000.00  1000.00  1000.0    10  1000    25.000333   0.087162   \n",
       "\n",
       "              Vm             Vs      time  \n",
       "0   54750.869583  161514.534783  0.007367  \n",
       "1   54497.971288   51442.509271  0.017813  \n",
       "2   68000.311104  492757.247793  0.006772  \n",
       "3    4651.163930   10143.963276  0.007581  \n",
       "4    3858.566589    3320.979347  0.025922  \n",
       "5    2700.045504   32320.389505  0.006303  \n",
       "6      82.642368     835.587793  0.007328  \n",
       "7     160.799738    1088.810950  0.024090  \n",
       "8     132.947937    8500.371151  0.004447  \n",
       "9       0.559495       0.390089  0.005496  \n",
       "10      0.555999       0.136605  0.022028  \n",
       "11      0.560474       2.031716  0.004026  \n",
       "12   2859.720706    3158.149140  0.007417  \n",
       "13   3012.598062    1298.915026  0.022739  \n",
       "14   2440.084548    6949.702551  0.005927  \n",
       "15    555.795682     342.219168  0.006716  \n",
       "16    549.233654     102.885052  0.018581  \n",
       "17    525.085432    1136.675756  0.006976  \n",
       "18     25.140722       3.795858  0.008254  \n",
       "19     25.026953       3.569548  0.022026  \n",
       "20     24.837115       6.079079  0.006753  "
      ]
     },
     "execution_count": 16,
     "metadata": {},
     "output_type": "execute_result"
    }
   ],
   "source": [
    "path = \"RESULTS/nsamples_analysis_%s_%s.csv\" % (K, nruns)\n",
    "print(\"path = %s\" % path)\n",
    "pd.DataFrame(results).to_csv(path, index=False, header=False)\n",
    "df = pd.read_csv(path, header=None).rename(columns=dict(enumerate([\"a\", \"b\", \"c\", \"d\", \"nl\", \"no\", \"Em\", \"Es\", \"Vm\", \"Vs\", \"time\"])))\n",
    "df"
   ]
  },
  {
   "cell_type": "markdown",
   "metadata": {},
   "source": [
    "# Plotting"
   ]
  },
  {
   "cell_type": "code",
   "execution_count": 17,
   "metadata": {},
   "outputs": [],
   "source": [
    "import warnings\n",
    "warnings.filterwarnings(\"ignore\")"
   ]
  },
  {
   "cell_type": "code",
   "execution_count": 18,
   "metadata": {},
   "outputs": [
    {
     "name": "stderr",
     "output_type": "stream",
     "text": [
      "findfont: Font family ['serif'] not found. Falling back to DejaVu Sans.\n",
      "findfont: Font family ['serif'] not found. Falling back to DejaVu Sans.\n"
     ]
    },
    {
     "data": {
      "image/png": "[encoded data removed]",
      "text/plain": [
       "<Figure size 460.8x345.6 with 2 Axes>"
      ]
     },
     "metadata": {},
     "output_type": "display_data"
    }
   ],
   "source": [
    "labels = \"DCEFGBA\"\n",
    "MEANCOL, STDCOL = \"Em\", \"Es\"\n",
    "\n",
    "start_plotting(cmbright=False, font_size=17*1.5)\n",
    "\n",
    "ax1 = plt.subplot(211)  \n",
    "for i, LABEL in enumerate(labels):\n",
    "  a,b,c,d = LABEL2CFG[LABEL]    \n",
    "  shift = i*4    \n",
    "    \n",
    "  d11 = df[(df.a==a)&(df.b==b)&(df.c==c)&(df.d==d)]\n",
    "  exp, var = theoretical_moments(a,b,c,d)\n",
    "  Z, LABEL = 1.0/exp * 100.0, r\"Bias [\\%]\"\n",
    "  #Z, LABEL = 1.0, \"Bias\"    \n",
    "             \n",
    "  d1 = d11[(df.nl==10)&(df.no==1000)]\n",
    "  xs = list(np.arange(len(d1))+shift+1.6)\n",
    "  plt.bar(xs, abs(d1[MEANCOL]-exp) * Z, color=\"lightskyblue\", width=0.8, align=\"center\")\n",
    "\n",
    "  d1 = d11[(df.nl==100)&(df.no==100)]\n",
    "  xs = list(np.arange(len(d1))+shift+0.8)\n",
    "  plt.bar(xs, abs(d1[MEANCOL]-exp) * Z, color=\"mistyrose\", width=0.8, align=\"center\")        \n",
    "        \n",
    "  d1 = d11[(df.nl==1000)&(df.no==10)]\n",
    "  xs = list(np.arange(len(d1))+shift)\n",
    "  plt.bar(xs, abs(d1[MEANCOL]-exp) * Z, color=\"lightgrey\", width=0.8, align=\"center\")\n",
    "\n",
    "plt.xticks([],[])\n",
    "plt.ylabel(LABEL)\n",
    "plt.axhline(0.0, color=\"k\", zorder=-1, lw=1, ls=\"--\")\n",
    "#plt.yscale(\"log\")\n",
    "#plt.ylim(0.1, 100000)\n",
    "#plt.ylim(0.1, 10)\n",
    "plt.xlim(-1, 43)\n",
    "#plt.yscale(\"log\")\n",
    "\n",
    "from matplotlib.lines import Line2D\n",
    "custom_lines = [Line2D([0], [0], color=\"lightgrey\", lw=4),\n",
    "                Line2D([0], [0], color=\"mistyrose\", lw=4),\n",
    "                Line2D([0], [0], color=\"lightskyblue\", lw=4),]\n",
    "plt.gca().legend(custom_lines, [r\"$10^3 \\times 10^1$\", r\"$10^2 \\times 10^2$\", r\"$10^1 \\times 10^3$\"], \n",
    "                 title=r\"$S_{Z} \\times S_y$\", fontsize=15, loc=4)\n",
    "\n",
    "ax1 = plt.subplot(212)  \n",
    "for i, LABEL in enumerate(labels):\n",
    "  a,b,c,d = LABEL2CFG[LABEL]    \n",
    "  shift = i*4    \n",
    "    \n",
    "  d11 = df[(df.a==a)&(df.b==b)&(df.c==c)&(df.d==d)]\n",
    "  exp, var = theoretical_moments(a,b,c,d)\n",
    "  Z, LABEL = 1.0/exp * 100.0, r\"Variance [\\%]\"\n",
    "  #Z, LABEL = 1.0, \"Variance\"\n",
    "    \n",
    "     \n",
    "  d1 = d11[(df.nl==10)&(df.no==1000)]\n",
    "  xs = list(np.arange(len(d1))+shift+1.6)\n",
    "  plt.bar(xs, d1[STDCOL]**2 * Z, color=\"lightskyblue\", width=0.8, align=\"center\")\n",
    "\n",
    "  d1 = d11[(df.nl==100)&(df.no==100)]\n",
    "  xs = list(np.arange(len(d1))+shift+0.8)\n",
    "  plt.bar(xs, d1[STDCOL]**2 * Z, color=\"mistyrose\", width=0.8, align=\"center\")\n",
    "\n",
    "  d1 = d11[(df.nl==1000)&(df.no==10)]\n",
    "  xs = list(np.arange(len(d1))+shift)\n",
    "  plt.bar(xs, d1[STDCOL]**2 * Z, color=\"lightgrey\", width=0.8, align=\"center\")\n",
    "\n",
    "\n",
    "plt.xticks(np.arange(0, 4*len(labels), 4)+1, labels)  \n",
    "plt.ylabel(LABEL)\n",
    "plt.xlabel(r\"Increasing $\\mathbb{E}[Y]$\")\n",
    "plt.axhline(0.0, color=\"k\", zorder=-1, lw=1, ls=\"--\")\n",
    "plt.yscale(\"log\")\n",
    "#plt.ylim(0.001, 2000.0)\n",
    "plt.ylim(1, 1000.0)\n",
    "plt.xlim(-1, 43)\n",
    "\n",
    "\n",
    "from matplotlib.lines import Line2D\n",
    "custom_lines = [Line2D([0], [0], color=\"lightgrey\", lw=4),\n",
    "                Line2D([0], [0], color=\"mistyrose\", lw=4),\n",
    "                Line2D([0], [0], color=\"lightskyblue\", lw=4),]\n",
    "plt.gca().legend(custom_lines, [r\"$10^3 \\times 10^1$\", r\"$10^2 \\times 10^2$\", r\"$10^1 \\times 10^3$\"], \n",
    "                 title=r\"$S_{Z} \\times S_y$\", fontsize=15, loc=4)\n",
    "\n",
    "plt.subplots_adjust(left=0.2, right=0.95, top=0.95, bottom=0.2)    \n",
    "plt.savefig(\"RESULTS/nsamples_e.pdf\")\n",
    "plt.show()"
   ]
  },
  {
   "cell_type": "code",
   "execution_count": 19,
   "metadata": {},
   "outputs": [
    {
     "data": {
      "image/png": "[encoded data removed]",
      "text/plain": [
       "<Figure size 460.8x345.6 with 2 Axes>"
      ]
     },
     "metadata": {},
     "output_type": "display_data"
    }
   ],
   "source": [
    "labels = \"DGCFEBA\"\n",
    "MEANCOL, STDCOL = \"Vm\", \"Vs\"\n",
    "\n",
    "\n",
    "start_plotting(cmbright=False, font_size=17*1.5)\n",
    "\n",
    "ax1 = plt.subplot(211)  \n",
    "for i, LABEL in enumerate(labels):\n",
    "  a,b,c,d = LABEL2CFG[LABEL]    \n",
    "  shift = i*4    \n",
    "      \n",
    "\n",
    "  d11 = df[(df.a==a)&(df.b==b)&(df.c==c)&(df.d==d)]\n",
    "  exp, var = theoretical_moments(a,b,c,d)\n",
    "  Z, LABEL = 1.0/var * 100.0, r\"Bias [\\%]\"\n",
    "  #Z, LABEL = 1.0, \"Bias\"\n",
    "             \n",
    "  d1 = d11[(df.nl==10)&(df.no==1000)]\n",
    "  xs = list(np.arange(len(d1))+shift+1.6)\n",
    "  plt.bar(xs, abs(d1[MEANCOL]-var)*Z, color=\"lightskyblue\", width=0.8, align=\"center\")\n",
    "\n",
    "  d1 = d11[(df.nl==100)&(df.no==100)]\n",
    "  xs = list(np.arange(len(d1))+shift+0.8)\n",
    "  plt.bar(xs, abs(d1[MEANCOL]-var)*Z, color=\"mistyrose\", width=0.8, align=\"center\")        \n",
    "        \n",
    "  d1 = d11[(df.nl==1000)&(df.no==10)]\n",
    "  xs = list(np.arange(len(d1))+shift)\n",
    "  plt.bar(xs, abs(d1[MEANCOL]-var)*Z, color=\"lightgrey\", width=0.8, align=\"center\")\n",
    "\n",
    "plt.xticks([],[])\n",
    "plt.ylabel(LABEL)\n",
    "plt.axhline(0.0, color=\"k\", zorder=-1, lw=1, ls=\"--\")\n",
    "#plt.yscale(\"log\")\n",
    "#plt.ylim(0.1, 100000)\n",
    "plt.xlim(-1, 43)\n",
    "\n",
    "from matplotlib.lines import Line2D\n",
    "custom_lines = [Line2D([0], [0], color=\"lightgrey\", lw=4),\n",
    "                Line2D([0], [0], color=\"mistyrose\", lw=4),\n",
    "                Line2D([0], [0], color=\"lightskyblue\", lw=4),]\n",
    "plt.gca().legend(custom_lines, [r\"$10^3 \\times 10^1$\", r\"$10^2 \\times 10^2$\", r\"$10^1 \\times 10^3$\"], \n",
    "                 title=r\"$S_{Z} \\times S_y$\", fontsize=15, loc=4)\n",
    "\n",
    "ax1 = plt.subplot(212)  \n",
    "for i, LABEL in enumerate(labels):\n",
    "  a,b,c,d = LABEL2CFG[LABEL]    \n",
    "  shift = i*4    \n",
    "    \n",
    "  d11 = df[(df.a==a)&(df.b==b)&(df.c==c)&(df.d==d)]\n",
    "  exp, var = theoretical_moments(a,b,c,d)\n",
    "  Z, LABEL = 1.0/var * 100.0, r\"Variance [\\%]\"\n",
    "  #Z, LABEL = 1.0, \"Variance\"    \n",
    "     \n",
    "  d1 = d11[(df.nl==10)&(df.no==1000)]\n",
    "  xs = list(np.arange(len(d1))+shift+1.6)\n",
    "  plt.bar(xs, d1[STDCOL]**2*Z, color=\"lightskyblue\", width=0.8, align=\"center\")\n",
    "\n",
    "  d1 = d11[(df.nl==100)&(df.no==100)]\n",
    "  xs = list(np.arange(len(d1))+shift+0.8)\n",
    "  plt.bar(xs, d1[STDCOL]**2*Z, color=\"mistyrose\", width=0.8, align=\"center\")\n",
    "\n",
    "  d1 = d11[(df.nl==1000)&(df.no==10)]\n",
    "  xs = list(np.arange(len(d1))+shift)\n",
    "  plt.bar(xs, d1[STDCOL]**2*Z, color=\"lightgrey\", width=0.8, align=\"center\")\n",
    "\n",
    "\n",
    "plt.xticks(np.arange(0, 4*len(labels), 4)+1, labels)  \n",
    "plt.ylabel(LABEL)\n",
    "plt.xlabel(r\"Increasing $\\mathbb{V}[Y]$\")\n",
    "plt.axhline(0.0, color=\"k\", zorder=-1, lw=1, ls=\"--\")\n",
    "plt.yscale(\"log\")\n",
    "plt.ylim(0.001, 1e6)\n",
    "plt.xlim(-1, 43)\n",
    "\n",
    "\n",
    "from matplotlib.lines import Line2D\n",
    "custom_lines = [Line2D([0], [0], color=\"lightgrey\", lw=4),\n",
    "                Line2D([0], [0], color=\"mistyrose\", lw=4),\n",
    "                Line2D([0], [0], color=\"lightskyblue\", lw=4),]\n",
    "plt.gca().legend(custom_lines, [r\"$10^3 \\times 10^1$\", r\"$10^2 \\times 10^2$\", r\"$10^1 \\times 10^3$\"], \n",
    "                 title=r\"$S_{Z} \\times S_y$\", fontsize=15, loc=4)\n",
    "\n",
    "plt.subplots_adjust(left=0.2, right=0.95, top=0.95, bottom=0.2)    \n",
    "plt.savefig(\"RESULTS/nsamples_v.pdf\")\n",
    "plt.show()"
   ]
  }
 ],
 "metadata": {
  "colab": {
   "collapsed_sections": [],
   "name": "HPF Matching priors",
   "private_outputs": true,
   "provenance": [],
   "version": "0.3.2"
  },
  "kernelspec": {
   "display_name": "Python 3",
   "language": "python",
   "name": "python3"
  },
  "language_info": {
   "codemirror_mode": {
    "name": "ipython",
    "version": 3
   },
   "file_extension": ".py",
   "mimetype": "text/x-python",
   "name": "python",
   "nbconvert_exporter": "python",
   "pygments_lexer": "ipython3",
   "version": "3.7.4"
  }
 },
 "nbformat": 4,
 "nbformat_minor": 1
}
