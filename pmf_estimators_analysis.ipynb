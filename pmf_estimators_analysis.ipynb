{
 "cells": [
  {
   "cell_type": "markdown",
   "metadata": {
    "colab_type": "text",
    "id": "BAdp1h4FSIgQ"
   },
   "source": [
    "# PMF: Analysis of expectation and variance estimators"
   ]
  },
  {
   "cell_type": "markdown",
   "metadata": {},
   "source": [
    "The notebook illustrates bias and variance of the estimators used to match Poisson Matrix Factorization priors in pmf_sgd_optimization.ipynb"
   ]
  },
  {
   "cell_type": "markdown",
   "metadata": {
    "colab_type": "text",
    "id": "RBAeIwOMrYk8"
   },
   "source": [
    "## Setup \n"
   ]
  },
  {
   "cell_type": "code",
   "execution_count": 1,
   "metadata": {},
   "outputs": [],
   "source": [
    "from __future__ import absolute_import, division, print_function, unicode_literals"
   ]
  },
  {
   "cell_type": "code",
   "execution_count": 2,
   "metadata": {
    "attributes": {
     "classes": [
      "py"
     ],
     "id": ""
    },
    "colab": {},
    "colab_type": "code",
    "id": "N-2lSGiHqEfq"
   },
   "outputs": [
    {
     "name": "stdout",
     "output_type": "stream",
     "text": [
      "\n",
      "WARNING: The TensorFlow contrib module will not be included in TensorFlow 2.0.\n",
      "For more information, please see:\n",
      "  * https://github.com/tensorflow/community/blob/master/rfcs/20180907-contrib-sunset.md\n",
      "  * https://github.com/tensorflow/addons\n",
      "If you depend on functionality not listed there, please file an issue.\n",
      "\n"
     ]
    }
   ],
   "source": [
    "import tensorflow as tf\n",
    "tf.enable_eager_execution()\n",
    "import tensorflow_probability as tfp\n",
    "from tensorflow_probability import distributions as tfd\n",
    "from tensorflow.contrib.distributions import softplus_inverse\n",
    "tfe = tf.contrib.eager"
   ]
  },
  {
   "cell_type": "code",
   "execution_count": 3,
   "metadata": {},
   "outputs": [
    {
     "data": {
      "text/plain": [
       "True"
      ]
     },
     "execution_count": 3,
     "metadata": {},
     "output_type": "execute_result"
    }
   ],
   "source": [
    "tf.executing_eagerly()"
   ]
  },
  {
   "cell_type": "code",
   "execution_count": 4,
   "metadata": {
    "attributes": {
     "classes": [
      "py"
     ],
     "id": ""
    },
    "colab": {},
    "colab_type": "code",
    "id": "9gsI54pbqEfj"
   },
   "outputs": [],
   "source": [
    "import time\n",
    "import numpy as np\n",
    "import pandas as pd"
   ]
  },
  {
   "cell_type": "code",
   "execution_count": 5,
   "metadata": {},
   "outputs": [],
   "source": [
    "from aux import *"
   ]
  },
  {
   "cell_type": "code",
   "execution_count": 6,
   "metadata": {},
   "outputs": [],
   "source": [
    "import matplotlib\n",
    "from matplotlib import pyplot as plt\n",
    "from aux_plt import *"
   ]
  },
  {
   "cell_type": "markdown",
   "metadata": {},
   "source": [
    "# Configuration"
   ]
  },
  {
   "cell_type": "code",
   "execution_count": 7,
   "metadata": {},
   "outputs": [
    {
     "name": "stdout",
     "output_type": "stream",
     "text": [
      "parsing: <-f>\n"
     ]
    }
   ],
   "source": [
    "args = parse_script_args()"
   ]
  },
  {
   "cell_type": "code",
   "execution_count": 8,
   "metadata": {},
   "outputs": [],
   "source": [
    "SEED = args.get(\"SEED\", 123)"
   ]
  },
  {
   "cell_type": "code",
   "execution_count": 9,
   "metadata": {},
   "outputs": [],
   "source": [
    "K = args.get(\"K\", 25) # factorization dimensions"
   ]
  },
  {
   "cell_type": "code",
   "execution_count": 10,
   "metadata": {},
   "outputs": [
    {
     "name": "stdout",
     "output_type": "stream",
     "text": [
      "DESCRIPTION: K=25 SEED=123\n"
     ]
    }
   ],
   "source": [
    "DESCRIPTION = dict2str(globals()).replace(\"NSAMPLES\", \"S\").replace(\"DESIRED_\", \"\").replace(\"EXPECTATION\", \"E\").replace(\"VARIANCE\", \"V\").replace(\"TRAINABLE\", \"TT\")\n",
    "print(\"DESCRIPTION: %s\" % DESCRIPTION)\n",
    "\n",
    "ID = str(args.get(\"ID\", DESCRIPTION))"
   ]
  },
  {
   "cell_type": "markdown",
   "metadata": {},
   "source": [
    "# Expectation & variance evaluation"
   ]
  },
  {
   "cell_type": "code",
   "execution_count": 11,
   "metadata": {},
   "outputs": [
    {
     "name": "stdout",
     "output_type": "stream",
     "text": [
      "empirical_moments := empirical_moments_fully_decoupled\n"
     ]
    }
   ],
   "source": [
    "from pmf_model import create_moments_estimator\n",
    "\n",
    "\n",
    "theoretical_moments = create_moments_estimator(K=K, ESTIMATOR_NO=-1, N=1, M=1)\n",
    "empirical_moments = create_moments_estimator(K=K, ESTIMATOR_NO=0, N=1, M=1)\n",
    "\n",
    "print(\"empirical_moments := %s\" % empirical_moments.__name__)"
   ]
  },
  {
   "cell_type": "code",
   "execution_count": 12,
   "metadata": {},
   "outputs": [],
   "source": [
    "def empirical_moments_mean_std(a, b, c, d, nsamples_latent, nsamples_output, nruns):\n",
    "    \"\"\"Returns means and stds of expectation and variance.\"\"\"\n",
    "    ev = []\n",
    "    for r in range(nruns):\n",
    "      #print(\"%i/%i\" % (r, nruns))\n",
    "      ev.append( empirical_moments(a, b, c, d, nsamples_latent, nsamples_output) )\n",
    "    ev = np.array(ev)\n",
    "    e_mean, var_mean = ev.mean(0);\n",
    "    e_std, var_std = ev.std(0)\n",
    "    return (e_mean, e_std), (var_mean, var_std)"
   ]
  },
  {
   "cell_type": "markdown",
   "metadata": {},
   "source": [
    "# Analysis of number of samples "
   ]
  },
  {
   "cell_type": "code",
   "execution_count": 13,
   "metadata": {},
   "outputs": [],
   "source": [
    "ABCD_CFGS = [ (10, 1, 10, 1), (10,2,10,2), (0.001, 0.01, 0.01, 0.1),(0.1, 1, 0.1, 1), \n",
    "              (0.1, 0.1, 0.1, 0.1), (1.0, 1.0, 0.1, 0.1), (1000.0, 1000.0, 1000.0, 1000.0),]\n",
    "LABELS = [\"A\",\"B\",\"C\",\"D\",\"E\",\"F\",\"G\"]\n",
    "\n",
    "LABEL2CFG = dict(zip(LABELS,ABCD_CFGS))\n",
    "\n",
    "NSAMPLES_CFGS = [(100,100),(1000,10),(10,1000)]\n",
    "\n",
    "nruns = 1000"
   ]
  },
  {
   "cell_type": "code",
   "execution_count": 14,
   "metadata": {},
   "outputs": [
    {
     "name": "stdout",
     "output_type": "stream",
     "text": [
      "a=10.000\tb=1.000\tc=10.000\td=1.000\t=> E=2500.00 \tV=55000.00\n",
      "a=10.000\tb=2.000\tc=10.000\td=2.000\t=> E=625.00 \tV=3906.25\n",
      "a=0.001\tb=0.010\tc=0.010\td=0.100\t=> E=0.25 \tV=253.00\n",
      "a=0.100\tb=1.000\tc=0.100\td=1.000\t=> E=0.25 \tV=0.55\n",
      "a=0.100\tb=0.100\tc=0.100\td=0.100\t=> E=25.00 \tV=3025.00\n",
      "a=1.000\tb=1.000\tc=0.100\td=0.100\t=> E=25.00 \tV=550.00\n",
      "a=1000.000\tb=1000.000\tc=1000.000\td=1000.000\t=> E=25.00 \tV=25.05\n"
     ]
    }
   ],
   "source": [
    "for a,b,c,d in ABCD_CFGS:\n",
    "    e, v = theoretical_moments(a,b,c,d)\n",
    "    print(\"a=%.3f\\tb=%.3f\\tc=%.3f\\td=%.3f\\t=> E=%.2f \\tV=%.2f\" % (a,b,c,d,e,v))"
   ]
  },
  {
   "cell_type": "code",
   "execution_count": 15,
   "metadata": {},
   "outputs": [
    {
     "name": "stdout",
     "output_type": "stream",
     "text": [
      "a=10.00\tb=1.00\tc=10.00\td=1.00\tnl=100 no=100 => E=2499.72 +/- 22.95 \tV=46778.43 +/- 159979.59 (0.02s)\n",
      "a=10.00\tb=1.00\tc=10.00\td=1.00\tnl=1000 no=10 => E=2500.20 +/- 7.59 \tV=51510.34 +/- 51322.62 (0.04s)\n",
      "a=10.00\tb=1.00\tc=10.00\td=1.00\tnl=10 no=1000 => E=2499.00 +/- 72.84 \tV=38897.69 +/- 502073.34 (0.01s)\n",
      "a=10.00\tb=2.00\tc=10.00\td=2.00\tnl=100 no=100 => E=624.33 +/- 5.91 \tV=3971.79 +/- 10021.29 (0.02s)\n",
      "a=10.00\tb=2.00\tc=10.00\td=2.00\tnl=1000 no=10 => E=624.73 +/- 1.81 \tV=3639.47 +/- 3207.82 (0.04s)\n",
      "a=10.00\tb=2.00\tc=10.00\td=2.00\tnl=10 no=1000 => E=624.69 +/- 18.18 \tV=3480.43 +/- 32634.13 (0.01s)\n",
      "WARNING:tensorflow:From /home/kusmitom/.local/lib/python3.6/site-packages/tensorflow/python/ops/resource_variable_ops.py:642: colocate_with (from tensorflow.python.framework.ops) is deprecated and will be removed in a future version.\n",
      "Instructions for updating:\n",
      "Colocations handled automatically by placer.\n",
      "a=0.00\tb=0.01\tc=0.01\td=0.10\tnl=100 no=100 => E=0.18 +/- 0.83 \tV=504.86 +/- 13393.46 (0.04s)\n",
      "a=0.00\tb=0.01\tc=0.01\td=0.10\tnl=1000 no=10 => E=0.24 +/- 0.43 \tV=340.51 +/- 3993.62 (0.08s)\n",
      "a=0.00\tb=0.01\tc=0.01\td=0.10\tnl=10 no=1000 => E=0.19 +/- 3.21 \tV=17.80 +/- 284.49 (0.04s)\n",
      "a=0.10\tb=1.00\tc=0.10\td=1.00\tnl=100 no=100 => E=0.14 +/- 0.05 \tV=0.34 +/- 0.37 (0.03s)\n",
      "a=0.10\tb=1.00\tc=0.10\td=1.00\tnl=1000 no=10 => E=0.15 +/- 0.02 \tV=0.35 +/- 0.13 (0.07s)\n",
      "a=0.10\tb=1.00\tc=0.10\td=1.00\tnl=10 no=1000 => E=0.15 +/- 0.16 \tV=0.38 +/- 1.82 (0.02s)\n",
      "a=0.10\tb=0.10\tc=0.10\td=0.10\tnl=100 no=100 => E=24.55 +/- 5.26 \tV=3352.33 +/- 5337.51 (0.05s)\n",
      "a=0.10\tb=0.10\tc=0.10\td=0.10\tnl=1000 no=10 => E=24.73 +/- 1.81 \tV=2975.52 +/- 1140.64 (0.08s)\n",
      "a=0.10\tb=0.10\tc=0.10\td=0.10\tnl=10 no=1000 => E=25.08 +/- 17.45 \tV=2656.94 +/- 9040.32 (0.04s)\n",
      "a=1.00\tb=1.00\tc=0.10\td=0.10\tnl=100 no=100 => E=24.75 +/- 2.25 \tV=524.45 +/- 327.04 (0.05s)\n",
      "a=1.00\tb=1.00\tc=0.10\td=0.10\tnl=1000 no=10 => E=24.75 +/- 0.74 \tV=537.66 +/- 102.45 (0.07s)\n",
      "a=1.00\tb=1.00\tc=0.10\td=0.10\tnl=10 no=1000 => E=24.96 +/- 7.44 \tV=516.00 +/- 1153.61 (0.04s)\n",
      "a=1000.00\tb=1000.00\tc=1000.00\td=1000.00\tnl=100 no=100 => E=24.75 +/- 0.04 \tV=12.55 +/- 2.78 (0.05s)\n",
      "a=1000.00\tb=1000.00\tc=1000.00\td=1000.00\tnl=1000 no=10 => E=24.76 +/- 0.03 \tV=13.15 +/- 2.27 (0.06s)\n",
      "a=1000.00\tb=1000.00\tc=1000.00\td=1000.00\tnl=10 no=1000 => E=24.74 +/- 0.08 \tV=12.63 +/- 5.53 (0.04s)\n"
     ]
    }
   ],
   "source": [
    "tf.random.set_random_seed(SEED)\n",
    "np.random.seed(SEED)\n",
    "results = []\n",
    "for a,b,c,d in ABCD_CFGS:\n",
    "    for nl, no in NSAMPLES_CFGS:\n",
    "        start = time.time()\n",
    "        (e_mean, e_std), (var_mean, var_std) = empirical_moments_mean_std(a,b,c,d, nl, no, nruns)\n",
    "        r = (a,b,c,d,nl,no, e_mean, e_std, var_mean, var_std, ((time.time()-start)/nruns) )\n",
    "        print(\"a=%.2f\\tb=%.2f\\tc=%.2f\\td=%.2f\\tnl=%i no=%i => E=%.2f +/- %.2f \\tV=%.2f +/- %.2f (%.2fs)\" % r)\n",
    "        results.append(r)"
   ]
  },
  {
   "cell_type": "code",
   "execution_count": 16,
   "metadata": {},
   "outputs": [
    {
     "name": "stdout",
     "output_type": "stream",
     "text": [
      "path = nsamples_analysis_25_1000.csv\n"
     ]
    },
    {
     "data": {
      "text/html": [
       "<div>\n",
       "<style scoped>\n",
       "    .dataframe tbody tr th:only-of-type {\n",
       "        vertical-align: middle;\n",
       "    }\n",
       "\n",
       "    .dataframe tbody tr th {\n",
       "        vertical-align: top;\n",
       "    }\n",
       "\n",
       "    .dataframe thead th {\n",
       "        text-align: right;\n",
       "    }\n",
       "</style>\n",
       "<table border=\"1\" class=\"dataframe\">\n",
       "  <thead>\n",
       "    <tr style=\"text-align: right;\">\n",
       "      <th></th>\n",
       "      <th>a</th>\n",
       "      <th>b</th>\n",
       "      <th>c</th>\n",
       "      <th>d</th>\n",
       "      <th>nl</th>\n",
       "      <th>no</th>\n",
       "      <th>Em</th>\n",
       "      <th>Es</th>\n",
       "      <th>Vm</th>\n",
       "      <th>Vs</th>\n",
       "      <th>time</th>\n",
       "    </tr>\n",
       "  </thead>\n",
       "  <tbody>\n",
       "    <tr>\n",
       "      <th>0</th>\n",
       "      <td>10.000</td>\n",
       "      <td>1.00</td>\n",
       "      <td>10.00</td>\n",
       "      <td>1.0</td>\n",
       "      <td>100</td>\n",
       "      <td>100</td>\n",
       "      <td>2499.716553</td>\n",
       "      <td>22.953400</td>\n",
       "      <td>46778.425781</td>\n",
       "      <td>159979.593750</td>\n",
       "      <td>0.019730</td>\n",
       "    </tr>\n",
       "    <tr>\n",
       "      <th>1</th>\n",
       "      <td>10.000</td>\n",
       "      <td>1.00</td>\n",
       "      <td>10.00</td>\n",
       "      <td>1.0</td>\n",
       "      <td>1000</td>\n",
       "      <td>10</td>\n",
       "      <td>2500.196777</td>\n",
       "      <td>7.586417</td>\n",
       "      <td>51510.335938</td>\n",
       "      <td>51322.621094</td>\n",
       "      <td>0.043446</td>\n",
       "    </tr>\n",
       "    <tr>\n",
       "      <th>2</th>\n",
       "      <td>10.000</td>\n",
       "      <td>1.00</td>\n",
       "      <td>10.00</td>\n",
       "      <td>1.0</td>\n",
       "      <td>10</td>\n",
       "      <td>1000</td>\n",
       "      <td>2498.995117</td>\n",
       "      <td>72.838295</td>\n",
       "      <td>38897.687500</td>\n",
       "      <td>502073.343750</td>\n",
       "      <td>0.014530</td>\n",
       "    </tr>\n",
       "    <tr>\n",
       "      <th>3</th>\n",
       "      <td>10.000</td>\n",
       "      <td>2.00</td>\n",
       "      <td>10.00</td>\n",
       "      <td>2.0</td>\n",
       "      <td>100</td>\n",
       "      <td>100</td>\n",
       "      <td>624.329285</td>\n",
       "      <td>5.905619</td>\n",
       "      <td>3971.786865</td>\n",
       "      <td>10021.291992</td>\n",
       "      <td>0.019092</td>\n",
       "    </tr>\n",
       "    <tr>\n",
       "      <th>4</th>\n",
       "      <td>10.000</td>\n",
       "      <td>2.00</td>\n",
       "      <td>10.00</td>\n",
       "      <td>2.0</td>\n",
       "      <td>1000</td>\n",
       "      <td>10</td>\n",
       "      <td>624.726807</td>\n",
       "      <td>1.814403</td>\n",
       "      <td>3639.469971</td>\n",
       "      <td>3207.822510</td>\n",
       "      <td>0.041418</td>\n",
       "    </tr>\n",
       "    <tr>\n",
       "      <th>5</th>\n",
       "      <td>10.000</td>\n",
       "      <td>2.00</td>\n",
       "      <td>10.00</td>\n",
       "      <td>2.0</td>\n",
       "      <td>10</td>\n",
       "      <td>1000</td>\n",
       "      <td>624.689758</td>\n",
       "      <td>18.180746</td>\n",
       "      <td>3480.430664</td>\n",
       "      <td>32634.126953</td>\n",
       "      <td>0.014530</td>\n",
       "    </tr>\n",
       "    <tr>\n",
       "      <th>6</th>\n",
       "      <td>0.001</td>\n",
       "      <td>0.01</td>\n",
       "      <td>0.01</td>\n",
       "      <td>0.1</td>\n",
       "      <td>100</td>\n",
       "      <td>100</td>\n",
       "      <td>0.184195</td>\n",
       "      <td>0.827199</td>\n",
       "      <td>504.864475</td>\n",
       "      <td>13393.458579</td>\n",
       "      <td>0.042710</td>\n",
       "    </tr>\n",
       "    <tr>\n",
       "      <th>7</th>\n",
       "      <td>0.001</td>\n",
       "      <td>0.01</td>\n",
       "      <td>0.01</td>\n",
       "      <td>0.1</td>\n",
       "      <td>1000</td>\n",
       "      <td>10</td>\n",
       "      <td>0.241534</td>\n",
       "      <td>0.426581</td>\n",
       "      <td>340.510003</td>\n",
       "      <td>3993.620473</td>\n",
       "      <td>0.080086</td>\n",
       "    </tr>\n",
       "    <tr>\n",
       "      <th>8</th>\n",
       "      <td>0.001</td>\n",
       "      <td>0.01</td>\n",
       "      <td>0.01</td>\n",
       "      <td>0.1</td>\n",
       "      <td>10</td>\n",
       "      <td>1000</td>\n",
       "      <td>0.188867</td>\n",
       "      <td>3.214111</td>\n",
       "      <td>17.802242</td>\n",
       "      <td>284.486173</td>\n",
       "      <td>0.035742</td>\n",
       "    </tr>\n",
       "    <tr>\n",
       "      <th>9</th>\n",
       "      <td>0.100</td>\n",
       "      <td>1.00</td>\n",
       "      <td>0.10</td>\n",
       "      <td>1.0</td>\n",
       "      <td>100</td>\n",
       "      <td>100</td>\n",
       "      <td>0.142479</td>\n",
       "      <td>0.051426</td>\n",
       "      <td>0.344223</td>\n",
       "      <td>0.365778</td>\n",
       "      <td>0.031595</td>\n",
       "    </tr>\n",
       "    <tr>\n",
       "      <th>10</th>\n",
       "      <td>0.100</td>\n",
       "      <td>1.00</td>\n",
       "      <td>0.10</td>\n",
       "      <td>1.0</td>\n",
       "      <td>1000</td>\n",
       "      <td>10</td>\n",
       "      <td>0.145195</td>\n",
       "      <td>0.016135</td>\n",
       "      <td>0.350098</td>\n",
       "      <td>0.127871</td>\n",
       "      <td>0.065937</td>\n",
       "    </tr>\n",
       "    <tr>\n",
       "      <th>11</th>\n",
       "      <td>0.100</td>\n",
       "      <td>1.00</td>\n",
       "      <td>0.10</td>\n",
       "      <td>1.0</td>\n",
       "      <td>10</td>\n",
       "      <td>1000</td>\n",
       "      <td>0.145673</td>\n",
       "      <td>0.159137</td>\n",
       "      <td>0.379238</td>\n",
       "      <td>1.821221</td>\n",
       "      <td>0.024982</td>\n",
       "    </tr>\n",
       "    <tr>\n",
       "      <th>12</th>\n",
       "      <td>0.100</td>\n",
       "      <td>0.10</td>\n",
       "      <td>0.10</td>\n",
       "      <td>0.1</td>\n",
       "      <td>100</td>\n",
       "      <td>100</td>\n",
       "      <td>24.554330</td>\n",
       "      <td>5.258525</td>\n",
       "      <td>3352.327293</td>\n",
       "      <td>5337.511301</td>\n",
       "      <td>0.047596</td>\n",
       "    </tr>\n",
       "    <tr>\n",
       "      <th>13</th>\n",
       "      <td>0.100</td>\n",
       "      <td>0.10</td>\n",
       "      <td>0.10</td>\n",
       "      <td>0.1</td>\n",
       "      <td>1000</td>\n",
       "      <td>10</td>\n",
       "      <td>24.734275</td>\n",
       "      <td>1.809859</td>\n",
       "      <td>2975.522220</td>\n",
       "      <td>1140.638310</td>\n",
       "      <td>0.081186</td>\n",
       "    </tr>\n",
       "    <tr>\n",
       "      <th>14</th>\n",
       "      <td>0.100</td>\n",
       "      <td>0.10</td>\n",
       "      <td>0.10</td>\n",
       "      <td>0.1</td>\n",
       "      <td>10</td>\n",
       "      <td>1000</td>\n",
       "      <td>25.075149</td>\n",
       "      <td>17.453832</td>\n",
       "      <td>2656.935119</td>\n",
       "      <td>9040.324002</td>\n",
       "      <td>0.040705</td>\n",
       "    </tr>\n",
       "    <tr>\n",
       "      <th>15</th>\n",
       "      <td>1.000</td>\n",
       "      <td>1.00</td>\n",
       "      <td>0.10</td>\n",
       "      <td>0.1</td>\n",
       "      <td>100</td>\n",
       "      <td>100</td>\n",
       "      <td>24.747403</td>\n",
       "      <td>2.253174</td>\n",
       "      <td>524.445756</td>\n",
       "      <td>327.036068</td>\n",
       "      <td>0.046715</td>\n",
       "    </tr>\n",
       "    <tr>\n",
       "      <th>16</th>\n",
       "      <td>1.000</td>\n",
       "      <td>1.00</td>\n",
       "      <td>0.10</td>\n",
       "      <td>0.1</td>\n",
       "      <td>1000</td>\n",
       "      <td>10</td>\n",
       "      <td>24.752550</td>\n",
       "      <td>0.735968</td>\n",
       "      <td>537.661767</td>\n",
       "      <td>102.453802</td>\n",
       "      <td>0.066832</td>\n",
       "    </tr>\n",
       "    <tr>\n",
       "      <th>17</th>\n",
       "      <td>1.000</td>\n",
       "      <td>1.00</td>\n",
       "      <td>0.10</td>\n",
       "      <td>0.1</td>\n",
       "      <td>10</td>\n",
       "      <td>1000</td>\n",
       "      <td>24.959178</td>\n",
       "      <td>7.442998</td>\n",
       "      <td>515.998391</td>\n",
       "      <td>1153.612047</td>\n",
       "      <td>0.041562</td>\n",
       "    </tr>\n",
       "    <tr>\n",
       "      <th>18</th>\n",
       "      <td>1000.000</td>\n",
       "      <td>1000.00</td>\n",
       "      <td>1000.00</td>\n",
       "      <td>1000.0</td>\n",
       "      <td>100</td>\n",
       "      <td>100</td>\n",
       "      <td>24.750763</td>\n",
       "      <td>0.040011</td>\n",
       "      <td>12.551718</td>\n",
       "      <td>2.784226</td>\n",
       "      <td>0.045620</td>\n",
       "    </tr>\n",
       "    <tr>\n",
       "      <th>19</th>\n",
       "      <td>1000.000</td>\n",
       "      <td>1000.00</td>\n",
       "      <td>1000.00</td>\n",
       "      <td>1000.0</td>\n",
       "      <td>1000</td>\n",
       "      <td>10</td>\n",
       "      <td>24.759191</td>\n",
       "      <td>0.032477</td>\n",
       "      <td>13.148868</td>\n",
       "      <td>2.274221</td>\n",
       "      <td>0.056029</td>\n",
       "    </tr>\n",
       "    <tr>\n",
       "      <th>20</th>\n",
       "      <td>1000.000</td>\n",
       "      <td>1000.00</td>\n",
       "      <td>1000.00</td>\n",
       "      <td>1000.0</td>\n",
       "      <td>10</td>\n",
       "      <td>1000</td>\n",
       "      <td>24.743978</td>\n",
       "      <td>0.078957</td>\n",
       "      <td>12.632387</td>\n",
       "      <td>5.527227</td>\n",
       "      <td>0.036904</td>\n",
       "    </tr>\n",
       "  </tbody>\n",
       "</table>\n",
       "</div>"
      ],
      "text/plain": [
       "           a        b        c       d    nl    no           Em         Es  \\\n",
       "0     10.000     1.00    10.00     1.0   100   100  2499.716553  22.953400   \n",
       "1     10.000     1.00    10.00     1.0  1000    10  2500.196777   7.586417   \n",
       "2     10.000     1.00    10.00     1.0    10  1000  2498.995117  72.838295   \n",
       "3     10.000     2.00    10.00     2.0   100   100   624.329285   5.905619   \n",
       "4     10.000     2.00    10.00     2.0  1000    10   624.726807   1.814403   \n",
       "5     10.000     2.00    10.00     2.0    10  1000   624.689758  18.180746   \n",
       "6      0.001     0.01     0.01     0.1   100   100     0.184195   0.827199   \n",
       "7      0.001     0.01     0.01     0.1  1000    10     0.241534   0.426581   \n",
       "8      0.001     0.01     0.01     0.1    10  1000     0.188867   3.214111   \n",
       "9      0.100     1.00     0.10     1.0   100   100     0.142479   0.051426   \n",
       "10     0.100     1.00     0.10     1.0  1000    10     0.145195   0.016135   \n",
       "11     0.100     1.00     0.10     1.0    10  1000     0.145673   0.159137   \n",
       "12     0.100     0.10     0.10     0.1   100   100    24.554330   5.258525   \n",
       "13     0.100     0.10     0.10     0.1  1000    10    24.734275   1.809859   \n",
       "14     0.100     0.10     0.10     0.1    10  1000    25.075149  17.453832   \n",
       "15     1.000     1.00     0.10     0.1   100   100    24.747403   2.253174   \n",
       "16     1.000     1.00     0.10     0.1  1000    10    24.752550   0.735968   \n",
       "17     1.000     1.00     0.10     0.1    10  1000    24.959178   7.442998   \n",
       "18  1000.000  1000.00  1000.00  1000.0   100   100    24.750763   0.040011   \n",
       "19  1000.000  1000.00  1000.00  1000.0  1000    10    24.759191   0.032477   \n",
       "20  1000.000  1000.00  1000.00  1000.0    10  1000    24.743978   0.078957   \n",
       "\n",
       "              Vm             Vs      time  \n",
       "0   46778.425781  159979.593750  0.019730  \n",
       "1   51510.335938   51322.621094  0.043446  \n",
       "2   38897.687500  502073.343750  0.014530  \n",
       "3    3971.786865   10021.291992  0.019092  \n",
       "4    3639.469971    3207.822510  0.041418  \n",
       "5    3480.430664   32634.126953  0.014530  \n",
       "6     504.864475   13393.458579  0.042710  \n",
       "7     340.510003    3993.620473  0.080086  \n",
       "8      17.802242     284.486173  0.035742  \n",
       "9       0.344223       0.365778  0.031595  \n",
       "10      0.350098       0.127871  0.065937  \n",
       "11      0.379238       1.821221  0.024982  \n",
       "12   3352.327293    5337.511301  0.047596  \n",
       "13   2975.522220    1140.638310  0.081186  \n",
       "14   2656.935119    9040.324002  0.040705  \n",
       "15    524.445756     327.036068  0.046715  \n",
       "16    537.661767     102.453802  0.066832  \n",
       "17    515.998391    1153.612047  0.041562  \n",
       "18     12.551718       2.784226  0.045620  \n",
       "19     13.148868       2.274221  0.056029  \n",
       "20     12.632387       5.527227  0.036904  "
      ]
     },
     "execution_count": 16,
     "metadata": {},
     "output_type": "execute_result"
    }
   ],
   "source": [
    "path = \"nsamples_analysis_%s_%s.csv\" % (K, nruns)\n",
    "print(\"path = %s\" % path)\n",
    "pd.DataFrame(results).to_csv(path, index=False, header=False)\n",
    "df = pd.read_csv(path, header=None).rename(columns=dict(enumerate([\"a\", \"b\", \"c\", \"d\", \"nl\", \"no\", \"Em\", \"Es\", \"Vm\", \"Vs\", \"time\"])))\n",
    "df"
   ]
  },
  {
   "cell_type": "markdown",
   "metadata": {},
   "source": [
    "# Plotting"
   ]
  },
  {
   "cell_type": "code",
   "execution_count": 17,
   "metadata": {},
   "outputs": [],
   "source": [
    "import warnings\n",
    "warnings.filterwarnings(\"ignore\")"
   ]
  },
  {
   "cell_type": "code",
   "execution_count": 18,
   "metadata": {},
   "outputs": [
    {
     "data": {
      "image/png": "[encoded data removed]",
      "text/plain": [
       "<Figure size 460.8x345.6 with 2 Axes>"
      ]
     },
     "metadata": {},
     "output_type": "display_data"
    }
   ],
   "source": [
    "labels = \"DCEFGBA\"\n",
    "MEANCOL, STDCOL = \"Em\", \"Es\"\n",
    "\n",
    "start_plotting(cmbright=False, font_size=17*1.5)\n",
    "\n",
    "ax1 = plt.subplot(211)  \n",
    "for i, LABEL in enumerate(labels):\n",
    "  a,b,c,d = LABEL2CFG[LABEL]    \n",
    "  shift = i*4    \n",
    "    \n",
    "  d11 = df[(df.a==a)&(df.b==b)&(df.c==c)&(df.d==d)]\n",
    "  exp, var = theoretical_moments(a,b,c,d)\n",
    "  Z, LABEL = 1.0/exp * 100.0, r\"Bias [\\%]\"\n",
    "  #Z, LABEL = 1.0, \"Bias\"    \n",
    "             \n",
    "  d1 = d11[(df.nl==10)&(df.no==1000)]\n",
    "  xs = list(np.arange(len(d1))+shift+1.6)\n",
    "  plt.bar(xs, abs(d1[MEANCOL]-exp) * Z, color=\"lightskyblue\", width=0.8, align=\"center\")\n",
    "\n",
    "  d1 = d11[(df.nl==100)&(df.no==100)]\n",
    "  xs = list(np.arange(len(d1))+shift+0.8)\n",
    "  plt.bar(xs, abs(d1[MEANCOL]-exp) * Z, color=\"mistyrose\", width=0.8, align=\"center\")        \n",
    "        \n",
    "  d1 = d11[(df.nl==1000)&(df.no==10)]\n",
    "  xs = list(np.arange(len(d1))+shift)\n",
    "  plt.bar(xs, abs(d1[MEANCOL]-exp) * Z, color=\"lightgrey\", width=0.8, align=\"center\")\n",
    "\n",
    "plt.xticks([],[])\n",
    "plt.ylabel(LABEL)\n",
    "plt.axhline(0.0, color=\"k\", zorder=-1, lw=1, ls=\"--\")\n",
    "plt.xlim(-1, 43)\n",
    "\n",
    "from matplotlib.lines import Line2D\n",
    "custom_lines = [Line2D([0], [0], color=\"lightgrey\", lw=4),\n",
    "                Line2D([0], [0], color=\"mistyrose\", lw=4),\n",
    "                Line2D([0], [0], color=\"lightskyblue\", lw=4),]\n",
    "plt.gca().legend(custom_lines, [r\"$10^3 \\times 10^1$\", r\"$10^2 \\times 10^2$\", r\"$10^1 \\times 10^3$\"], \n",
    "                 title=r\"$S_{Z} \\times S_y$\", fontsize=15, loc=4)\n",
    "\n",
    "ax1 = plt.subplot(212)  \n",
    "for i, LABEL in enumerate(labels):\n",
    "  a,b,c,d = LABEL2CFG[LABEL]    \n",
    "  shift = i*4    \n",
    "    \n",
    "  d11 = df[(df.a==a)&(df.b==b)&(df.c==c)&(df.d==d)]\n",
    "  exp, var = theoretical_moments(a,b,c,d)\n",
    "  Z, LABEL = 1.0/exp * 100.0, r\"Variance [\\%]\"\n",
    "  #Z, LABEL = 1.0, \"Variance\"\n",
    "    \n",
    "     \n",
    "  d1 = d11[(df.nl==10)&(df.no==1000)]\n",
    "  xs = list(np.arange(len(d1))+shift+1.6)\n",
    "  plt.bar(xs, d1[STDCOL]**2 * Z, color=\"lightskyblue\", width=0.8, align=\"center\")\n",
    "\n",
    "  d1 = d11[(df.nl==100)&(df.no==100)]\n",
    "  xs = list(np.arange(len(d1))+shift+0.8)\n",
    "  plt.bar(xs, d1[STDCOL]**2 * Z, color=\"mistyrose\", width=0.8, align=\"center\")\n",
    "\n",
    "  d1 = d11[(df.nl==1000)&(df.no==10)]\n",
    "  xs = list(np.arange(len(d1))+shift)\n",
    "  plt.bar(xs, d1[STDCOL]**2 * Z, color=\"lightgrey\", width=0.8, align=\"center\")\n",
    "\n",
    "\n",
    "plt.xticks(np.arange(0, 4*len(labels), 4)+1, labels)  \n",
    "plt.ylabel(LABEL)\n",
    "plt.xlabel(r\"Increasing $\\mathbb{E}[Y]$\")\n",
    "plt.axhline(0.0, color=\"k\", zorder=-1, lw=1, ls=\"--\")\n",
    "plt.yscale(\"log\")\n",
    "#plt.ylim(0.001, 2000.0)\n",
    "plt.ylim(1, 1000.0)\n",
    "plt.xlim(-1, 43)\n",
    "\n",
    "\n",
    "from matplotlib.lines import Line2D\n",
    "custom_lines = [Line2D([0], [0], color=\"lightgrey\", lw=4),\n",
    "                Line2D([0], [0], color=\"mistyrose\", lw=4),\n",
    "                Line2D([0], [0], color=\"lightskyblue\", lw=4),]\n",
    "plt.gca().legend(custom_lines, [r\"$10^3 \\times 10^1$\", r\"$10^2 \\times 10^2$\", r\"$10^1 \\times 10^3$\"], \n",
    "                 title=r\"$S_{Z} \\times S_y$\", fontsize=15, loc=4)\n",
    "\n",
    "plt.subplots_adjust(left=0.2, right=0.95, top=0.95, bottom=0.2)    \n",
    "plt.savefig(\"nsamples_e.pdf\")\n",
    "plt.show()"
   ]
  },
  {
   "cell_type": "code",
   "execution_count": 19,
   "metadata": {},
   "outputs": [
    {
     "data": {
      "image/png": "[encoded data removed]",
      "text/plain": [
       "<Figure size 460.8x345.6 with 2 Axes>"
      ]
     },
     "metadata": {},
     "output_type": "display_data"
    }
   ],
   "source": [
    "labels = \"DGCFEBA\"\n",
    "MEANCOL, STDCOL = \"Vm\", \"Vs\"\n",
    "\n",
    "\n",
    "start_plotting(cmbright=False, font_size=17*1.5)\n",
    "\n",
    "ax1 = plt.subplot(211)  \n",
    "for i, LABEL in enumerate(labels):\n",
    "  a,b,c,d = LABEL2CFG[LABEL]    \n",
    "  shift = i*4    \n",
    "      \n",
    "\n",
    "  d11 = df[(df.a==a)&(df.b==b)&(df.c==c)&(df.d==d)]\n",
    "  exp, var = theoretical_moments(a,b,c,d)\n",
    "  Z, LABEL = 1.0/var * 100.0, r\"Bias [\\%]\"\n",
    "  #Z, LABEL = 1.0, \"Bias\"\n",
    "             \n",
    "  d1 = d11[(df.nl==10)&(df.no==1000)]\n",
    "  xs = list(np.arange(len(d1))+shift+1.6)\n",
    "  plt.bar(xs, abs(d1[MEANCOL]-var)*Z, color=\"lightskyblue\", width=0.8, align=\"center\")\n",
    "\n",
    "  d1 = d11[(df.nl==100)&(df.no==100)]\n",
    "  xs = list(np.arange(len(d1))+shift+0.8)\n",
    "  plt.bar(xs, abs(d1[MEANCOL]-var)*Z, color=\"mistyrose\", width=0.8, align=\"center\")        \n",
    "        \n",
    "  d1 = d11[(df.nl==1000)&(df.no==10)]\n",
    "  xs = list(np.arange(len(d1))+shift)\n",
    "  plt.bar(xs, abs(d1[MEANCOL]-var)*Z, color=\"lightgrey\", width=0.8, align=\"center\")\n",
    "\n",
    "plt.xticks([],[])\n",
    "plt.ylabel(LABEL)\n",
    "plt.axhline(0.0, color=\"k\", zorder=-1, lw=1, ls=\"--\")\n",
    "#plt.yscale(\"log\")\n",
    "#plt.ylim(0.1, 100000)\n",
    "plt.xlim(-1, 43)\n",
    "\n",
    "from matplotlib.lines import Line2D\n",
    "custom_lines = [Line2D([0], [0], color=\"lightgrey\", lw=4),\n",
    "                Line2D([0], [0], color=\"mistyrose\", lw=4),\n",
    "                Line2D([0], [0], color=\"lightskyblue\", lw=4),]\n",
    "plt.gca().legend(custom_lines, [r\"$10^3 \\times 10^1$\", r\"$10^2 \\times 10^2$\", r\"$10^1 \\times 10^3$\"], \n",
    "                 title=r\"$S_{Z} \\times S_y$\", fontsize=15, loc=4)\n",
    "\n",
    "ax1 = plt.subplot(212)  \n",
    "for i, LABEL in enumerate(labels):\n",
    "  a,b,c,d = LABEL2CFG[LABEL]    \n",
    "  shift = i*4    \n",
    "    \n",
    "  d11 = df[(df.a==a)&(df.b==b)&(df.c==c)&(df.d==d)]\n",
    "  exp, var = theoretical_moments(a,b,c,d)\n",
    "  Z, LABEL = 1.0/var * 100.0, r\"Variance [\\%]\"\n",
    "  #Z, LABEL = 1.0, \"Variance\"    \n",
    "     \n",
    "  d1 = d11[(df.nl==10)&(df.no==1000)]\n",
    "  xs = list(np.arange(len(d1))+shift+1.6)\n",
    "  plt.bar(xs, d1[STDCOL]**2*Z, color=\"lightskyblue\", width=0.8, align=\"center\")\n",
    "\n",
    "  d1 = d11[(df.nl==100)&(df.no==100)]\n",
    "  xs = list(np.arange(len(d1))+shift+0.8)\n",
    "  plt.bar(xs, d1[STDCOL]**2*Z, color=\"mistyrose\", width=0.8, align=\"center\")\n",
    "\n",
    "  d1 = d11[(df.nl==1000)&(df.no==10)]\n",
    "  xs = list(np.arange(len(d1))+shift)\n",
    "  plt.bar(xs, d1[STDCOL]**2*Z, color=\"lightgrey\", width=0.8, align=\"center\")\n",
    "\n",
    "\n",
    "plt.xticks(np.arange(0, 4*len(labels), 4)+1, labels)  \n",
    "plt.ylabel(LABEL)\n",
    "plt.xlabel(r\"Increasing $\\mathbb{V}[Y]$\")\n",
    "plt.axhline(0.0, color=\"k\", zorder=-1, lw=1, ls=\"--\")\n",
    "plt.yscale(\"log\")\n",
    "plt.ylim(0.001, 1e6)\n",
    "plt.xlim(-1, 43)\n",
    "\n",
    "\n",
    "from matplotlib.lines import Line2D\n",
    "custom_lines = [Line2D([0], [0], color=\"lightgrey\", lw=4),\n",
    "                Line2D([0], [0], color=\"mistyrose\", lw=4),\n",
    "                Line2D([0], [0], color=\"lightskyblue\", lw=4),]\n",
    "plt.gca().legend(custom_lines, [r\"$10^3 \\times 10^1$\", r\"$10^2 \\times 10^2$\", r\"$10^1 \\times 10^3$\"], \n",
    "                 title=r\"$S_{Z} \\times S_y$\", fontsize=15, loc=4)\n",
    "\n",
    "plt.subplots_adjust(left=0.2, right=0.95, top=0.95, bottom=0.2)    \n",
    "plt.savefig(\"nsamples_v.pdf\")\n",
    "plt.show()"
   ]
  },
  {
   "cell_type": "code",
   "execution_count": null,
   "metadata": {},
   "outputs": [],
   "source": []
  }
 ],
 "metadata": {
  "colab": {
   "collapsed_sections": [],
   "name": "HPF Matching priors",
   "private_outputs": true,
   "provenance": [],
   "version": "0.3.2"
  },
  "kernelspec": {
   "display_name": "Python 3",
   "language": "python",
   "name": "python3"
  },
  "language_info": {
   "codemirror_mode": {
    "name": "ipython",
    "version": 3
   },
   "file_extension": ".py",
   "mimetype": "text/x-python",
   "name": "python",
   "nbconvert_exporter": "python",
   "pygments_lexer": "ipython3",
   "version": "3.6.8"
  }
 },
 "nbformat": 4,
 "nbformat_minor": 1
}
