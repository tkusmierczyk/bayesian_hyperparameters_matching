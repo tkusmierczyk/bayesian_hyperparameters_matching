{
 "cells": [
  {
   "cell_type": "markdown",
   "metadata": {
    "colab_type": "text",
    "id": "BAdp1h4FSIgQ"
   },
   "source": [
    "# HPF: matching requested expectation and variance using SGD"
   ]
  },
  {
   "cell_type": "markdown",
   "metadata": {},
   "source": [
    "The notebook demonstrates how priors matching requested values of prior predictive expectation and/or variance can be found for Hierarchical Poisson Matrix Factorization model using SGD."
   ]
  },
  {
   "cell_type": "markdown",
   "metadata": {
    "colab_type": "text",
    "id": "RBAeIwOMrYk8"
   },
   "source": [
    "## Setup \n"
   ]
  },
  {
   "cell_type": "code",
   "execution_count": 1,
   "metadata": {},
   "outputs": [],
   "source": [
    "from __future__ import absolute_import, division, print_function, unicode_literals"
   ]
  },
  {
   "cell_type": "code",
   "execution_count": 2,
   "metadata": {
    "attributes": {
     "classes": [
      "py"
     ],
     "id": ""
    },
    "colab": {},
    "colab_type": "code",
    "id": "N-2lSGiHqEfq"
   },
   "outputs": [],
   "source": [
    "import tensorflow as tf\n",
    "#tf.enable_eager_execution()\n",
    "import tensorflow_probability as tfp\n",
    "from tensorflow_probability import distributions as tfd\n",
    "#tfe = tf.contrib.eager"
   ]
  },
  {
   "cell_type": "code",
   "execution_count": 3,
   "metadata": {},
   "outputs": [
    {
     "data": {
      "text/plain": [
       "('2.1.0', '0.9.0')"
      ]
     },
     "execution_count": 3,
     "metadata": {},
     "output_type": "execute_result"
    }
   ],
   "source": [
    "tf.__version__, tfp.__version__"
   ]
  },
  {
   "cell_type": "code",
   "execution_count": 4,
   "metadata": {},
   "outputs": [
    {
     "data": {
      "text/plain": [
       "True"
      ]
     },
     "execution_count": 4,
     "metadata": {},
     "output_type": "execute_result"
    }
   ],
   "source": [
    "tf.executing_eagerly()"
   ]
  },
  {
   "cell_type": "code",
   "execution_count": 5,
   "metadata": {
    "attributes": {
     "classes": [
      "py"
     ],
     "id": ""
    },
    "colab": {},
    "colab_type": "code",
    "id": "9gsI54pbqEfj"
   },
   "outputs": [],
   "source": [
    "import time\n",
    "import numpy as np\n",
    "import pandas as pd"
   ]
  },
  {
   "cell_type": "code",
   "execution_count": 6,
   "metadata": {},
   "outputs": [],
   "source": [
    "from aux import *"
   ]
  },
  {
   "cell_type": "markdown",
   "metadata": {},
   "source": [
    "# Configuration"
   ]
  },
  {
   "cell_type": "code",
   "execution_count": 7,
   "metadata": {},
   "outputs": [
    {
     "name": "stdout",
     "output_type": "stream",
     "text": [
      "parsing: <-f>\n"
     ]
    }
   ],
   "source": [
    "args = parse_script_args()"
   ]
  },
  {
   "cell_type": "code",
   "execution_count": 8,
   "metadata": {},
   "outputs": [],
   "source": [
    "np.random.seed(int(time.time()))\n",
    "EID = np.random.randint(10000) # experiment id"
   ]
  },
  {
   "cell_type": "code",
   "execution_count": 9,
   "metadata": {},
   "outputs": [],
   "source": [
    "SEED = args.get(\"SEED\", 129)\n",
    "np.random.seed(SEED)"
   ]
  },
  {
   "cell_type": "code",
   "execution_count": 10,
   "metadata": {},
   "outputs": [],
   "source": [
    "K = args.get(\"K\", 25) # factorization dimensions"
   ]
  },
  {
   "cell_type": "code",
   "execution_count": 11,
   "metadata": {},
   "outputs": [],
   "source": [
    "NITER = args.get(\"NITER\", 10000) + 1 # how many iterations\n",
    "LR = args.get(\"LR\", 0.1) # learning rate\n",
    "LAMBDA = args.get(\"LAMBDA\", 0.0) # regularization"
   ]
  },
  {
   "cell_type": "code",
   "execution_count": 12,
   "metadata": {},
   "outputs": [],
   "source": [
    "# requested values\n",
    "DESIRED_EXPECTATION = args.get(\"E\", 25)\n",
    "DESIRED_VARIANCE = args.get(\"V\", 550)\n",
    "\n",
    "# discrepancy measure: care about E=only expectation, V=only variance, EV=both\n",
    "D = args.get(\"D\", \"EV\")\n",
    "if D==\"E\": DESIRED_VARIANCE = -1\n",
    "if D==\"V\": DESIRED_EXPECTATION = -1\n",
    "    \n",
    "discrepancy_expectation = lambda expectation, variance: (expectation-DESIRED_EXPECTATION)**2 \n",
    "discrepancy_variance    = lambda expectation, variance: (variance-DESIRED_VARIANCE)**2 \n",
    "discrepancy_exp_var     = lambda expectation, variance: discrepancy_variance(expectation, variance) + \\\n",
    "                                                        discrepancy_expectation(expectation, variance)\n",
    "\n",
    "NAME2DISCREPANCY = {\"E\":  discrepancy_expectation, \"EV\": discrepancy_exp_var, \"V\": discrepancy_variance}\n",
    "discrepancy = NAME2DISCREPANCY[D]"
   ]
  },
  {
   "cell_type": "code",
   "execution_count": 13,
   "metadata": {},
   "outputs": [],
   "source": [
    "# sampling strategy: independent or the same samples for E & V\n",
    "SAMPLING = args.get(\"SAMPLING\", 0)\n",
    "if SAMPLING==0 and LAMBDA<=0.0:\n",
    "    if D==\"E\": SAMPLING = 2 # if V is not used\n",
    "    if D==\"V\": SAMPLING = 3 # if E is not used\n",
    "\n",
    "NSAMPLES_LATENT = args.get(\"S\", 1000) # how many samples of latent variables\n",
    "NSAMPLES_OUTPUT = args.get(\"SY\", 10)  # how many samples of outputs for each latent\n",
    "\n",
    "LOG_SCORE_DERIVATIVES = True"
   ]
  },
  {
   "cell_type": "code",
   "execution_count": 14,
   "metadata": {},
   "outputs": [],
   "source": [
    "# optimization initial values \n",
    "\n",
    "a0, ap0, bp0 = args.get(\"a\", 3.0), args.get(\"ap\", 3.0), args.get(\"bp\", 1.0)\n",
    "c0, cp0, dp0 = args.get(\"c\", 3.0), args.get(\"cp\", 3.0), args.get(\"dp\", 1.0)\n",
    "\n",
    "\n",
    "# which parameter space\n",
    "PARAMETRIZATION = args.get(\"TRANSFORMATION\", \"abcd\") # musigma/abcd\n",
    "# how to transform from unbounded space to a bounded one and vice versa\n",
    "VARIABLES_TRANSFORMATION = args.get(\"TRANSFORMATION\", \"softplus\") # softplus/exp/pow10\n",
    "# which of the parameters to train\n",
    "TRAINABLE = args.get(\"TRAIN\", \"012345\") "
   ]
  },
  {
   "cell_type": "code",
   "execution_count": 15,
   "metadata": {},
   "outputs": [
    {
     "name": "stdout",
     "output_type": "stream",
     "text": [
      "DESCRIPTION: a=3.0 ap=3.0 bp=1.0 c=3.0 cp=3.0 dp=1.0 D=EV E=25 V=550 EID=8335 K=25 LAMBDA=0.0 LR=0.1 NITER=10001 S_LATENT=1000 S_OUTPUT=10 PARAMETRIZATION=abcd SAMPLING=0 SEED=129 TT=012345 VARIABLES_TRANSFORMATION=softplus\n"
     ]
    }
   ],
   "source": [
    "DESCRIPTION = dict2str(globals()).replace(\"NSAMPLES\", \"S\").replace(\"DESIRED_\", \"\").replace(\"EXPECTATION\", \"E\").replace(\"VARIANCE\", \"V\").replace(\"TRAINABLE\", \"TT\")\n",
    "DESCRIPTION = \"a=%s ap=%s bp=%s c=%s cp=%s dp=%s %s\" % (a0, ap0, bp0, c0, cp0, dp0,DESCRIPTION)\n",
    "print(\"DESCRIPTION: %s\" % DESCRIPTION)\n",
    "\n",
    "ID = str(args.get(\"ID\", DESCRIPTION))"
   ]
  },
  {
   "cell_type": "markdown",
   "metadata": {},
   "source": [
    "# Parameters transformation"
   ]
  },
  {
   "cell_type": "markdown",
   "metadata": {},
   "source": [
    "For HPF, we consider only one parametrization (the one from the original paper),\n",
    "so the parametrization is an identity.\n",
    "However, we still need to perform a transformation from unconstrained space."
   ]
  },
  {
   "cell_type": "code",
   "execution_count": 16,
   "metadata": {},
   "outputs": [],
   "source": [
    "def abcdef2abcdef(a, b, c, d, e, f, env=tf):    \n",
    "    return a, b, c, d, e, f"
   ]
  },
  {
   "cell_type": "code",
   "execution_count": 17,
   "metadata": {},
   "outputs": [
    {
     "name": "stdout",
     "output_type": "stream",
     "text": [
      "forward_transformation:=softplus backward_transformation:=softplus_inverse\n",
      "forward_parametrization:=abcdef2abcdef backward_parametrization:=abcdef2abcdef \n"
     ]
    }
   ],
   "source": [
    "#from tensorflow.contrib.distributions import softplus_inverse\n",
    "#softplus_inverse = lambda v: tf.log(tf.exp(v)-1.0)\n",
    "softplus_inverse = tfp.math.softplus_inverse\n",
    "NAME2TRANSFORMATION = {\"softplus\": (tf.nn.softplus, softplus_inverse), \n",
    "                       \"exp\": (tf.exp, tf.math.log),\n",
    "                       \"pow10\": (lambda v: tf.math.pow(10.0, v), lambda v: tf.math.log(v)*0.434294482)}\n",
    "forward_transformation, backward_transformation = NAME2TRANSFORMATION[VARIABLES_TRANSFORMATION]\n",
    "\n",
    "print(\"forward_transformation:=%s backward_transformation:=%s\" % \n",
    "      (forward_transformation.__name__, backward_transformation.__name__))\n",
    "#print(\"  transformation prec:\", np.array(backward_transformation(forward_transformation(a0))-a0))\n",
    "\n",
    "NAME2PARAMETRIZATION = {\"abcd\": (abcdef2abcdef, abcdef2abcdef)}\n",
    "forward_parametrization, backward_parametrization = NAME2PARAMETRIZATION[PARAMETRIZATION]\n",
    "\n",
    "print(\"forward_parametrization:=%s backward_parametrization:=%s \" % \n",
    "      (forward_parametrization.__name__, backward_parametrization.__name__))\n",
    "#print(\"  parametrization prec:\", forward_parametrization(*backward_parametrization(a0,b0,c0,d0))-np.array([a0,b0,c0,d0]))\n",
    "#assert (np.round(inverse_parametrization(*parametrization(a0,b0,c0,d0))-np.array([a0,b0,c0,d0]),2) ==0).all()"
   ]
  },
  {
   "cell_type": "markdown",
   "metadata": {},
   "source": [
    "# Expectation & variance estimators"
   ]
  },
  {
   "cell_type": "code",
   "execution_count": 18,
   "metadata": {},
   "outputs": [
    {
     "name": "stdout",
     "output_type": "stream",
     "text": [
      "empirical_moments := empirical_moments_fully_decoupled\n"
     ]
    }
   ],
   "source": [
    "from hpf_model import create_moments_estimator, empirical_Ey_and_Ey2_tf, empirical_Ey_and_Ey2_tf_logscore\n",
    "theoretical_moments = create_moments_estimator(K=K, ESTIMATOR_NO=-1)\n",
    "empirical_moments   = create_moments_estimator(K=K, ESTIMATOR_NO=SAMPLING, \n",
    "    empirical_Ey_and_Ey2=empirical_Ey_and_Ey2_tf_logscore if LOG_SCORE_DERIVATIVES else empirical_Ey_and_Ey2_tf)\n",
    "print(\"empirical_moments := %s\" % empirical_moments.__name__)"
   ]
  },
  {
   "cell_type": "code",
   "execution_count": 19,
   "metadata": {},
   "outputs": [
    {
     "name": "stdout",
     "output_type": "stream",
     "text": [
      "Initialization: a=3.000\tap=3.000\tbp=1.000\ta=3.000\tap=3.000\tbp=1.000\t=> E=505.8573 \tV=722606.8320\n"
     ]
    }
   ],
   "source": [
    "e, v = theoretical_moments(a0, ap0, bp0, c0, cp0, dp0)\n",
    "print(\"Initialization: a=%.3f\\tap=%.3f\\tbp=%.3f\\ta=%.3f\\tap=%.3f\\tbp=%.3f\\t=> E=%.4f \\tV=%.4f\" % \n",
    "      (a0, ap0, bp0, c0, cp0, dp0, e, v))"
   ]
  },
  {
   "cell_type": "markdown",
   "metadata": {
    "colab_type": "text",
    "id": "49UKjZZLR2Nh"
   },
   "source": [
    "# Find hyperparameters matching desired values"
   ]
  },
  {
   "cell_type": "code",
   "execution_count": 20,
   "metadata": {},
   "outputs": [],
   "source": [
    "#tf.random.set_random_seed(SEED)\n",
    "tf.random.set_seed(SEED)\n",
    "np.random.seed(SEED)"
   ]
  },
  {
   "cell_type": "code",
   "execution_count": 21,
   "metadata": {
    "colab": {},
    "colab_type": "code",
    "id": "Yn6hR1_LZ4FR"
   },
   "outputs": [],
   "source": [
    "# init (unbounded) params\n",
    "float2 = lambda v: tf.Variable(v, dtype=tf.float64)\n",
    "\n",
    "a0tf, ap0tf, bp0tf, c0tf, cp0tf, dp0tf = float2(a0), float2(ap0), float2(bp0), float2(c0), float2(cp0), float2(dp0)\n",
    "i0, i1, i2, i3, i4, i5 = backward_parametrization(a0tf, ap0tf, bp0tf, c0tf, cp0tf, dp0tf, env=tf)\n",
    "\n",
    "p0u = tf.Variable(backward_transformation(i0), name=\"0\", dtype=tf.float64) \n",
    "p1u = tf.Variable(backward_transformation(i1), name=\"1\", dtype=tf.float64) \n",
    "p2u = tf.Variable(backward_transformation(i2), name=\"2\", dtype=tf.float64) \n",
    "p3u = tf.Variable(backward_transformation(i3), name=\"3\", dtype=tf.float64) \n",
    "p4u = tf.Variable(backward_transformation(i4), name=\"4\", dtype=tf.float64) \n",
    "p5u = tf.Variable(backward_transformation(i5), name=\"5\", dtype=tf.float64) "
   ]
  },
  {
   "cell_type": "code",
   "execution_count": 22,
   "metadata": {},
   "outputs": [],
   "source": [
    "trainable_variables = [var for var in [p0u, p1u, p2u, p3u, p4u, p5u] if var.name.split(\":\")[0] in TRAINABLE]\n",
    "#optimizer = tf.train.AdamOptimizer(learning_rate=LR)\n",
    "optimizer = tf.keras.optimizers.Adam(learning_rate=LR)\n",
    "start = time.time()\n",
    "computation_time = 0.0\n",
    "results = []"
   ]
  },
  {
   "cell_type": "code",
   "execution_count": 23,
   "metadata": {},
   "outputs": [],
   "source": [
    "best_loss = float(\"inf\")\n",
    "best_hyperparameters = -1.0, -1.0, -1.0, -1.0, -1.0, -1.0\n",
    "best_E, best_V = -1.0, -1.0"
   ]
  },
  {
   "cell_type": "code",
   "execution_count": 24,
   "metadata": {
    "colab": {},
    "colab_type": "code",
    "id": "8KG3bvR1PTPP"
   },
   "outputs": [
    {
     "name": "stdout",
     "output_type": "stream",
     "text": [
      "[0.90][0.93] best:\tloss:113381537081.6\thyperparams: a=3.000 ap=3.000 bp=1.000 a=3.000 ap=3.000 bp=1.000 => E=505.857 V=722606.832\n",
      "[0.90][0.93] 0/10001,\tloss:113381537081.6\thyperparams: a=3.000 ap=3.000 bp=1.000 a=3.000 ap=3.000 bp=1.000\n",
      " empirical: E: 518.52 V: 337271.39\n",
      " theoretic: E: 506.11 V: 821952.10\n",
      " desired: E: 25.00 V: 550.00 (eval time=7.87)\n",
      "[1.45][9.36] best:\tloss:113381537081.6\thyperparams: a=3.000 ap=3.000 bp=1.000 a=3.000 ap=3.000 bp=1.000 => E=507.246 V=742773.403\n",
      "[1.45][9.36] 10/10001,\tloss:233385754675.7\thyperparams: a=2.893 ap=2.794 bp=1.066 a=2.911 ap=3.039 bp=1.066\n",
      " empirical: E: 418.69 V: 483649.99\n",
      " theoretic: E: 431.60 V: 658578.67\n",
      " desired: E: 25.00 V: 550.00 (eval time=7.79)\n",
      "[2.00][17.70] best:\tloss:16216780756.9\thyperparams: a=2.785 ap=2.885 bp=1.141 a=2.804 ap=3.132 bp=1.141 => E=336.324 V=316044.321\n",
      "[2.00][17.70] 20/10001,\tloss:18098391680.8\thyperparams: a=2.687 ap=2.968 bp=1.212 a=2.707 ap=3.218 bp=1.212\n",
      " empirical: E: 265.05 V: 135080.05\n",
      " theoretic: E: 270.57 V: 233563.91\n",
      " desired: E: 25.00 V: 550.00 (eval time=7.93)\n",
      "[2.47][26.09] best:\tloss:5591502079.8\thyperparams: a=2.610 ap=3.026 bp=1.270 a=2.630 ap=3.286 bp=1.270 => E=228.019 V=139421.016\n",
      "[2.47][26.09] 30/10001,\tloss:5591502079.8\thyperparams: a=2.610 ap=3.026 bp=1.270 a=2.630 ap=3.286 bp=1.270\n",
      " empirical: E: 242.15 V: 75326.03\n",
      " theoretic: E: 228.26 V: 125079.72\n",
      " desired: E: 25.00 V: 550.00 (eval time=7.86)\n",
      "[2.99][34.48] best:\tloss:3845034121.1\thyperparams: a=2.581 ap=3.049 bp=1.292 a=2.602 ap=3.312 bp=1.292 => E=214.828 V=134279.412\n",
      "[2.99][34.48] 40/10001,\tloss:8411158267.2\thyperparams: a=2.579 ap=3.051 bp=1.293 a=2.600 ap=3.314 bp=1.293\n",
      " empirical: E: 225.67 V: 92262.15\n",
      " theoretic: E: 213.59 V: 127645.32\n",
      " desired: E: 25.00 V: 550.00 (eval time=7.94)\n",
      "[3.86][43.29] best:\tloss:2647996852.3\thyperparams: a=2.573 ap=3.057 bp=1.298 a=2.594 ap=3.319 bp=1.298 => E=210.387 V=110519.881\n",
      "[3.86][43.29] 50/10001,\tloss:5099423680.0\thyperparams: a=2.567 ap=3.063 bp=1.303 a=2.588 ap=3.324 bp=1.303\n",
      " empirical: E: 201.66 V: 71960.03\n",
      " theoretic: E: 207.56 V: 104384.15\n",
      " desired: E: 25.00 V: 550.00 (eval time=7.81)\n",
      "[4.37][51.60] best:\tloss:2647996852.3\thyperparams: a=2.573 ap=3.057 bp=1.298 a=2.594 ap=3.319 bp=1.298 => E=210.775 V=122859.764\n",
      "[4.37][51.60] 60/10001,\tloss:11555398694.4\thyperparams: a=2.561 ap=3.069 bp=1.307 a=2.582 ap=3.329 bp=1.307\n",
      " empirical: E: 208.65 V: 108045.88\n",
      " theoretic: E: 205.02 V: 107320.73\n",
      " desired: E: 25.00 V: 550.00 (eval time=8.20)\n",
      "[4.88][60.31] best:\tloss:1849419976.0\thyperparams: a=2.561 ap=3.069 bp=1.307 a=2.582 ap=3.329 bp=1.307 => E=205.464 V=109379.517\n",
      "[4.88][60.31] 70/10001,\tloss:58896348387.8\thyperparams: a=2.559 ap=3.071 bp=1.309 a=2.580 ap=3.330 bp=1.309\n",
      " empirical: E: 201.89 V: 243235.63\n",
      " theoretic: E: 204.20 V: 105325.06\n",
      " desired: E: 25.00 V: 550.00 (eval time=7.95)\n",
      "[5.40][68.79] best:\tloss:1849419976.0\thyperparams: a=2.561 ap=3.069 bp=1.307 a=2.582 ap=3.329 bp=1.307 => E=205.110 V=104432.088\n",
      "[5.40][68.79] 80/10001,\tloss:42068644151.5\thyperparams: a=2.842 ap=2.738 bp=1.128 a=2.846 ap=3.308 bp=1.128\n",
      " empirical: E: 347.95 V: 205656.17\n",
      " theoretic: E: 359.12 V: 438131.59\n",
      " desired: E: 25.00 V: 550.00 (eval time=8.29)\n",
      "[5.98][77.66] best:\tloss:1849419976.0\thyperparams: a=2.561 ap=3.069 bp=1.307 a=2.582 ap=3.329 bp=1.307 => E=204.362 V=94995.154\n",
      "[5.98][77.66] 90/10001,\tloss:12183570016651.5\thyperparams: a=3.354 ap=2.229 bp=0.811 a=3.348 ap=3.017 bp=0.811\n",
      " empirical: E: 1035.89 V: 3491046.96\n",
      " theoretic: E: 1159.45 V: 13349554.90\n",
      " desired: E: 25.00 V: 550.00 (eval time=7.88)\n",
      "[6.46][86.01] best:\tloss:1849419976.0\thyperparams: a=2.561 ap=3.069 bp=1.307 a=2.582 ap=3.329 bp=1.307 => E=205.215 V=104686.491\n",
      "[6.46][86.01] 100/10001,\tloss:107220215314724.4\thyperparams: a=3.370 ap=2.184 bp=0.806 a=3.384 ap=3.010 bp=0.806\n",
      " empirical: E: 1142.35 V: 10355269.41\n",
      " theoretic: E: 1212.81 V: 12342261.44\n",
      " desired: E: 25.00 V: 550.00 (eval time=7.70)\n",
      "[10.94][98.20] best:\tloss:954359602.3\thyperparams: a=2.656 ap=2.866 bp=1.288 a=2.672 ap=3.740 bp=1.288 => E=224.639 V=127334.045\n",
      "[10.94][98.20] 200/10001,\tloss:20934979979.3\thyperparams: a=2.653 ap=2.868 bp=1.290 a=2.670 ap=3.742 bp=1.290\n",
      " empirical: E: 221.44 V: 145239.12\n",
      " theoretic: E: 223.52 V: 124765.31\n",
      " desired: E: 25.00 V: 550.00 (eval time=8.12)\n",
      "[16.40][111.80] best:\tloss:954359602.3\thyperparams: a=2.656 ap=2.866 bp=1.288 a=2.672 ap=3.740 bp=1.288 => E=224.104 V=120053.111\n",
      "[16.40][111.80] 300/10001,\tloss:4256842756.4\thyperparams: a=2.653 ap=2.868 bp=1.290 a=2.670 ap=3.742 bp=1.290\n",
      " empirical: E: 235.67 V: 65794.14\n",
      " theoretic: E: 222.78 V: 115363.53\n",
      " desired: E: 25.00 V: 550.00 (eval time=8.02)\n",
      "[21.14][124.57] best:\tloss:954359602.3\thyperparams: a=2.656 ap=2.866 bp=1.288 a=2.672 ap=3.740 bp=1.288 => E=223.960 V=121600.820\n",
      "[21.14][124.57] 400/10001,\tloss:3684337823.6\thyperparams: a=2.653 ap=2.868 bp=1.290 a=2.670 ap=3.742 bp=1.290\n",
      " empirical: E: 214.32 V: 61248.45\n",
      " theoretic: E: 222.46 V: 127083.28\n",
      " desired: E: 25.00 V: 550.00 (eval time=8.11)\n",
      "[26.59][138.15] best:\tloss:954359602.3\thyperparams: a=2.656 ap=2.866 bp=1.288 a=2.672 ap=3.740 bp=1.288 => E=223.860 V=119382.161\n",
      "[26.59][138.15] 500/10001,\tloss:10241661873.5\thyperparams: a=2.653 ap=2.868 bp=1.290 a=2.670 ap=3.742 bp=1.290\n",
      " empirical: E: 205.31 V: 101750.94\n",
      " theoretic: E: 222.87 V: 127954.29\n",
      " desired: E: 25.00 V: 550.00 (eval time=7.90)\n",
      "[31.43][150.90] best:\tloss:954359602.3\thyperparams: a=2.656 ap=2.866 bp=1.288 a=2.672 ap=3.740 bp=1.288 => E=224.519 V=117049.323\n",
      "[31.43][150.90] 600/10001,\tloss:16047422277.4\thyperparams: a=2.653 ap=2.868 bp=1.290 a=2.670 ap=3.742 bp=1.290\n",
      " empirical: E: 215.13 V: 127228.28\n",
      " theoretic: E: 222.96 V: 117706.68\n",
      " desired: E: 25.00 V: 550.00 (eval time=7.83)\n",
      "[35.92][163.23] best:\tloss:954359602.3\thyperparams: a=2.656 ap=2.866 bp=1.288 a=2.672 ap=3.740 bp=1.288 => E=223.910 V=121679.918\n",
      "[35.92][163.23] 700/10001,\tloss:37392929443.1\thyperparams: a=2.653 ap=2.868 bp=1.290 a=2.670 ap=3.742 bp=1.290\n",
      " empirical: E: 223.13 V: 193922.41\n",
      " theoretic: E: 223.68 V: 157225.83\n",
      " desired: E: 25.00 V: 550.00 (eval time=7.88)\n",
      "[41.67][176.89] best:\tloss:874933585.4\thyperparams: a=2.653 ap=2.868 bp=1.290 a=2.670 ap=3.742 bp=1.290 => E=223.338 V=113679.067\n",
      "[41.67][176.89] 800/10001,\tloss:7544507581.8\thyperparams: a=2.653 ap=2.868 bp=1.290 a=2.670 ap=3.742 bp=1.290\n",
      " empirical: E: 212.92 V: 87408.92\n",
      " theoretic: E: 223.24 V: 121713.44\n",
      " desired: E: 25.00 V: 550.00 (eval time=8.73)\n",
      "[46.59][190.56] best:\tloss:874933585.4\thyperparams: a=2.653 ap=2.868 bp=1.290 a=2.670 ap=3.742 bp=1.290 => E=222.780 V=112322.424\n",
      "[46.59][190.56] 900/10001,\tloss:5557404338.0\thyperparams: a=2.653 ap=2.868 bp=1.290 a=2.670 ap=3.742 bp=1.290\n",
      " empirical: E: 226.20 V: 75097.73\n",
      " theoretic: E: 222.79 V: 122269.72\n",
      " desired: E: 25.00 V: 550.00 (eval time=7.95)\n",
      "[50.90][202.82] best:\tloss:874933585.4\thyperparams: a=2.653 ap=2.868 bp=1.290 a=2.670 ap=3.742 bp=1.290 => E=223.583 V=128252.015\n",
      "[50.90][202.82] 1000/10001,\tloss:6703123955.8\thyperparams: a=2.653 ap=2.868 bp=1.290 a=2.670 ap=3.742 bp=1.290\n",
      " empirical: E: 207.41 V: 82422.40\n",
      " theoretic: E: 223.79 V: 130222.93\n",
      " desired: E: 25.00 V: 550.00 (eval time=7.82)\n",
      "[55.95][215.71] best:\tloss:874933585.4\thyperparams: a=2.653 ap=2.868 bp=1.290 a=2.670 ap=3.742 bp=1.290 => E=223.545 V=120612.733\n",
      "[55.95][215.71] 1100/10001,\tloss:6359862259.6\thyperparams: a=2.654 ap=2.868 bp=1.289 a=2.670 ap=3.742 bp=1.289\n",
      " empirical: E: 221.16 V: 80298.50\n",
      " theoretic: E: 223.14 V: 113863.71\n",
      " desired: E: 25.00 V: 550.00 (eval time=7.71)\n",
      "[61.20][228.69] best:\tloss:874933585.4\thyperparams: a=2.653 ap=2.868 bp=1.290 a=2.670 ap=3.742 bp=1.290 => E=223.294 V=116923.400\n",
      "[61.20][228.69] 1200/10001,\tloss:62748034915.1\thyperparams: a=2.653 ap=2.868 bp=1.290 a=2.670 ap=3.742 bp=1.290\n",
      " empirical: E: 207.18 V: 251045.51\n",
      " theoretic: E: 223.56 V: 128610.04\n",
      " desired: E: 25.00 V: 550.00 (eval time=7.95)\n",
      "[65.79][241.25] best:\tloss:874933585.4\thyperparams: a=2.653 ap=2.868 bp=1.290 a=2.670 ap=3.742 bp=1.290 => E=222.972 V=116527.331\n",
      "[65.79][241.25] 1300/10001,\tloss:16485482510.3\thyperparams: a=2.653 ap=2.868 bp=1.290 a=2.670 ap=3.742 bp=1.290\n",
      " empirical: E: 228.95 V: 128945.64\n",
      " theoretic: E: 222.94 V: 125581.68\n",
      " desired: E: 25.00 V: 550.00 (eval time=8.02)\n",
      "[71.56][255.05] best:\tloss:874933585.4\thyperparams: a=2.653 ap=2.868 bp=1.290 a=2.670 ap=3.742 bp=1.290 => E=223.420 V=120830.184\n",
      "[71.56][255.05] 1400/10001,\tloss:11226246157.2\thyperparams: a=2.653 ap=2.868 bp=1.290 a=2.670 ap=3.742 bp=1.290\n",
      " empirical: E: 236.99 V: 106503.77\n",
      " theoretic: E: 222.50 V: 112040.18\n",
      " desired: E: 25.00 V: 550.00 (eval time=8.36)\n"
     ]
    },
    {
     "name": "stdout",
     "output_type": "stream",
     "text": [
      "[76.75][268.61] best:\tloss:874933585.4\thyperparams: a=2.653 ap=2.868 bp=1.290 a=2.670 ap=3.742 bp=1.290 => E=223.094 V=130098.315\n",
      "[76.75][268.61] 1500/10001,\tloss:8272970126.3\thyperparams: a=2.653 ap=2.868 bp=1.290 a=2.670 ap=3.742 bp=1.290\n",
      " empirical: E: 211.46 V: 91505.68\n",
      " theoretic: E: 223.13 V: 120785.69\n",
      " desired: E: 25.00 V: 550.00 (eval time=8.04)\n",
      "[81.15][281.07] best:\tloss:434382318.8\thyperparams: a=2.653 ap=2.868 bp=1.290 a=2.670 ap=3.742 bp=1.290 => E=223.739 V=136505.122\n",
      "[81.15][281.07] 1600/10001,\tloss:9875010884.9\thyperparams: a=2.653 ap=2.869 bp=1.290 a=2.669 ap=3.742 bp=1.290\n",
      " empirical: E: 229.96 V: 99922.88\n",
      " theoretic: E: 223.21 V: 128978.99\n",
      " desired: E: 25.00 V: 550.00 (eval time=7.74)\n",
      "[85.64][293.31] best:\tloss:434382318.8\thyperparams: a=2.653 ap=2.868 bp=1.290 a=2.670 ap=3.742 bp=1.290 => E=223.176 V=175170.679\n",
      "[85.64][293.31] 1700/10001,\tloss:9963364125.1\thyperparams: a=2.668 ap=2.855 bp=1.283 a=2.683 ap=3.737 bp=1.283\n",
      " empirical: E: 244.99 V: 100366.41\n",
      " theoretic: E: 228.60 V: 123434.94\n",
      " desired: E: 25.00 V: 550.00 (eval time=7.64)\n",
      "[90.80][306.12] best:\tloss:434382318.8\thyperparams: a=2.653 ap=2.868 bp=1.290 a=2.670 ap=3.742 bp=1.290 => E=222.999 V=114447.904\n",
      "[90.80][306.12] 1800/10001,\tloss:5200342500.0\thyperparams: a=2.668 ap=2.855 bp=1.283 a=2.684 ap=3.737 bp=1.283\n",
      " empirical: E: 216.60 V: 72663.15\n",
      " theoretic: E: 229.06 V: 158879.08\n",
      " desired: E: 25.00 V: 550.00 (eval time=7.82)\n",
      "[95.25][318.41] best:\tloss:434382318.8\thyperparams: a=2.653 ap=2.868 bp=1.290 a=2.670 ap=3.742 bp=1.290 => E=223.197 V=122572.390\n",
      "[95.25][318.41] 1900/10001,\tloss:47931535770.7\thyperparams: a=2.669 ap=2.854 bp=1.282 a=2.684 ap=3.736 bp=1.282\n",
      " empirical: E: 231.95 V: 219482.62\n",
      " theoretic: E: 229.31 V: 138552.63\n",
      " desired: E: 25.00 V: 550.00 (eval time=7.92)\n",
      "[99.71][330.80] best:\tloss:434382318.8\thyperparams: a=2.653 ap=2.868 bp=1.290 a=2.670 ap=3.742 bp=1.290 => E=222.798 V=120885.758\n",
      "[99.71][330.80] 2000/10001,\tloss:2221325859.5\thyperparams: a=2.670 ap=2.854 bp=1.282 a=2.685 ap=3.735 bp=1.282\n",
      " empirical: E: 226.35 V: 47680.51\n",
      " theoretic: E: 229.25 V: 127016.90\n",
      " desired: E: 25.00 V: 550.00 (eval time=7.70)\n",
      "[104.49][343.30] best:\tloss:434382318.8\thyperparams: a=2.653 ap=2.868 bp=1.290 a=2.670 ap=3.742 bp=1.290 => E=222.991 V=117597.687\n",
      "[104.49][343.30] 2100/10001,\tloss:5478823588.0\thyperparams: a=2.670 ap=2.854 bp=1.282 a=2.685 ap=3.735 bp=1.282\n",
      " empirical: E: 226.31 V: 74568.80\n",
      " theoretic: E: 229.56 V: 123889.83\n",
      " desired: E: 25.00 V: 550.00 (eval time=7.78)\n",
      "[108.91][355.51] best:\tloss:434382318.8\thyperparams: a=2.653 ap=2.868 bp=1.290 a=2.670 ap=3.742 bp=1.290 => E=223.029 V=115958.658\n",
      "[108.91][355.51] 2200/10001,\tloss:7206938459.9\thyperparams: a=2.670 ap=2.854 bp=1.282 a=2.685 ap=3.735 bp=1.282\n",
      " empirical: E: 237.36 V: 85443.42\n",
      " theoretic: E: 229.69 V: 130734.20\n",
      " desired: E: 25.00 V: 550.00 (eval time=7.62)\n",
      "[113.65][367.88] best:\tloss:434382318.8\thyperparams: a=2.653 ap=2.868 bp=1.290 a=2.670 ap=3.742 bp=1.290 => E=223.289 V=115990.216\n",
      "[113.65][367.88] 2300/10001,\tloss:12707684389.8\thyperparams: a=2.669 ap=2.854 bp=1.282 a=2.685 ap=3.735 bp=1.282\n",
      " empirical: E: 222.66 V: 113278.19\n",
      " theoretic: E: 228.81 V: 141672.54\n",
      " desired: E: 25.00 V: 550.00 (eval time=8.02)\n",
      "[118.14][380.41] best:\tloss:434382318.8\thyperparams: a=2.653 ap=2.868 bp=1.290 a=2.670 ap=3.742 bp=1.290 => E=222.983 V=117559.690\n",
      "[118.14][380.41] 2400/10001,\tloss:17207349868.3\thyperparams: a=2.669 ap=2.854 bp=1.282 a=2.685 ap=3.735 bp=1.282\n",
      " empirical: E: 265.07 V: 131726.57\n",
      " theoretic: E: 229.45 V: 128511.59\n",
      " desired: E: 25.00 V: 550.00 (eval time=7.77)\n",
      "[122.66][392.71] best:\tloss:434382318.8\thyperparams: a=2.653 ap=2.868 bp=1.290 a=2.670 ap=3.742 bp=1.290 => E=223.476 V=120265.243\n",
      "[122.66][392.71] 2500/10001,\tloss:9211398144.1\thyperparams: a=2.669 ap=2.855 bp=1.282 a=2.685 ap=3.736 bp=1.282\n",
      " empirical: E: 243.99 V: 96525.78\n",
      " theoretic: E: 229.04 V: 133975.06\n",
      " desired: E: 25.00 V: 550.00 (eval time=7.86)\n",
      "[127.66][405.59] best:\tloss:434382318.8\thyperparams: a=2.653 ap=2.868 bp=1.290 a=2.670 ap=3.742 bp=1.290 => E=222.774 V=118380.479\n",
      "[127.66][405.59] 2600/10001,\tloss:18709284014.4\thyperparams: a=2.669 ap=2.855 bp=1.282 a=2.685 ap=3.736 bp=1.282\n",
      " empirical: E: 245.09 V: 137331.71\n",
      " theoretic: E: 228.40 V: 123040.18\n",
      " desired: E: 25.00 V: 550.00 (eval time=7.57)\n",
      "[132.19][417.70] best:\tloss:434382318.8\thyperparams: a=2.653 ap=2.868 bp=1.290 a=2.670 ap=3.742 bp=1.290 => E=223.173 V=133455.556\n",
      "[132.19][417.70] 2700/10001,\tloss:15996334853.7\thyperparams: a=2.657 ap=2.863 bp=1.288 a=2.673 ap=3.742 bp=1.288\n",
      " empirical: E: 239.80 V: 127026.44\n",
      " theoretic: E: 225.16 V: 151119.04\n",
      " desired: E: 25.00 V: 550.00 (eval time=7.96)\n",
      "[136.80][430.30] best:\tloss:434382318.8\thyperparams: a=2.653 ap=2.868 bp=1.290 a=2.670 ap=3.742 bp=1.290 => E=223.239 V=117156.453\n",
      "[136.80][430.30] 2800/10001,\tloss:5142704330.0\thyperparams: a=2.654 ap=2.865 bp=1.289 a=2.670 ap=3.744 bp=1.289\n",
      " empirical: E: 236.23 V: 72262.34\n",
      " theoretic: E: 224.06 V: 137207.47\n",
      " desired: E: 25.00 V: 550.00 (eval time=8.08)\n",
      "[141.28][442.86] best:\tloss:434382318.8\thyperparams: a=2.653 ap=2.868 bp=1.290 a=2.670 ap=3.742 bp=1.290 => E=222.750 V=114941.571\n",
      "[141.28][442.86] 2900/10001,\tloss:2993033140.2\thyperparams: a=2.655 ap=2.865 bp=1.289 a=2.671 ap=3.744 bp=1.289\n",
      " empirical: E: 246.83 V: 55258.17\n",
      " theoretic: E: 223.60 V: 119849.32\n",
      " desired: E: 25.00 V: 550.00 (eval time=7.81)\n",
      "[145.74][455.14] best:\tloss:434382318.8\thyperparams: a=2.653 ap=2.868 bp=1.290 a=2.670 ap=3.742 bp=1.290 => E=223.216 V=131756.976\n",
      "[145.74][455.14] 3000/10001,\tloss:27279006444.3\thyperparams: a=2.655 ap=2.865 bp=1.289 a=2.671 ap=3.744 bp=1.289\n",
      " empirical: E: 212.94 V: 165713.47\n",
      " theoretic: E: 223.48 V: 119469.94\n",
      " desired: E: 25.00 V: 550.00 (eval time=7.80)\n",
      "[150.61][467.83] best:\tloss:434382318.8\thyperparams: a=2.653 ap=2.868 bp=1.290 a=2.670 ap=3.742 bp=1.290 => E=222.860 V=130582.051\n",
      "[150.61][467.83] 3100/10001,\tloss:9924488106.1\thyperparams: a=2.655 ap=2.865 bp=1.289 a=2.671 ap=3.744 bp=1.289\n",
      " empirical: E: 224.08 V: 100171.53\n",
      " theoretic: E: 223.86 V: 123923.06\n",
      " desired: E: 25.00 V: 550.00 (eval time=8.76)\n",
      "[155.66][481.66] best:\tloss:434382318.8\thyperparams: a=2.653 ap=2.868 bp=1.290 a=2.670 ap=3.742 bp=1.290 => E=222.872 V=119591.224\n",
      "[155.66][481.66] 3200/10001,\tloss:5653365033.0\thyperparams: a=2.655 ap=2.865 bp=1.289 a=2.671 ap=3.744 bp=1.289\n",
      " empirical: E: 236.11 V: 75738.57\n",
      " theoretic: E: 223.47 V: 121839.38\n",
      " desired: E: 25.00 V: 550.00 (eval time=8.75)\n",
      "[161.38][496.14] best:\tloss:434382318.8\thyperparams: a=2.653 ap=2.868 bp=1.290 a=2.670 ap=3.742 bp=1.290 => E=223.070 V=125331.418\n",
      "[161.38][496.14] 3300/10001,\tloss:9704906897.0\thyperparams: a=2.654 ap=2.865 bp=1.289 a=2.671 ap=3.744 bp=1.289\n",
      " empirical: E: 207.25 V: 99063.32\n",
      " theoretic: E: 224.04 V: 224509.52\n",
      " desired: E: 25.00 V: 550.00 (eval time=7.96)\n",
      "[166.95][509.69] best:\tloss:434382318.8\thyperparams: a=2.653 ap=2.868 bp=1.290 a=2.670 ap=3.742 bp=1.290 => E=223.137 V=119811.935\n",
      "[166.95][509.69] 3400/10001,\tloss:28154563810.0\thyperparams: a=2.624 ap=2.889 bp=1.303 a=2.640 ap=3.757 bp=1.303\n",
      " empirical: E: 218.57 V: 168343.11\n",
      " theoretic: E: 212.69 V: 150471.95\n",
      " desired: E: 25.00 V: 550.00 (eval time=8.58)\n",
      "[172.11][523.45] best:\tloss:434382318.8\thyperparams: a=2.653 ap=2.868 bp=1.290 a=2.670 ap=3.742 bp=1.290 => E=222.663 V=120065.172\n",
      "[172.11][523.45] 3500/10001,\tloss:4764263901.1\thyperparams: a=2.623 ap=2.890 bp=1.304 a=2.638 ap=3.757 bp=1.304\n",
      " empirical: E: 223.70 V: 69573.36\n",
      " theoretic: E: 211.60 V: 108028.36\n",
      " desired: E: 25.00 V: 550.00 (eval time=8.32)\n",
      "[177.53][537.21] best:\tloss:434382318.8\thyperparams: a=2.653 ap=2.868 bp=1.290 a=2.670 ap=3.742 bp=1.290 => E=222.908 V=128581.195\n",
      "[177.53][537.21] 3600/10001,\tloss:4794234657.0\thyperparams: a=2.623 ap=2.890 bp=1.304 a=2.638 ap=3.757 bp=1.304\n",
      " empirical: E: 204.42 V: 69790.18\n",
      " theoretic: E: 212.68 V: 161429.25\n",
      " desired: E: 25.00 V: 550.00 (eval time=8.52)\n",
      "[184.64][552.85] best:\tloss:434382318.8\thyperparams: a=2.653 ap=2.868 bp=1.290 a=2.670 ap=3.742 bp=1.290 => E=222.927 V=125141.510\n",
      "[184.64][552.85] 3700/10001,\tloss:44461229597.9\thyperparams: a=2.613 ap=2.900 bp=1.309 a=2.630 ap=3.759 bp=1.309\n",
      " empirical: E: 240.12 V: 211408.21\n",
      " theoretic: E: 208.84 V: 101411.39\n",
      " desired: E: 25.00 V: 550.00 (eval time=9.12)\n"
     ]
    },
    {
     "name": "stdout",
     "output_type": "stream",
     "text": [
      "[190.35][567.70] best:\tloss:434382318.8\thyperparams: a=2.653 ap=2.868 bp=1.290 a=2.670 ap=3.742 bp=1.290 => E=223.223 V=132577.130\n",
      "[190.35][567.70] 3800/10001,\tloss:6955182661.5\thyperparams: a=2.612 ap=2.901 bp=1.309 a=2.629 ap=3.759 bp=1.309\n",
      " empirical: E: 202.44 V: 83947.55\n",
      " theoretic: E: 208.06 V: 102616.15\n",
      " desired: E: 25.00 V: 550.00 (eval time=8.29)\n",
      "[195.44][581.09] best:\tloss:434382318.8\thyperparams: a=2.653 ap=2.868 bp=1.290 a=2.670 ap=3.742 bp=1.290 => E=223.083 V=115976.933\n",
      "[195.44][581.09] 3900/10001,\tloss:4012614428.9\thyperparams: a=2.612 ap=2.901 bp=1.309 a=2.629 ap=3.758 bp=1.309\n",
      " empirical: E: 190.83 V: 63894.98\n",
      " theoretic: E: 208.15 V: 104750.53\n",
      " desired: E: 25.00 V: 550.00 (eval time=8.76)\n",
      "[200.61][595.03] best:\tloss:434382318.8\thyperparams: a=2.653 ap=2.868 bp=1.290 a=2.670 ap=3.742 bp=1.290 => E=223.130 V=116239.083\n",
      "[200.61][595.03] 4000/10001,\tloss:2113313902.3\thyperparams: a=2.607 ap=2.905 bp=1.312 a=2.625 ap=3.760 bp=1.312\n",
      " empirical: E: 193.84 V: 46520.48\n",
      " theoretic: E: 206.92 V: 97228.23\n",
      " desired: E: 25.00 V: 550.00 (eval time=8.21)\n",
      "[205.60][608.25] best:\tloss:434382318.8\thyperparams: a=2.653 ap=2.868 bp=1.290 a=2.670 ap=3.742 bp=1.290 => E=223.112 V=125547.183\n",
      "[205.60][608.25] 4100/10001,\tloss:3269874847.9\thyperparams: a=2.607 ap=2.905 bp=1.312 a=2.625 ap=3.760 bp=1.312\n",
      " empirical: E: 207.56 V: 57732.53\n",
      " theoretic: E: 206.20 V: 96991.52\n",
      " desired: E: 25.00 V: 550.00 (eval time=8.57)\n",
      "[211.18][622.41] best:\tloss:434382318.8\thyperparams: a=2.653 ap=2.868 bp=1.290 a=2.670 ap=3.742 bp=1.290 => E=223.572 V=128527.792\n",
      "[211.18][622.41] 4200/10001,\tloss:4417234673.8\thyperparams: a=2.607 ap=2.905 bp=1.312 a=2.625 ap=3.760 bp=1.312\n",
      " empirical: E: 203.58 V: 67012.04\n",
      " theoretic: E: 206.06 V: 97335.38\n",
      " desired: E: 25.00 V: 550.00 (eval time=8.49)\n",
      "[216.45][636.20] best:\tloss:434382318.8\thyperparams: a=2.653 ap=2.868 bp=1.290 a=2.670 ap=3.742 bp=1.290 => E=223.261 V=132230.410\n",
      "[216.45][636.20] 4300/10001,\tloss:5836110953.9\thyperparams: a=2.607 ap=2.905 bp=1.312 a=2.625 ap=3.760 bp=1.312\n",
      " empirical: E: 197.03 V: 76944.25\n",
      " theoretic: E: 206.75 V: 99173.51\n",
      " desired: E: 25.00 V: 550.00 (eval time=8.33)\n",
      "[221.41][649.50] best:\tloss:434382318.8\thyperparams: a=2.653 ap=2.868 bp=1.290 a=2.670 ap=3.742 bp=1.290 => E=222.682 V=114708.125\n",
      "[221.41][649.50] 4400/10001,\tloss:7238202580.7\thyperparams: a=2.607 ap=2.905 bp=1.312 a=2.625 ap=3.760 bp=1.312\n",
      " empirical: E: 205.27 V: 85627.44\n",
      " theoretic: E: 206.41 V: 100370.03\n",
      " desired: E: 25.00 V: 550.00 (eval time=8.38)\n",
      "[226.91][663.39] best:\tloss:434382318.8\thyperparams: a=2.653 ap=2.868 bp=1.290 a=2.670 ap=3.742 bp=1.290 => E=223.070 V=121401.573\n",
      "[226.91][663.39] 4500/10001,\tloss:2376833221.5\thyperparams: a=2.607 ap=2.905 bp=1.312 a=2.625 ap=3.760 bp=1.312\n",
      " empirical: E: 207.67 V: 49302.43\n",
      " theoretic: E: 206.85 V: 97539.08\n",
      " desired: E: 25.00 V: 550.00 (eval time=8.26)\n",
      "[233.08][677.83] best:\tloss:434382318.8\thyperparams: a=2.653 ap=2.868 bp=1.290 a=2.670 ap=3.742 bp=1.290 => E=223.328 V=141573.308\n",
      "[233.08][677.83] 4600/10001,\tloss:5382792765.9\thyperparams: a=2.608 ap=2.905 bp=1.312 a=2.625 ap=3.760 bp=1.312\n",
      " empirical: E: 213.13 V: 73917.28\n",
      " theoretic: E: 206.56 V: 93356.92\n",
      " desired: E: 25.00 V: 550.00 (eval time=8.71)\n",
      "[238.40][691.88] best:\tloss:434382318.8\thyperparams: a=2.653 ap=2.868 bp=1.290 a=2.670 ap=3.742 bp=1.290 => E=222.624 V=123186.236\n",
      "[238.40][691.88] 4700/10001,\tloss:4176700033.0\thyperparams: a=2.607 ap=2.905 bp=1.312 a=2.625 ap=3.760 bp=1.312\n",
      " empirical: E: 213.95 V: 65177.12\n",
      " theoretic: E: 206.56 V: 102852.93\n",
      " desired: E: 25.00 V: 550.00 (eval time=8.36)\n",
      "[243.66][705.52] best:\tloss:434382318.8\thyperparams: a=2.653 ap=2.868 bp=1.290 a=2.670 ap=3.742 bp=1.290 => E=223.554 V=134745.724\n",
      "[243.66][705.52] 4800/10001,\tloss:5821165552.4\thyperparams: a=2.607 ap=2.905 bp=1.312 a=2.625 ap=3.760 bp=1.312\n",
      " empirical: E: 210.02 V: 76846.34\n",
      " theoretic: E: 206.60 V: 100172.63\n",
      " desired: E: 25.00 V: 550.00 (eval time=8.21)\n",
      "[248.15][718.23] best:\tloss:434382318.8\thyperparams: a=2.653 ap=2.868 bp=1.290 a=2.670 ap=3.742 bp=1.290 => E=223.115 V=119514.954\n",
      "[248.15][718.23] 4900/10001,\tloss:2668376417.1\thyperparams: a=2.607 ap=2.905 bp=1.312 a=2.625 ap=3.760 bp=1.312\n",
      " empirical: E: 217.09 V: 52205.97\n",
      " theoretic: E: 206.03 V: 97689.02\n",
      " desired: E: 25.00 V: 550.00 (eval time=8.36)\n",
      "[252.99][731.45] best:\tloss:434382318.8\thyperparams: a=2.653 ap=2.868 bp=1.290 a=2.670 ap=3.742 bp=1.290 => E=223.068 V=115090.553\n",
      "[252.99][731.45] 5000/10001,\tloss:6026851454.5\thyperparams: a=2.607 ap=2.905 bp=1.312 a=2.625 ap=3.760 bp=1.312\n",
      " empirical: E: 200.37 V: 78182.60\n",
      " theoretic: E: 206.82 V: 103330.64\n",
      " desired: E: 25.00 V: 550.00 (eval time=7.86)\n",
      "[258.20][744.54] best:\tloss:434382318.8\thyperparams: a=2.653 ap=2.868 bp=1.290 a=2.670 ap=3.742 bp=1.290 => E=223.765 V=128490.446\n",
      "[258.20][744.54] 5100/10001,\tloss:6094231208.3\thyperparams: a=2.612 ap=2.900 bp=1.309 a=2.631 ap=3.758 bp=1.309\n",
      " empirical: E: 207.61 V: 78615.34\n",
      " theoretic: E: 208.86 V: 102384.65\n",
      " desired: E: 25.00 V: 550.00 (eval time=8.19)\n",
      "[262.84][757.38] best:\tloss:434382318.8\thyperparams: a=2.653 ap=2.868 bp=1.290 a=2.670 ap=3.742 bp=1.290 => E=223.247 V=123758.011\n",
      "[262.84][757.38] 5200/10001,\tloss:24466297478.5\thyperparams: a=2.613 ap=2.900 bp=1.309 a=2.631 ap=3.758 bp=1.309\n",
      " empirical: E: 228.70 V: 156966.93\n",
      " theoretic: E: 208.75 V: 99836.93\n",
      " desired: E: 25.00 V: 550.00 (eval time=8.04)\n",
      "[267.42][770.01] best:\tloss:434382318.8\thyperparams: a=2.653 ap=2.868 bp=1.290 a=2.670 ap=3.742 bp=1.290 => E=222.977 V=116943.870\n",
      "[267.42][770.01] 5300/10001,\tloss:11131765936.0\thyperparams: a=2.613 ap=2.900 bp=1.309 a=2.631 ap=3.758 bp=1.309\n",
      " empirical: E: 201.91 V: 106057.04\n",
      " theoretic: E: 208.27 V: 106177.73\n",
      " desired: E: 25.00 V: 550.00 (eval time=7.84)\n",
      "[271.95][782.40] best:\tloss:434382318.8\thyperparams: a=2.653 ap=2.868 bp=1.290 a=2.670 ap=3.742 bp=1.290 => E=223.039 V=117613.823\n",
      "[271.95][782.40] 5400/10001,\tloss:3064062042.5\thyperparams: a=2.613 ap=2.900 bp=1.309 a=2.631 ap=3.758 bp=1.309\n",
      " empirical: E: 194.65 V: 55903.71\n",
      " theoretic: E: 208.65 V: 107552.84\n",
      " desired: E: 25.00 V: 550.00 (eval time=7.66)\n",
      "[276.38][794.50] best:\tloss:434382318.8\thyperparams: a=2.653 ap=2.868 bp=1.290 a=2.670 ap=3.742 bp=1.290 => E=222.838 V=122325.069\n",
      "[276.38][794.50] 5500/10001,\tloss:4346343367.9\thyperparams: a=2.613 ap=2.900 bp=1.309 a=2.632 ap=3.758 bp=1.309\n",
      " empirical: E: 200.61 V: 66476.57\n",
      " theoretic: E: 208.57 V: 100386.59\n",
      " desired: E: 25.00 V: 550.00 (eval time=7.82)\n",
      "[280.97][806.93] best:\tloss:434382318.8\thyperparams: a=2.653 ap=2.868 bp=1.290 a=2.670 ap=3.742 bp=1.290 => E=222.823 V=120172.070\n",
      "[280.97][806.93] 5600/10001,\tloss:46114813957.5\thyperparams: a=2.613 ap=2.899 bp=1.309 a=2.632 ap=3.758 bp=1.309\n",
      " empirical: E: 195.07 V: 215293.53\n",
      " theoretic: E: 209.13 V: 108427.87\n",
      " desired: E: 25.00 V: 550.00 (eval time=8.10)\n",
      "[285.44][819.52] best:\tloss:434382318.8\thyperparams: a=2.653 ap=2.868 bp=1.290 a=2.670 ap=3.742 bp=1.290 => E=223.375 V=119158.688\n",
      "[285.44][819.52] 5700/10001,\tloss:3275922702.2\thyperparams: a=2.614 ap=2.899 bp=1.309 a=2.632 ap=3.757 bp=1.309\n",
      " empirical: E: 204.69 V: 57785.39\n",
      " theoretic: E: 208.96 V: 101552.35\n",
      " desired: E: 25.00 V: 550.00 (eval time=7.63)\n",
      "[289.91][831.63] best:\tloss:434382318.8\thyperparams: a=2.653 ap=2.868 bp=1.290 a=2.670 ap=3.742 bp=1.290 => E=223.205 V=120687.711\n",
      "[289.91][831.63] 5800/10001,\tloss:7357513809.7\thyperparams: a=2.614 ap=2.899 bp=1.309 a=2.632 ap=3.757 bp=1.309\n",
      " empirical: E: 208.37 V: 86325.76\n",
      " theoretic: E: 209.00 V: 97595.40\n",
      " desired: E: 25.00 V: 550.00 (eval time=7.68)\n",
      "[294.29][843.70] best:\tloss:434382318.8\thyperparams: a=2.653 ap=2.868 bp=1.290 a=2.670 ap=3.742 bp=1.290 => E=222.545 V=117037.685\n",
      "[294.29][843.70] 5900/10001,\tloss:12135095499.4\thyperparams: a=2.614 ap=2.899 bp=1.308 a=2.633 ap=3.757 bp=1.308\n",
      " empirical: E: 197.34 V: 110709.27\n",
      " theoretic: E: 209.23 V: 115602.23\n",
      " desired: E: 25.00 V: 550.00 (eval time=7.70)\n",
      "[298.59][855.72] best:\tloss:434382318.8\thyperparams: a=2.653 ap=2.868 bp=1.290 a=2.670 ap=3.742 bp=1.290 => E=222.788 V=116601.068\n",
      "[298.59][855.72] 6000/10001,\tloss:42512581326.1\thyperparams: a=2.614 ap=2.899 bp=1.308 a=2.633 ap=3.757 bp=1.308\n",
      " empirical: E: 221.05 V: 206735.70\n",
      " theoretic: E: 208.85 V: 100508.35\n",
      " desired: E: 25.00 V: 550.00 (eval time=7.61)\n"
     ]
    },
    {
     "name": "stdout",
     "output_type": "stream",
     "text": [
      "[302.96][867.71] best:\tloss:434382318.8\thyperparams: a=2.653 ap=2.868 bp=1.290 a=2.670 ap=3.742 bp=1.290 => E=223.422 V=122264.031\n",
      "[302.96][867.71] 6100/10001,\tloss:7029912373.1\thyperparams: a=2.614 ap=2.899 bp=1.308 a=2.633 ap=3.757 bp=1.308\n",
      " empirical: E: 197.51 V: 84394.40\n",
      " theoretic: E: 208.92 V: 100502.78\n",
      " desired: E: 25.00 V: 550.00 (eval time=7.71)\n",
      "[307.53][880.00] best:\tloss:434382318.8\thyperparams: a=2.653 ap=2.868 bp=1.290 a=2.670 ap=3.742 bp=1.290 => E=223.214 V=130104.265\n",
      "[307.53][880.00] 6200/10001,\tloss:902711466554.8\thyperparams: a=3.142 ap=2.557 bp=1.060 a=3.172 ap=3.331 bp=1.060\n",
      " empirical: E: 566.89 V: 950661.14\n",
      " theoretic: E: 520.13 V: 1002128.06\n",
      " desired: E: 25.00 V: 550.00 (eval time=7.55)\n",
      "[312.00][892.04] best:\tloss:434382318.8\thyperparams: a=2.653 ap=2.868 bp=1.290 a=2.670 ap=3.742 bp=1.290 => E=222.880 V=115816.367\n",
      "[312.00][892.04] 6300/10001,\tloss:1068132028677.2\thyperparams: a=3.117 ap=2.539 bp=1.084 a=3.147 ap=3.417 bp=1.084\n",
      " empirical: E: 453.65 V: 1034054.64\n",
      " theoretic: E: 487.25 V: 1041281.73\n",
      " desired: E: 25.00 V: 550.00 (eval time=7.71)\n",
      "[316.23][903.99] best:\tloss:434382318.8\thyperparams: a=2.653 ap=2.868 bp=1.290 a=2.670 ap=3.742 bp=1.290 => E=223.238 V=117531.250\n",
      "[316.23][903.99] 6400/10001,\tloss:5217843864593.9\thyperparams: a=3.011 ap=2.580 bp=1.139 a=3.061 ap=3.538 bp=1.139\n",
      " empirical: E: 392.57 V: 2284810.00\n",
      " theoretic: E: 404.37 V: 528440.99\n",
      " desired: E: 25.00 V: 550.00 (eval time=7.52)\n",
      "[320.56][915.85] best:\tloss:434382318.8\thyperparams: a=2.653 ap=2.868 bp=1.290 a=2.670 ap=3.742 bp=1.290 => E=222.682 V=112224.787\n",
      "[320.56][915.85] 6500/10001,\tloss:604473157775.8\thyperparams: a=3.016 ap=2.558 bp=1.136 a=3.065 ap=3.563 bp=1.136\n",
      " empirical: E: 416.38 V: 778028.62\n",
      " theoretic: E: 408.61 V: 502035.10\n",
      " desired: E: 25.00 V: 550.00 (eval time=7.56)\n",
      "[324.93][927.79] best:\tloss:434382318.8\thyperparams: a=2.653 ap=2.868 bp=1.290 a=2.670 ap=3.742 bp=1.290 => E=222.995 V=121184.871\n",
      "[324.93][927.79] 6600/10001,\tloss:31164124377.0\thyperparams: a=2.939 ap=2.645 bp=1.183 a=2.986 ap=3.585 bp=1.183\n",
      " empirical: E: 329.43 V: 177083.37\n",
      " theoretic: E: 348.58 V: 361018.90\n",
      " desired: E: 25.00 V: 550.00 (eval time=7.56)\n",
      "[329.88][940.32] best:\tloss:434382318.8\thyperparams: a=2.653 ap=2.868 bp=1.290 a=2.670 ap=3.742 bp=1.290 => E=223.007 V=111871.925\n",
      "[329.88][940.32] 6700/10001,\tloss:731888164916.2\thyperparams: a=2.916 ap=2.662 bp=1.195 a=2.963 ap=3.596 bp=1.195\n",
      " empirical: E: 352.16 V: 856054.56\n",
      " theoretic: E: 334.62 V: 324284.52\n",
      " desired: E: 25.00 V: 550.00 (eval time=8.92)\n",
      "[334.64][954.01] best:\tloss:434382318.8\thyperparams: a=2.653 ap=2.868 bp=1.290 a=2.670 ap=3.742 bp=1.290 => E=223.162 V=119295.119\n",
      "[334.64][954.01] 6800/10001,\tloss:45860403665.7\thyperparams: a=2.928 ap=2.652 bp=1.188 a=2.974 ap=3.592 bp=1.188\n",
      " empirical: E: 346.29 V: 214700.18\n",
      " theoretic: E: 342.80 V: 388358.88\n",
      " desired: E: 25.00 V: 550.00 (eval time=8.10)\n",
      "[340.30][967.78] best:\tloss:434382318.8\thyperparams: a=2.653 ap=2.868 bp=1.290 a=2.670 ap=3.742 bp=1.290 => E=223.234 V=117362.034\n",
      "[340.30][967.78] 6900/10001,\tloss:20210157246.6\thyperparams: a=2.903 ap=2.682 bp=1.201 a=2.953 ap=3.590 bp=1.201\n",
      " empirical: E: 356.59 V: 142712.05\n",
      " theoretic: E: 328.06 V: 320844.00\n",
      " desired: E: 25.00 V: 550.00 (eval time=10.00)\n",
      "[345.59][983.09] best:\tloss:434382318.8\thyperparams: a=2.653 ap=2.868 bp=1.290 a=2.670 ap=3.742 bp=1.290 => E=222.866 V=121106.884\n",
      "[345.59][983.09] 7000/10001,\tloss:56246301434.3\thyperparams: a=2.898 ap=2.689 bp=1.204 a=2.947 ap=3.587 bp=1.204\n",
      " empirical: E: 358.92 V: 237712.79\n",
      " theoretic: E: 325.29 V: 306929.11\n",
      " desired: E: 25.00 V: 550.00 (eval time=8.33)\n",
      "[351.13][996.98] best:\tloss:434382318.8\thyperparams: a=2.653 ap=2.868 bp=1.290 a=2.670 ap=3.742 bp=1.290 => E=222.733 V=116504.003\n",
      "[351.13][996.98] 7100/10001,\tloss:43671787356.5\thyperparams: a=2.872 ap=2.690 bp=1.218 a=2.920 ap=3.639 bp=1.218\n",
      " empirical: E: 312.78 V: 209527.76\n",
      " theoretic: E: 309.20 V: 251834.24\n",
      " desired: E: 25.00 V: 550.00 (eval time=8.80)\n",
      "[356.89][1011.56] best:\tloss:434382318.8\thyperparams: a=2.653 ap=2.868 bp=1.290 a=2.670 ap=3.742 bp=1.290 => E=223.341 V=150274.331\n",
      "[356.89][1011.56] 7200/10001,\tloss:62701734188.6\thyperparams: a=2.832 ap=2.730 bp=1.237 a=2.886 ap=3.646 bp=1.237\n",
      " empirical: E: 310.04 V: 250952.98\n",
      " theoretic: E: 290.72 V: 238403.13\n",
      " desired: E: 25.00 V: 550.00 (eval time=8.21)\n",
      "[361.69][1024.58] best:\tloss:434382318.8\thyperparams: a=2.653 ap=2.868 bp=1.290 a=2.670 ap=3.742 bp=1.290 => E=223.457 V=151198.968\n",
      "[361.69][1024.58] 7300/10001,\tloss:42766201056.5\thyperparams: a=2.827 ap=2.733 bp=1.240 a=2.881 ap=3.649 bp=1.240\n",
      " empirical: E: 278.42 V: 207349.75\n",
      " theoretic: E: 287.87 V: 218260.73\n",
      " desired: E: 25.00 V: 550.00 (eval time=8.05)\n",
      "[366.59][1037.55] best:\tloss:434382318.8\thyperparams: a=2.653 ap=2.868 bp=1.290 a=2.670 ap=3.742 bp=1.290 => E=222.832 V=119139.839\n",
      "[366.59][1037.55] 7400/10001,\tloss:610136040883.7\thyperparams: a=2.849 ap=2.721 bp=1.229 a=2.904 ap=3.630 bp=1.229\n",
      " empirical: E: 288.35 V: 781662.01\n",
      " theoretic: E: 299.49 V: 256998.61\n",
      " desired: E: 25.00 V: 550.00 (eval time=7.85)\n",
      "[370.96][1049.79] best:\tloss:434382318.8\thyperparams: a=2.653 ap=2.868 bp=1.290 a=2.670 ap=3.742 bp=1.290 => E=222.641 V=125816.371\n",
      "[370.96][1049.79] 7500/10001,\tloss:124190249029.4\thyperparams: a=2.854 ap=2.713 bp=1.226 a=2.908 ap=3.635 bp=1.226\n",
      " empirical: E: 290.95 V: 352956.27\n",
      " theoretic: E: 301.24 V: 244947.30\n",
      " desired: E: 25.00 V: 550.00 (eval time=7.59)\n",
      "[375.38][1061.81] best:\tloss:434382318.8\thyperparams: a=2.653 ap=2.868 bp=1.290 a=2.670 ap=3.742 bp=1.290 => E=223.825 V=128673.667\n",
      "[375.38][1061.81] 7600/10001,\tloss:14446092428.9\thyperparams: a=2.852 ap=2.715 bp=1.227 a=2.907 ap=3.635 bp=1.227\n",
      " empirical: E: 291.64 V: 120741.60\n",
      " theoretic: E: 300.13 V: 259980.92\n",
      " desired: E: 25.00 V: 550.00 (eval time=7.63)\n",
      "[380.45][1074.52] best:\tloss:434382318.8\thyperparams: a=2.653 ap=2.868 bp=1.290 a=2.670 ap=3.742 bp=1.290 => E=222.909 V=117947.000\n",
      "[380.45][1074.52] 7700/10001,\tloss:27924097851.9\thyperparams: a=2.851 ap=2.715 bp=1.227 a=2.906 ap=3.635 bp=1.227\n",
      " empirical: E: 339.97 V: 167654.75\n",
      " theoretic: E: 300.13 V: 241404.25\n",
      " desired: E: 25.00 V: 550.00 (eval time=7.85)\n",
      "[384.80][1086.73] best:\tloss:434382318.8\thyperparams: a=2.653 ap=2.868 bp=1.290 a=2.670 ap=3.742 bp=1.290 => E=222.708 V=127563.810\n",
      "[384.80][1086.73] 7800/10001,\tloss:8630726357.1\thyperparams: a=2.858 ap=2.711 bp=1.224 a=2.912 ap=3.629 bp=1.224\n",
      " empirical: E: 294.75 V: 93451.31\n",
      " theoretic: E: 302.53 V: 248324.86\n",
      " desired: E: 25.00 V: 550.00 (eval time=7.78)\n",
      "[389.41][1099.14] best:\tloss:434382318.8\thyperparams: a=2.653 ap=2.868 bp=1.290 a=2.670 ap=3.742 bp=1.290 => E=222.851 V=114365.870\n",
      "[389.41][1099.14] 7900/10001,\tloss:59288167808.0\thyperparams: a=2.870 ap=2.699 bp=1.217 a=2.923 ap=3.623 bp=1.217\n",
      " empirical: E: 338.99 V: 244041.42\n",
      " theoretic: E: 311.34 V: 268824.38\n",
      " desired: E: 25.00 V: 550.00 (eval time=8.84)\n",
      "[394.84][1113.43] best:\tloss:434382318.8\thyperparams: a=2.653 ap=2.868 bp=1.290 a=2.670 ap=3.742 bp=1.290 => E=223.276 V=146432.345\n",
      "[394.84][1113.43] 8000/10001,\tloss:39666249911.5\thyperparams: a=2.883 ap=2.682 bp=1.207 a=2.936 ap=3.618 bp=1.207\n",
      " empirical: E: 345.67 V: 199713.62\n",
      " theoretic: E: 319.26 V: 286840.23\n",
      " desired: E: 25.00 V: 550.00 (eval time=7.68)\n",
      "[399.13][1125.42] best:\tloss:8558931.2\thyperparams: a=2.253 ap=3.051 bp=1.859 a=2.206 ap=4.768 bp=1.859 => E=67.890 V=8590.767\n",
      "[399.13][1125.42] 8100/10001,\tloss:58987900.8\thyperparams: a=2.188 ap=3.093 bp=1.921 a=2.140 ap=4.858 bp=1.921\n",
      " empirical: E: 57.05 V: 8230.29\n",
      " theoretic: E: 59.03 V: 5880.55\n",
      " desired: E: 25.00 V: 550.00 (eval time=7.80)\n",
      "[405.21][1139.31] best:\tloss:46.4\thyperparams: a=1.646 ap=3.460 bp=2.479 a=1.591 ap=5.640 bp=2.479 => E=18.198 V=450.902\n",
      "[405.21][1139.31] 8200/10001,\tloss:6582.0\thyperparams: a=1.623 ap=3.476 bp=2.505 a=1.568 ap=5.675 bp=2.505\n",
      " empirical: E: 17.26 V: 469.24\n",
      " theoretic: E: 17.30 V: 393.19\n",
      " desired: E: 25.00 V: 550.00 (eval time=8.54)\n",
      "[410.49][1153.15] best:\tloss:46.4\thyperparams: a=1.646 ap=3.460 bp=2.479 a=1.591 ap=5.640 bp=2.479 => E=18.206 V=447.335\n",
      "[410.49][1153.15] 8300/10001,\tloss:59404.8\thyperparams: a=1.623 ap=3.476 bp=2.505 a=1.567 ap=5.675 bp=2.505\n",
      " empirical: E: 16.80 V: 306.41\n",
      " theoretic: E: 17.26 V: 395.93\n",
      " desired: E: 25.00 V: 550.00 (eval time=7.75)\n"
     ]
    },
    {
     "name": "stdout",
     "output_type": "stream",
     "text": [
      "[414.87][1165.29] best:\tloss:46.4\thyperparams: a=1.646 ap=3.460 bp=2.479 a=1.591 ap=5.640 bp=2.479 => E=18.232 V=449.499\n",
      "[414.87][1165.29] 8400/10001,\tloss:25434.2\thyperparams: a=1.623 ap=3.476 bp=2.505 a=1.567 ap=5.675 bp=2.505\n",
      " empirical: E: 17.33 V: 390.70\n",
      " theoretic: E: 17.26 V: 415.77\n",
      " desired: E: 25.00 V: 550.00 (eval time=7.80)\n",
      "[419.35][1177.59] best:\tloss:46.4\thyperparams: a=1.646 ap=3.460 bp=2.479 a=1.591 ap=5.640 bp=2.479 => E=18.207 V=453.221\n",
      "[419.35][1177.59] 8500/10001,\tloss:47632.3\thyperparams: a=1.623 ap=3.476 bp=2.505 a=1.567 ap=5.675 bp=2.505\n",
      " empirical: E: 17.03 V: 331.90\n",
      " theoretic: E: 17.22 V: 388.35\n",
      " desired: E: 25.00 V: 550.00 (eval time=7.78)\n",
      "[423.96][1189.98] best:\tloss:46.4\thyperparams: a=1.646 ap=3.460 bp=2.479 a=1.591 ap=5.640 bp=2.479 => E=18.186 V=436.109\n",
      "[423.96][1189.98] 8600/10001,\tloss:48512.7\thyperparams: a=1.623 ap=3.476 bp=2.505 a=1.567 ap=5.675 bp=2.505\n",
      " empirical: E: 17.26 V: 329.88\n",
      " theoretic: E: 17.28 V: 392.07\n",
      " desired: E: 25.00 V: 550.00 (eval time=7.80)\n",
      "[428.91][1202.74] best:\tloss:46.4\thyperparams: a=1.646 ap=3.460 bp=2.479 a=1.591 ap=5.640 bp=2.479 => E=18.172 V=426.220\n",
      "[428.91][1202.74] 8700/10001,\tloss:30411.0\thyperparams: a=1.623 ap=3.476 bp=2.505 a=1.567 ap=5.675 bp=2.505\n",
      " empirical: E: 17.40 V: 375.78\n",
      " theoretic: E: 17.29 V: 404.68\n",
      " desired: E: 25.00 V: 550.00 (eval time=7.91)\n",
      "[433.79][1215.54] best:\tloss:46.4\thyperparams: a=1.646 ap=3.460 bp=2.479 a=1.591 ap=5.640 bp=2.479 => E=18.176 V=427.475\n",
      "[433.79][1215.54] 8800/10001,\tloss:60177.4\thyperparams: a=1.623 ap=3.476 bp=2.505 a=1.567 ap=5.675 bp=2.505\n",
      " empirical: E: 17.43 V: 304.81\n",
      " theoretic: E: 17.28 V: 402.25\n",
      " desired: E: 25.00 V: 550.00 (eval time=8.61)\n",
      "[438.80][1229.18] best:\tloss:46.4\thyperparams: a=1.646 ap=3.460 bp=2.479 a=1.591 ap=5.640 bp=2.479 => E=18.203 V=467.800\n",
      "[438.80][1229.18] 8900/10001,\tloss:85074756.7\thyperparams: a=1.623 ap=3.476 bp=2.505 a=1.567 ap=5.675 bp=2.505\n",
      " empirical: E: 17.53 V: 9773.59\n",
      " theoretic: E: 17.29 V: 411.62\n",
      " desired: E: 25.00 V: 550.00 (eval time=8.03)\n",
      "[443.38][1241.81] best:\tloss:46.4\thyperparams: a=1.646 ap=3.460 bp=2.479 a=1.591 ap=5.640 bp=2.479 => E=18.194 V=453.973\n",
      "[443.38][1241.81] 9000/10001,\tloss:107206.4\thyperparams: a=1.623 ap=3.476 bp=2.505 a=1.567 ap=5.675 bp=2.505\n",
      " empirical: E: 18.41 V: 222.64\n",
      " theoretic: E: 17.28 V: 392.74\n",
      " desired: E: 25.00 V: 550.00 (eval time=7.99)\n",
      "[448.19][1254.62] best:\tloss:46.4\thyperparams: a=1.646 ap=3.460 bp=2.479 a=1.591 ap=5.640 bp=2.479 => E=18.206 V=435.239\n",
      "[448.19][1254.62] 9100/10001,\tloss:49502.1\thyperparams: a=1.623 ap=3.476 bp=2.505 a=1.567 ap=5.675 bp=2.505\n",
      " empirical: E: 16.52 V: 327.67\n",
      " theoretic: E: 17.29 V: 405.43\n",
      " desired: E: 25.00 V: 550.00 (eval time=8.13)\n",
      "[453.60][1268.18] best:\tloss:46.4\thyperparams: a=1.646 ap=3.460 bp=2.479 a=1.591 ap=5.640 bp=2.479 => E=18.222 V=450.003\n",
      "[453.60][1268.18] 9200/10001,\tloss:17810.2\thyperparams: a=1.623 ap=3.476 bp=2.505 a=1.567 ap=5.675 bp=2.505\n",
      " empirical: E: 18.26 V: 416.72\n",
      " theoretic: E: 17.23 V: 392.29\n",
      " desired: E: 25.00 V: 550.00 (eval time=8.50)\n",
      "[458.89][1281.98] best:\tloss:46.4\thyperparams: a=1.646 ap=3.460 bp=2.479 a=1.591 ap=5.640 bp=2.479 => E=18.190 V=443.237\n",
      "[458.89][1281.98] 9300/10001,\tloss:49680.9\thyperparams: a=1.623 ap=3.476 bp=2.505 a=1.567 ap=5.675 bp=2.505\n",
      " empirical: E: 17.40 V: 327.24\n",
      " theoretic: E: 17.30 V: 401.27\n",
      " desired: E: 25.00 V: 550.00 (eval time=7.83)\n",
      "[464.05][1294.99] best:\tloss:46.4\thyperparams: a=1.646 ap=3.460 bp=2.479 a=1.591 ap=5.640 bp=2.479 => E=18.220 V=434.532\n",
      "[464.05][1294.99] 9400/10001,\tloss:516.8\thyperparams: a=1.623 ap=3.476 bp=2.505 a=1.567 ap=5.675 bp=2.505\n",
      " empirical: E: 17.07 V: 571.30\n",
      " theoretic: E: 17.29 V: 406.87\n",
      " desired: E: 25.00 V: 550.00 (eval time=7.78)\n",
      "[468.96][1307.69] best:\tloss:46.4\thyperparams: a=1.646 ap=3.460 bp=2.479 a=1.591 ap=5.640 bp=2.479 => E=18.197 V=426.066\n",
      "[468.96][1307.69] 9500/10001,\tloss:236.0\thyperparams: a=1.623 ap=3.476 bp=2.505 a=1.567 ap=5.675 bp=2.505\n",
      " empirical: E: 16.80 V: 562.99\n",
      " theoretic: E: 17.26 V: 399.09\n",
      " desired: E: 25.00 V: 550.00 (eval time=8.55)\n",
      "[473.76][1321.05] best:\tloss:46.4\thyperparams: a=1.646 ap=3.460 bp=2.479 a=1.591 ap=5.640 bp=2.479 => E=18.207 V=449.045\n",
      "[473.76][1321.05] 9600/10001,\tloss:112287.4\thyperparams: a=1.623 ap=3.476 bp=2.505 a=1.567 ap=5.675 bp=2.505\n",
      " empirical: E: 18.35 V: 214.97\n",
      " theoretic: E: 17.27 V: 404.00\n",
      " desired: E: 25.00 V: 550.00 (eval time=8.44)\n",
      "[479.47][1335.22] best:\tloss:46.4\thyperparams: a=1.646 ap=3.460 bp=2.479 a=1.591 ap=5.640 bp=2.479 => E=18.187 V=436.835\n",
      "[479.47][1335.22] 9700/10001,\tloss:74642.2\thyperparams: a=1.623 ap=3.476 bp=2.505 a=1.567 ap=5.675 bp=2.505\n",
      " empirical: E: 17.21 V: 276.90\n",
      " theoretic: E: 17.26 V: 392.59\n",
      " desired: E: 25.00 V: 550.00 (eval time=8.13)\n",
      "[484.08][1347.98] best:\tloss:46.4\thyperparams: a=1.646 ap=3.460 bp=2.479 a=1.591 ap=5.640 bp=2.479 => E=18.222 V=441.265\n",
      "[484.08][1347.98] 9800/10001,\tloss:54045.8\thyperparams: a=1.623 ap=3.476 bp=2.505 a=1.567 ap=5.675 bp=2.505\n",
      " empirical: E: 17.85 V: 317.63\n",
      " theoretic: E: 17.23 V: 381.38\n",
      " desired: E: 25.00 V: 550.00 (eval time=8.06)\n",
      "[488.93][1360.90] best:\tloss:45.5\thyperparams: a=1.623 ap=3.476 bp=2.505 a=1.567 ap=5.675 bp=2.505 => E=17.276 V=400.811\n",
      "[488.93][1360.90] 9900/10001,\tloss:31366.2\thyperparams: a=1.623 ap=3.476 bp=2.505 a=1.567 ap=5.675 bp=2.505\n",
      " empirical: E: 16.94 V: 373.08\n",
      " theoretic: E: 17.27 V: 398.40\n",
      " desired: E: 25.00 V: 550.00 (eval time=8.03)\n",
      "[493.61][1373.61] best:\tloss:45.5\thyperparams: a=1.623 ap=3.476 bp=2.505 a=1.567 ap=5.675 bp=2.505 => E=17.256 V=394.927\n",
      "[493.61][1373.61] 10000/10001,\tloss:65757.5\thyperparams: a=1.623 ap=3.476 bp=2.505 a=1.567 ap=5.675 bp=2.505\n",
      " empirical: E: 17.38 V: 293.68\n",
      " theoretic: E: 17.29 V: 392.76\n",
      " desired: E: 25.00 V: 550.00 (eval time=7.80)\n"
     ]
    }
   ],
   "source": [
    "for iteration in range(NITER):\n",
    "  \n",
    "    ##########################################################################################################\n",
    "    # Optimization\n",
    "    iteration_start_time = time.time()\n",
    "        \n",
    "    with tf.GradientTape() as tape:        \n",
    "        p0,p1,p2 = forward_transformation(p0u), forward_transformation(p1u), forward_transformation(p2u)  \n",
    "        p3,p4,p5 = forward_transformation(p3u), forward_transformation(p4u), forward_transformation(p5u)  \n",
    "        \n",
    "        a, ap, bp, c, cp, dp =  forward_parametrization(p0,p1,p2,p3,p4,p5)           \n",
    "        expectation, variance = empirical_moments(a, ap, bp, c, cp, dp, NSAMPLES_LATENT, NSAMPLES_OUTPUT)        \n",
    "        loss = discrepancy(expectation, variance) -(LAMBDA*variance if LAMBDA>0 else 0.0) # just to be sure\n",
    "    \n",
    "    grads = tape.gradient(loss, trainable_variables)              \n",
    "    optimizer.apply_gradients(zip(grads, trainable_variables))#, global_step=tf.train.get_or_create_global_step())\n",
    "    computation_time += (time.time()-iteration_start_time)\n",
    "    \n",
    "    if loss<best_loss: #TODO Can do better by evaluating here the loss with more samples\n",
    "        #print(\"%i/%i: best: old=%.2f new=%.2f\" % (iteration, NITER, best_loss, loss.numpy()))\n",
    "        best_loss = loss.numpy()\n",
    "        best_hyperparameters = a.numpy(), ap.numpy(), bp.numpy(), c.numpy(), cp.numpy(), dp.numpy()\n",
    "        \n",
    "    ##########################################################################################################\n",
    "    # Reporting:\n",
    "    failed = not is_valid(np.array(expectation))\n",
    "    elapsed = time.time() - start\n",
    "    if (failed) or (iteration%10==0 and iteration<100) or (iteration%100==0): \n",
    "        eval_start = time.time()\n",
    "        best_E, best_V = theoretical_moments(*best_hyperparameters)\n",
    "        expectation_exact, variance_exact = theoretical_moments(a, ap, bp, c, cp, dp)        \n",
    "        \n",
    "        r = (ID, D, SEED,\n",
    "             a0, ap0, bp0, c0, cp0, dp0, NITER, LR,\n",
    "             K, NSAMPLES_LATENT, NSAMPLES_OUTPUT, \n",
    "             DESIRED_EXPECTATION, DESIRED_VARIANCE, LAMBDA,\n",
    "             ((NITER-1) if failed else iteration), computation_time, \n",
    "             a.numpy(), ap.numpy(), bp.numpy(), c.numpy(), cp.numpy(), dp.numpy(),\n",
    "             loss.numpy(), expectation_exact, variance_exact, expectation.numpy(), variance.numpy(),\n",
    "             best_loss, *best_hyperparameters, best_E, best_V,\n",
    "             failed)\n",
    "        results.append(r)\n",
    "\n",
    "    #if (failed) or (iteration<10) or (iteration<1000 and iteration%100==0)  or (iteration%1000==0):         \n",
    "        print(\"[%.2f][%.2f] best:\\tloss:%.1f\\thyperparams: a=%.3f ap=%.3f bp=%.3f a=%.3f ap=%.3f bp=%.3f => E=%.3f V=%.3f\" % \n",
    "              (computation_time, elapsed, best_loss, *best_hyperparameters, best_E, best_V))        \n",
    "        print(\"[%.2f][%.2f] %i/%i,\\tloss:%.1f\\thyperparams: a=%.3f ap=%.3f bp=%.3f a=%.3f ap=%.3f bp=%.3f\" % \n",
    "              (computation_time, elapsed, iteration, NITER, loss.numpy(), \n",
    "               a.numpy(), ap.numpy(), bp.numpy(), c.numpy(), cp.numpy(), dp.numpy()))                \n",
    "        print(\" empirical: E: %.2f V: %.2f\" % (expectation, variance) )    \n",
    "        print(\" theoretic: E: %.2f V: %.2f\" % (expectation_exact, variance_exact) )\n",
    "        print(\" desired: E: %.2f V: %.2f (eval time=%.2f)\" % (DESIRED_EXPECTATION, DESIRED_VARIANCE, time.time()-eval_start) )                \n",
    "        sys.stdout.flush()\n",
    "\n",
    "    if failed:\n",
    "        print(\"Error: ran into invalid values!\")\n",
    "        break"
   ]
  },
  {
   "cell_type": "code",
   "execution_count": 25,
   "metadata": {},
   "outputs": [
    {
     "name": "stdout",
     "output_type": "stream",
     "text": [
      "Saving results to: a=3.0 ap=3.0 bp=1.0 c=3.0 cp=3.0 dp=1.0 D=EV E=25 V=550 EID=8335 K=25 LAMBDA=0.0 LR=0.1 NITER=10001 S_LATENT=1000 S_OUTPUT=10 PARAMETRIZATION=abcd SAMPLING=0 SEED=129 TT=012345 VARIABLES_TRANSFORMATION=softplus.csv\n"
     ]
    }
   ],
   "source": [
    "path = ID+\".csv\"\n",
    "print(\"Saving results to: %s\" % path)\n",
    "df = pd.DataFrame(results)\n",
    "CN = [\"ID\", \"D\", \"SEED\", \"a0\", \"ap0\", \"bp0\", \"c0\", \"cp0\", \"dp0\", \"NITER\", \"LR\", \"K\", \"S\", \"SY\", \"E\", \"V\", \"LAMBDA\",\n",
    "      \"iteration\", \"elapsed\", \"a\", \"ap\", \"bp\", \"c\", \"cp\", \"dp\", \"loss\", \"Et\", \"Vt\", \"Ee\", \"Ve\", \n",
    "      \"best_loss\", \"best_a\", \"best_ap\", \"best_bp\", \"best_c\", \"best_cp\", \"best_dp\", \"best_E\", \"best_V\", \"failed\"]\n",
    "df.rename(columns=dict(enumerate(CN)), inplace=True)\n",
    "df.to_csv(path, header=True, index=False);"
   ]
  },
  {
   "cell_type": "markdown",
   "metadata": {},
   "source": [
    "# Visualization"
   ]
  },
  {
   "cell_type": "code",
   "execution_count": 26,
   "metadata": {},
   "outputs": [],
   "source": [
    "from aux_plt import *\n",
    "import warnings\n",
    "warnings.filterwarnings(\"ignore\")"
   ]
  },
  {
   "cell_type": "markdown",
   "metadata": {},
   "source": [
    "## Convergence analysis"
   ]
  },
  {
   "cell_type": "code",
   "execution_count": 27,
   "metadata": {},
   "outputs": [
    {
     "name": "stderr",
     "output_type": "stream",
     "text": [
      "findfont: Font family ['serif'] not found. Falling back to DejaVu Sans.\n"
     ]
    },
    {
     "data": {
      "image/png": "[encoded data removed]",
      "text/plain": [
       "<Figure size 460.8x345.6 with 2 Axes>"
      ]
     },
     "metadata": {},
     "output_type": "display_data"
    }
   ],
   "source": [
    "  start_plotting(cmbright=False)\n",
    "  ax2 = plt.subplot(212)\n",
    "  ax1 = plt.subplot(211)\n",
    "\n",
    "  means = df.groupby([\"iteration\"]).mean().reset_index()\n",
    "  stds = df.groupby([\"iteration\"]).std().reset_index()\n",
    "  assert (means.iteration == stds.iteration).all()\n",
    "  iteration = means.iteration\n",
    "    \n",
    "  e, var = theoretical_moments(a0, ap0, bp0, c0, cp0, dp0)\n",
    "  plt.title(r\"Initialization $\\mathbb{E}=%.3f$ $\\mathbb{V}=%.3f$\" % (e, var))\n",
    "    \n",
    "  plt.sca(ax1)\n",
    "  errorfill((iteration), (means[\"Et\"]), (stds[\"Et\"]), color=\"dodgerblue\", \n",
    "            alpha_fill=0.1, label=\"exact\", smooth=0)\n",
    "  errorfill((iteration), (means[\"Ee\"]), (stds[\"Ee\"]), color=\"blue\", \n",
    "            alpha_fill=0.1, label=\"empirical\", smooth=0, ls=\"--\")\n",
    "  plt.sca(ax2)\n",
    "  errorfill((iteration), (means[\"Vt\"]), (stds[\"Vt\"]), color=\"salmon\", \n",
    "            alpha_fill=0.1, label=\"exact\", smooth=0)\n",
    "  errorfill((iteration), (means[\"Ve\"]), (stds[\"Ve\"]), color=\"red\", \n",
    "            alpha_fill=0.1, label=\"empirical\", smooth=0, ls=\"--\")\n",
    "\n",
    "  plt.sca(ax2)\n",
    "  plt.xlabel(\"Iteration\")\n",
    "  plt.ylabel(r\"Variance\")\n",
    "  goal = means[\"V\"][0]\n",
    "  if goal>-1:\n",
    "    x1,x2 = plt.xlim()\n",
    "    plt.axhline(goal, lw=2.5, color=\"darkgray\", ls=\"--\")\n",
    "    plt.text(x2,goal, r\"goal $~$\", va=\"top\", ha=\"right\", fontsize=20, color=\"darkgray\")\n",
    "  plt.legend()\n",
    "  plt.ylim(0,1000)\n",
    "  \n",
    "  plt.sca(ax1)\n",
    "  plt.legend()\n",
    "  plt.xticks([],[])\n",
    "  plt.ylabel(r\"Expectation\")\n",
    "  goal = means[\"E\"][0]\n",
    "  if goal>-1:\n",
    "    x1,x2 = plt.xlim()\n",
    "    plt.axhline(goal, lw=2.5, color=\"darkgray\", ls=\"--\")\n",
    "    plt.text(x2,goal, r\"goal $~$\", va=\"top\", ha=\"right\", fontsize=20, color=\"darkgray\")\n",
    "    \n",
    "  plt.show()"
   ]
  },
  {
   "cell_type": "markdown",
   "metadata": {},
   "source": [
    "## The best value(s) found up to certain iteration"
   ]
  },
  {
   "cell_type": "code",
   "execution_count": 28,
   "metadata": {},
   "outputs": [
    {
     "data": {
      "image/png": "[encoded data removed]",
      "text/plain": [
       "<Figure size 460.8x345.6 with 2 Axes>"
      ]
     },
     "metadata": {},
     "output_type": "display_data"
    }
   ],
   "source": [
    "  start_plotting(cmbright=False)\n",
    "  ax2 = plt.subplot(212)\n",
    "  ax1 = plt.subplot(211)\n",
    "\n",
    "  means = df.groupby([\"iteration\"]).mean().reset_index()\n",
    "  stds = df.groupby([\"iteration\"]).std().reset_index()\n",
    "  assert (means.iteration == stds.iteration).all()\n",
    "  #xs = means.iteration; xlabel = \"Iteration\" # Iteration on horizontal axis\n",
    "  xs = means.elapsed; xlabel = \"Time [s]\" # Time on horizontal axis\n",
    "    \n",
    "  e, var = theoretical_moments(a0, ap0, bp0, c0, cp0, dp0)\n",
    "  plt.title(r\"Initialization $\\mathbb{E}=%.0f$ $\\mathbb{V}=%.0f$\" % (e, var))\n",
    "    \n",
    "  plt.sca(ax1)\n",
    "  errorfill((xs), (means[\"best_E\"]), (stds[\"best_E\"]), color=\"dodgerblue\", \n",
    "            alpha_fill=0.1, label=\"theoretical for the best\", smooth=0)\n",
    "  plt.sca(ax2)\n",
    "  errorfill((xs), (means[\"best_V\"]), (stds[\"best_V\"]), color=\"salmon\", \n",
    "            alpha_fill=0.1, label=\"theoretical for the best\", smooth=0)\n",
    "\n",
    "  plt.sca(ax2)      \n",
    "  plt.xlabel(xlabel)\n",
    "  plt.ylabel(r\"Variance\")\n",
    "  goal = means[\"V\"][0]\n",
    "  if goal>-1:\n",
    "    x1,x2 = plt.xlim()\n",
    "    plt.axhline(goal, lw=2.5, color=\"darkgray\", ls=\"--\")\n",
    "    plt.text(x2,goal, r\"goal $~$\", va=\"top\", ha=\"right\", fontsize=20, color=\"darkgray\")\n",
    "  plt.legend()\n",
    "  plt.ylim(0,3000)\n",
    "    \n",
    "  \n",
    "  plt.sca(ax1)\n",
    "  plt.legend()\n",
    "  plt.xticks([],[])\n",
    "  plt.ylabel(r\"Expectation\")\n",
    "  goal = means[\"E\"][0]\n",
    "  if goal>-1:\n",
    "    x1,x2 = plt.xlim()\n",
    "    plt.axhline(goal, lw=2.5, color=\"darkgray\", ls=\"--\")\n",
    "    plt.text(x2,goal, r\"goal $~$\", va=\"top\", ha=\"right\", fontsize=20, color=\"darkgray\")\n",
    "    \n",
    "  plt.show()"
   ]
  },
  {
   "cell_type": "markdown",
   "metadata": {},
   "source": [
    "## Hyperameters' values during optimization"
   ]
  },
  {
   "cell_type": "code",
   "execution_count": 29,
   "metadata": {},
   "outputs": [
    {
     "name": "stderr",
     "output_type": "stream",
     "text": [
      "findfont: Font family ['serif'] not found. Falling back to DejaVu Sans.\n"
     ]
    },
    {
     "data": {
      "image/png": "[encoded data removed]",
      "text/plain": [
       "<Figure size 460.8x345.6 with 1 Axes>"
      ]
     },
     "metadata": {},
     "output_type": "display_data"
    }
   ],
   "source": [
    "  start_plotting(cmbright=False)\n",
    "  \n",
    "  means = df.groupby([\"iteration\"]).mean().reset_index()\n",
    "  stds = df.groupby([\"iteration\"]).std().reset_index()\n",
    "  assert (means.iteration == stds.iteration).all()\n",
    "  iteration = means.iteration  \n",
    "  \n",
    "  e, var = theoretical_moments(a0, ap0, bp0, c0, cp0, dp0)\n",
    "  plt.title(r\"Initialization: $\\mathbb{E}=%.0f$ $\\mathbb{V}=%.0f$\" % (e, var), fontsize=20)\n",
    "  \n",
    "  errorfill((iteration), (means[\"a\"]), (stds[\"a\"]), color=COLORS[0], alpha_fill=0.2, smooth=0, ls=\"-\", label=\"a\")\n",
    "  errorfill((iteration), (means[\"ap\"]), (stds[\"ap\"]), color=COLORS[1], alpha_fill=0.2, smooth=0, ls=\"-\", label=\"a'\")\n",
    "  errorfill((iteration), (means[\"bp\"]), (stds[\"bp\"]), color=COLORS[2], alpha_fill=0.2, smooth=0, ls=\"-\", label=\"b'\")\n",
    "  errorfill((iteration), (means[\"c\"]), (stds[\"c\"]), color=COLORS[3], alpha_fill=0.2, smooth=0, ls=\"-\", label=\"c\")\n",
    "  errorfill((iteration), (means[\"cp\"]), (stds[\"cp\"]), color=COLORS[4], alpha_fill=0.2, smooth=0, ls=\"-\", label=\"c'\")\n",
    "  errorfill((iteration), (means[\"dp\"]), (stds[\"dp\"]), color=COLORS[5], alpha_fill=0.2, smooth=0, ls=\"-\", label=\"d'\")\n",
    "\n",
    "  plt.legend(fontsize=15)  \n",
    "  plt.xlabel(\"Iteration\")\n",
    "  plt.ylabel(\"Value\")\n",
    "  plt.show()  "
   ]
  },
  {
   "cell_type": "code",
   "execution_count": null,
   "metadata": {},
   "outputs": [],
   "source": []
  }
 ],
 "metadata": {
  "colab": {
   "collapsed_sections": [],
   "name": "HPF Matching priors",
   "private_outputs": true,
   "provenance": [],
   "version": "0.3.2"
  },
  "kernelspec": {
   "display_name": "Python 3",
   "language": "python",
   "name": "python3"
  },
  "language_info": {
   "codemirror_mode": {
    "name": "ipython",
    "version": 3
   },
   "file_extension": ".py",
   "mimetype": "text/x-python",
   "name": "python",
   "nbconvert_exporter": "python",
   "pygments_lexer": "ipython3",
   "version": "3.7.4"
  }
 },
 "nbformat": 4,
 "nbformat_minor": 1
}
